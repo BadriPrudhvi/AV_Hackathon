{
 "cells": [
  {
   "cell_type": "code",
   "execution_count": 60,
   "metadata": {},
   "outputs": [],
   "source": [
    "import pandas as pd\n",
    "import numpy as np\n",
    "import re\n",
    "import seaborn as sns\n",
    "from datetime import datetime\n",
    "import matplotlib.pyplot as plt\n",
    "from matplotlib.pylab import rcParams\n",
    "import warnings"
   ]
  },
  {
   "cell_type": "code",
   "execution_count": 61,
   "metadata": {},
   "outputs": [],
   "source": [
    "warnings.filterwarnings(\"ignore\")\n",
    "rcParams['figure.figsize'] = 12, 8"
   ]
  },
  {
   "cell_type": "code",
   "execution_count": 62,
   "metadata": {},
   "outputs": [],
   "source": [
    "def show_all(df):\n",
    "    with pd.option_context(\"display.max_rows\", 1000, \"display.max_columns\", 1000): \n",
    "        display(df)\n",
    "        \n",
    "def data_viz(df, cols, target = None, plot_type = 'bar'):\n",
    "    col_length = len(cols)\n",
    "    \n",
    "    if(plot_type == 'hist'):\n",
    "        col_prop = round(col_length/2)\n",
    "        fig, ax = plt.subplots(col_prop, 2, figsize=(20, 6 * col_prop))\n",
    "    else:\n",
    "        col_prop = round(col_length/2)\n",
    "        fig, ax = plt.subplots(col_prop, 2, figsize=(20, 7 * col_prop))\n",
    "    \n",
    "    if(plot_type=='bar_target'):\n",
    "        for variable, subplot in zip(cols, ax.flatten()):\n",
    "            ct = pd.crosstab(df[variable], df[target])\n",
    "            ct.plot.bar(stacked=True, ax=subplot)\n",
    "            for label in subplot.get_xticklabels():\n",
    "                label.set_rotation(15)\n",
    "    elif(plot_type == 'bar'):\n",
    "        for variable, subplot in zip(cols, ax.flatten()):\n",
    "            sns.countplot(df[variable], ax=subplot)\n",
    "            for label in subplot.get_xticklabels():\n",
    "                label.set_rotation(30)\n",
    "    elif(plot_type == 'box'):       \n",
    "        for variable, subplot in zip(cols, ax.flatten()):\n",
    "            sorted_vals = df.groupby([variable])[target].mean().sort_values()\n",
    "            sns.boxplot(x=variable, y=target, data=df, ax=subplot, order=list(sorted_vals.index))\n",
    "            for label in subplot.get_xticklabels():\n",
    "                label.set_rotation(30)\n",
    "    elif(plot_type == 'hist'):\n",
    "        for variable, subplot in zip(cols, ax.flatten()):\n",
    "            df[variable].fillna(df[variable].mean(), inplace=True)\n",
    "            sns.distplot(df[variable], ax=subplot)\n",
    "            for label in subplot.get_xticklabels():\n",
    "                label.set_rotation(15)"
   ]
  },
  {
   "cell_type": "code",
   "execution_count": 63,
   "metadata": {},
   "outputs": [
    {
     "output_type": "stream",
     "name": "stdout",
     "text": "CPU times: user 51.8 ms, sys: 12.9 ms, total: 64.7 ms\nWall time: 64.2 ms\n"
    }
   ],
   "source": [
    "%%time\n",
    "train = pd.read_csv('input/train.csv')\n",
    "test = pd.read_csv('input/test.csv')\n",
    "submission = pd.read_csv('input/sample_submission.csv')"
   ]
  },
  {
   "cell_type": "code",
   "execution_count": 64,
   "metadata": {},
   "outputs": [
    {
     "output_type": "execute_result",
     "data": {
      "text/plain": "((18359, 14), (15021, 13), (15021, 2))"
     },
     "metadata": {},
     "execution_count": 64
    }
   ],
   "source": [
    "train.shape, test.shape, submission.shape"
   ]
  },
  {
   "cell_type": "code",
   "execution_count": 65,
   "metadata": {},
   "outputs": [
    {
     "output_type": "display_data",
     "data": {
      "text/plain": "   enrollee_id      city  city_development_index gender  \\\n0        23798  city_149                   0.689   Male   \n1        29166   city_83                   0.923   Male   \n2           46   city_16                   0.910    NaN   \n3        18527   city_64                   0.666   Male   \n4        21751  city_100                   0.887    NaN   \n\n       relevent_experience enrolled_university education_level  \\\n0  Has relevent experience       no_enrollment        Graduate   \n1  Has relevent experience       no_enrollment        Graduate   \n2  Has relevent experience       no_enrollment        Graduate   \n3  Has relevent experience       no_enrollment        Graduate   \n4   No relevent experience       no_enrollment         Masters   \n\n  major_discipline experience company_size    company_type last_new_job  \\\n0             STEM          3      100-500         Pvt Ltd            1   \n1             STEM         14          <10  Funded Startup            1   \n2             STEM          6        50-99   Public Sector            2   \n3             STEM         14        50-99         Pvt Ltd            1   \n4             STEM          8          NaN             NaN            2   \n\n   training_hours  target  \n0             106       0  \n1              69       0  \n2               4       0  \n3              26       0  \n4              88       1  ",
      "text/html": "<div>\n<style scoped>\n    .dataframe tbody tr th:only-of-type {\n        vertical-align: middle;\n    }\n\n    .dataframe tbody tr th {\n        vertical-align: top;\n    }\n\n    .dataframe thead th {\n        text-align: right;\n    }\n</style>\n<table border=\"1\" class=\"dataframe\">\n  <thead>\n    <tr style=\"text-align: right;\">\n      <th></th>\n      <th>enrollee_id</th>\n      <th>city</th>\n      <th>city_development_index</th>\n      <th>gender</th>\n      <th>relevent_experience</th>\n      <th>enrolled_university</th>\n      <th>education_level</th>\n      <th>major_discipline</th>\n      <th>experience</th>\n      <th>company_size</th>\n      <th>company_type</th>\n      <th>last_new_job</th>\n      <th>training_hours</th>\n      <th>target</th>\n    </tr>\n  </thead>\n  <tbody>\n    <tr>\n      <th>0</th>\n      <td>23798</td>\n      <td>city_149</td>\n      <td>0.689</td>\n      <td>Male</td>\n      <td>Has relevent experience</td>\n      <td>no_enrollment</td>\n      <td>Graduate</td>\n      <td>STEM</td>\n      <td>3</td>\n      <td>100-500</td>\n      <td>Pvt Ltd</td>\n      <td>1</td>\n      <td>106</td>\n      <td>0</td>\n    </tr>\n    <tr>\n      <th>1</th>\n      <td>29166</td>\n      <td>city_83</td>\n      <td>0.923</td>\n      <td>Male</td>\n      <td>Has relevent experience</td>\n      <td>no_enrollment</td>\n      <td>Graduate</td>\n      <td>STEM</td>\n      <td>14</td>\n      <td>&lt;10</td>\n      <td>Funded Startup</td>\n      <td>1</td>\n      <td>69</td>\n      <td>0</td>\n    </tr>\n    <tr>\n      <th>2</th>\n      <td>46</td>\n      <td>city_16</td>\n      <td>0.910</td>\n      <td>NaN</td>\n      <td>Has relevent experience</td>\n      <td>no_enrollment</td>\n      <td>Graduate</td>\n      <td>STEM</td>\n      <td>6</td>\n      <td>50-99</td>\n      <td>Public Sector</td>\n      <td>2</td>\n      <td>4</td>\n      <td>0</td>\n    </tr>\n    <tr>\n      <th>3</th>\n      <td>18527</td>\n      <td>city_64</td>\n      <td>0.666</td>\n      <td>Male</td>\n      <td>Has relevent experience</td>\n      <td>no_enrollment</td>\n      <td>Graduate</td>\n      <td>STEM</td>\n      <td>14</td>\n      <td>50-99</td>\n      <td>Pvt Ltd</td>\n      <td>1</td>\n      <td>26</td>\n      <td>0</td>\n    </tr>\n    <tr>\n      <th>4</th>\n      <td>21751</td>\n      <td>city_100</td>\n      <td>0.887</td>\n      <td>NaN</td>\n      <td>No relevent experience</td>\n      <td>no_enrollment</td>\n      <td>Masters</td>\n      <td>STEM</td>\n      <td>8</td>\n      <td>NaN</td>\n      <td>NaN</td>\n      <td>2</td>\n      <td>88</td>\n      <td>1</td>\n    </tr>\n  </tbody>\n</table>\n</div>"
     },
     "metadata": {}
    }
   ],
   "source": [
    "show_all(train.head())"
   ]
  },
  {
   "cell_type": "code",
   "execution_count": 66,
   "metadata": {},
   "outputs": [
    {
     "output_type": "display_data",
     "data": {
      "text/plain": "   enrollee_id      city  city_development_index gender  \\\n0        16548   city_33                   0.448    NaN   \n1        12036   city_28                   0.939   Male   \n2        11061  city_103                   0.920   Male   \n3         5032  city_104                   0.924   Male   \n4        17599   city_77                   0.830   Male   \n\n       relevent_experience enrolled_university education_level  \\\n0   No relevent experience    Full time course        Graduate   \n1   No relevent experience       no_enrollment        Graduate   \n2   No relevent experience    Full time course        Graduate   \n3   No relevent experience       no_enrollment             Phd   \n4  Has relevent experience       no_enrollment        Graduate   \n\n  major_discipline experience company_size   company_type last_new_job  \\\n0             STEM         <1    1000-4999  Public Sector          NaN   \n1             STEM        >20        50-99        Pvt Ltd            1   \n2             STEM          3          NaN            NaN            1   \n3             STEM        >20        50-99        Pvt Ltd            2   \n4             STEM          6          <10        Pvt Ltd            2   \n\n   training_hours  \n0              15  \n1              94  \n2              17  \n3              76  \n4              65  ",
      "text/html": "<div>\n<style scoped>\n    .dataframe tbody tr th:only-of-type {\n        vertical-align: middle;\n    }\n\n    .dataframe tbody tr th {\n        vertical-align: top;\n    }\n\n    .dataframe thead th {\n        text-align: right;\n    }\n</style>\n<table border=\"1\" class=\"dataframe\">\n  <thead>\n    <tr style=\"text-align: right;\">\n      <th></th>\n      <th>enrollee_id</th>\n      <th>city</th>\n      <th>city_development_index</th>\n      <th>gender</th>\n      <th>relevent_experience</th>\n      <th>enrolled_university</th>\n      <th>education_level</th>\n      <th>major_discipline</th>\n      <th>experience</th>\n      <th>company_size</th>\n      <th>company_type</th>\n      <th>last_new_job</th>\n      <th>training_hours</th>\n    </tr>\n  </thead>\n  <tbody>\n    <tr>\n      <th>0</th>\n      <td>16548</td>\n      <td>city_33</td>\n      <td>0.448</td>\n      <td>NaN</td>\n      <td>No relevent experience</td>\n      <td>Full time course</td>\n      <td>Graduate</td>\n      <td>STEM</td>\n      <td>&lt;1</td>\n      <td>1000-4999</td>\n      <td>Public Sector</td>\n      <td>NaN</td>\n      <td>15</td>\n    </tr>\n    <tr>\n      <th>1</th>\n      <td>12036</td>\n      <td>city_28</td>\n      <td>0.939</td>\n      <td>Male</td>\n      <td>No relevent experience</td>\n      <td>no_enrollment</td>\n      <td>Graduate</td>\n      <td>STEM</td>\n      <td>&gt;20</td>\n      <td>50-99</td>\n      <td>Pvt Ltd</td>\n      <td>1</td>\n      <td>94</td>\n    </tr>\n    <tr>\n      <th>2</th>\n      <td>11061</td>\n      <td>city_103</td>\n      <td>0.920</td>\n      <td>Male</td>\n      <td>No relevent experience</td>\n      <td>Full time course</td>\n      <td>Graduate</td>\n      <td>STEM</td>\n      <td>3</td>\n      <td>NaN</td>\n      <td>NaN</td>\n      <td>1</td>\n      <td>17</td>\n    </tr>\n    <tr>\n      <th>3</th>\n      <td>5032</td>\n      <td>city_104</td>\n      <td>0.924</td>\n      <td>Male</td>\n      <td>No relevent experience</td>\n      <td>no_enrollment</td>\n      <td>Phd</td>\n      <td>STEM</td>\n      <td>&gt;20</td>\n      <td>50-99</td>\n      <td>Pvt Ltd</td>\n      <td>2</td>\n      <td>76</td>\n    </tr>\n    <tr>\n      <th>4</th>\n      <td>17599</td>\n      <td>city_77</td>\n      <td>0.830</td>\n      <td>Male</td>\n      <td>Has relevent experience</td>\n      <td>no_enrollment</td>\n      <td>Graduate</td>\n      <td>STEM</td>\n      <td>6</td>\n      <td>&lt;10</td>\n      <td>Pvt Ltd</td>\n      <td>2</td>\n      <td>65</td>\n    </tr>\n  </tbody>\n</table>\n</div>"
     },
     "metadata": {}
    }
   ],
   "source": [
    "show_all(test.head())"
   ]
  },
  {
   "cell_type": "code",
   "execution_count": 67,
   "metadata": {},
   "outputs": [
    {
     "output_type": "display_data",
     "data": {
      "text/plain": "   enrollee_id  target\n0        16548       0\n1        12036       0\n2        11061       0\n3         5032       0\n4        17599       0",
      "text/html": "<div>\n<style scoped>\n    .dataframe tbody tr th:only-of-type {\n        vertical-align: middle;\n    }\n\n    .dataframe tbody tr th {\n        vertical-align: top;\n    }\n\n    .dataframe thead th {\n        text-align: right;\n    }\n</style>\n<table border=\"1\" class=\"dataframe\">\n  <thead>\n    <tr style=\"text-align: right;\">\n      <th></th>\n      <th>enrollee_id</th>\n      <th>target</th>\n    </tr>\n  </thead>\n  <tbody>\n    <tr>\n      <th>0</th>\n      <td>16548</td>\n      <td>0</td>\n    </tr>\n    <tr>\n      <th>1</th>\n      <td>12036</td>\n      <td>0</td>\n    </tr>\n    <tr>\n      <th>2</th>\n      <td>11061</td>\n      <td>0</td>\n    </tr>\n    <tr>\n      <th>3</th>\n      <td>5032</td>\n      <td>0</td>\n    </tr>\n    <tr>\n      <th>4</th>\n      <td>17599</td>\n      <td>0</td>\n    </tr>\n  </tbody>\n</table>\n</div>"
     },
     "metadata": {}
    }
   ],
   "source": [
    "show_all(submission.head())"
   ]
  },
  {
   "cell_type": "code",
   "execution_count": 68,
   "metadata": {},
   "outputs": [
    {
     "output_type": "stream",
     "name": "stdout",
     "text": "<class 'pandas.core.frame.DataFrame'>\nRangeIndex: 18359 entries, 0 to 18358\nData columns (total 14 columns):\n #   Column                  Non-Null Count  Dtype  \n---  ------                  --------------  -----  \n 0   enrollee_id             18359 non-null  int64  \n 1   city                    18359 non-null  object \n 2   city_development_index  18359 non-null  float64\n 3   gender                  14261 non-null  object \n 4   relevent_experience     18359 non-null  object \n 5   enrolled_university     18017 non-null  object \n 6   education_level         17902 non-null  object \n 7   major_discipline        15521 non-null  object \n 8   experience              18300 non-null  object \n 9   company_size            13580 non-null  object \n 10  company_type            13320 non-null  object \n 11  last_new_job            17992 non-null  object \n 12  training_hours          18359 non-null  int64  \n 13  target                  18359 non-null  int64  \ndtypes: float64(1), int64(3), object(10)\nmemory usage: 2.0+ MB\n"
    }
   ],
   "source": [
    "train.info()"
   ]
  },
  {
   "cell_type": "code",
   "execution_count": 69,
   "metadata": {},
   "outputs": [
    {
     "output_type": "display_data",
     "data": {
      "text/plain": "       city_development_index  training_hours        target\ncount            18359.000000    18359.000000  18359.000000\nmean                 0.847140       65.899014      0.132088\nstd                  0.110189       60.885300      0.338595\nmin                  0.448000        1.000000      0.000000\n25%                  0.796000       23.000000      0.000000\n50%                  0.910000       47.000000      0.000000\n75%                  0.920000       89.000000      0.000000\nmax                  0.949000      336.000000      1.000000",
      "text/html": "<div>\n<style scoped>\n    .dataframe tbody tr th:only-of-type {\n        vertical-align: middle;\n    }\n\n    .dataframe tbody tr th {\n        vertical-align: top;\n    }\n\n    .dataframe thead th {\n        text-align: right;\n    }\n</style>\n<table border=\"1\" class=\"dataframe\">\n  <thead>\n    <tr style=\"text-align: right;\">\n      <th></th>\n      <th>city_development_index</th>\n      <th>training_hours</th>\n      <th>target</th>\n    </tr>\n  </thead>\n  <tbody>\n    <tr>\n      <th>count</th>\n      <td>18359.000000</td>\n      <td>18359.000000</td>\n      <td>18359.000000</td>\n    </tr>\n    <tr>\n      <th>mean</th>\n      <td>0.847140</td>\n      <td>65.899014</td>\n      <td>0.132088</td>\n    </tr>\n    <tr>\n      <th>std</th>\n      <td>0.110189</td>\n      <td>60.885300</td>\n      <td>0.338595</td>\n    </tr>\n    <tr>\n      <th>min</th>\n      <td>0.448000</td>\n      <td>1.000000</td>\n      <td>0.000000</td>\n    </tr>\n    <tr>\n      <th>25%</th>\n      <td>0.796000</td>\n      <td>23.000000</td>\n      <td>0.000000</td>\n    </tr>\n    <tr>\n      <th>50%</th>\n      <td>0.910000</td>\n      <td>47.000000</td>\n      <td>0.000000</td>\n    </tr>\n    <tr>\n      <th>75%</th>\n      <td>0.920000</td>\n      <td>89.000000</td>\n      <td>0.000000</td>\n    </tr>\n    <tr>\n      <th>max</th>\n      <td>0.949000</td>\n      <td>336.000000</td>\n      <td>1.000000</td>\n    </tr>\n  </tbody>\n</table>\n</div>"
     },
     "metadata": {}
    }
   ],
   "source": [
    "show_all(train.iloc[:,1:].describe())"
   ]
  },
  {
   "cell_type": "code",
   "execution_count": 70,
   "metadata": {},
   "outputs": [
    {
     "output_type": "stream",
     "name": "stdout",
     "text": "gender                 4098\nenrolled_university     342\neducation_level         457\nmajor_discipline       2838\nexperience               59\ncompany_size           4779\ncompany_type           5039\nlast_new_job            367\ndtype: int64\ngender                 3388\nenrolled_university     279\neducation_level         395\nmajor_discipline       2393\nexperience               44\ncompany_size           4051\ncompany_type           4330\nlast_new_job            304\ndtype: int64\n"
    }
   ],
   "source": [
    "for df in (train, test):\n",
    "    missing_stats = df.isnull().sum()\n",
    "    print(missing_stats[missing_stats != 0])"
   ]
  },
  {
   "cell_type": "code",
   "execution_count": 71,
   "metadata": {},
   "outputs": [],
   "source": [
    "test['target'] = -1"
   ]
  },
  {
   "cell_type": "code",
   "execution_count": 72,
   "metadata": {},
   "outputs": [
    {
     "output_type": "execute_result",
     "data": {
      "text/plain": "(33380, 14)"
     },
     "metadata": {},
     "execution_count": 72
    }
   ],
   "source": [
    "full_data = train.append(test)\n",
    "full_data.shape"
   ]
  },
  {
   "cell_type": "markdown",
   "metadata": {},
   "source": [
    "## Exploratory Analysis"
   ]
  },
  {
   "cell_type": "code",
   "execution_count": 73,
   "metadata": {},
   "outputs": [
    {
     "output_type": "execute_result",
     "data": {
      "text/plain": "Index(['enrollee_id', 'city', 'city_development_index', 'gender',\n       'relevent_experience', 'enrolled_university', 'education_level',\n       'major_discipline', 'experience', 'company_size', 'company_type',\n       'last_new_job', 'training_hours', 'target'],\n      dtype='object')"
     },
     "metadata": {},
     "execution_count": 73
    }
   ],
   "source": [
    "train.columns"
   ]
  },
  {
   "cell_type": "code",
   "execution_count": 74,
   "metadata": {},
   "outputs": [],
   "source": [
    "id_col = ['enrollee_id']\n",
    "cat_cols = train.select_dtypes(include=['object']).columns.tolist()\n",
    "target_col = 'target'"
   ]
  },
  {
   "cell_type": "code",
   "execution_count": 75,
   "metadata": {},
   "outputs": [
    {
     "output_type": "stream",
     "name": "stdout",
     "text": "enrollee_id: 33380\ncity: 123\ncity_development_index: 93\ngender: 3\nrelevent_experience: 2\nenrolled_university: 3\neducation_level: 5\nmajor_discipline: 6\nexperience: 22\ncompany_size: 8\ncompany_type: 6\nlast_new_job: 6\ntraining_hours: 241\ntarget: 3\n"
    }
   ],
   "source": [
    "for col in full_data.columns:\n",
    "    print(f\"{col}: {full_data[col].nunique()}\")"
   ]
  },
  {
   "cell_type": "code",
   "execution_count": 76,
   "metadata": {},
   "outputs": [
    {
     "output_type": "execute_result",
     "data": {
      "text/plain": "0    0.867912\n1    0.132088\nName: target, dtype: float64"
     },
     "metadata": {},
     "execution_count": 76
    }
   ],
   "source": [
    "train[target_col].value_counts(normalize=True)"
   ]
  },
  {
   "cell_type": "code",
   "execution_count": 77,
   "metadata": {},
   "outputs": [
    {
     "output_type": "stream",
     "name": "stdout",
     "text": "city:\ncity_103    4358\ncity_21     1672\ncity_16     1654\ncity_114    1472\ncity_160     827\n            ... \ncity_111       3\ncity_121       3\ncity_129       3\ncity_171       2\ncity_140       1\nName: city, Length: 123, dtype: int64\n\ngender:\nMale      12884\nFemale     1188\nOther       189\nName: gender, dtype: int64\n\nrelevent_experience:\nHas relevent experience    13596\nNo relevent experience      4763\nName: relevent_experience, dtype: int64\n\nenrolled_university:\nno_enrollment       13659\nFull time course     3187\nPart time course     1171\nName: enrolled_university, dtype: int64\n\neducation_level:\nGraduate          10769\nMasters            4319\nHigh School        2032\nPhd                 459\nPrimary School      323\nName: education_level, dtype: int64\n\nmajor_discipline:\nSTEM               13738\nHumanities           688\nOther                343\nBusiness Degree      307\nArts                 239\nNo Major             206\nName: major_discipline, dtype: int64\n\nexperience:\n>20    3437\n5      1309\n4      1250\n3      1159\n6      1125\n2       992\n9       979\n10      967\n7       950\n8       755\n15      695\n11      667\n14      602\n16      549\n12      497\n1       452\n<1      416\n13      412\n17      347\n19      308\n18      286\n20      146\nName: experience, dtype: int64\n\ncompany_size:\n50-99        3120\n100-500      2698\n10000+       2044\n10/49        1466\n1000-4999    1399\n<10          1360\n500-999       902\n5000-9999     591\nName: company_size, dtype: int64\n\ncompany_type:\nPvt Ltd                10051\nFunded Startup          1038\nPublic Sector            996\nEarly Stage Startup      582\nNGO                      534\nOther                    119\nName: company_type, dtype: int64\n\nlast_new_job:\n1        7567\n>4       3339\n2        2835\nnever    2186\n4        1038\n3        1027\nName: last_new_job, dtype: int64\n\n"
    }
   ],
   "source": [
    "for col in cat_cols:\n",
    "    print(f\"{col}:\\n{train[col].value_counts()}\\n\")"
   ]
  },
  {
   "cell_type": "code",
   "execution_count": 78,
   "metadata": {},
   "outputs": [],
   "source": [
    "# data_viz(train, cols = cat_cols, target='target', plot_type = 'bar_target')"
   ]
  },
  {
   "cell_type": "markdown",
   "metadata": {},
   "source": [
    "## Feature Engineering"
   ]
  },
  {
   "cell_type": "code",
   "execution_count": 79,
   "metadata": {},
   "outputs": [
    {
     "output_type": "display_data",
     "data": {
      "text/plain": "   enrollee_id      city  city_development_index gender  \\\n0        23798  city_149                   0.689   Male   \n1        29166   city_83                   0.923   Male   \n2           46   city_16                   0.910    NaN   \n3        18527   city_64                   0.666   Male   \n4        21751  city_100                   0.887    NaN   \n\n       relevent_experience enrolled_university education_level  \\\n0  Has relevent experience       no_enrollment        Graduate   \n1  Has relevent experience       no_enrollment        Graduate   \n2  Has relevent experience       no_enrollment        Graduate   \n3  Has relevent experience       no_enrollment        Graduate   \n4   No relevent experience       no_enrollment         Masters   \n\n  major_discipline experience company_size    company_type last_new_job  \\\n0             STEM          3      100-500         Pvt Ltd            1   \n1             STEM         14          <10  Funded Startup            1   \n2             STEM          6        50-99   Public Sector            2   \n3             STEM         14        50-99         Pvt Ltd            1   \n4             STEM          8          NaN             NaN            2   \n\n   training_hours  target  \n0             106       0  \n1              69       0  \n2               4       0  \n3              26       0  \n4              88       1  ",
      "text/html": "<div>\n<style scoped>\n    .dataframe tbody tr th:only-of-type {\n        vertical-align: middle;\n    }\n\n    .dataframe tbody tr th {\n        vertical-align: top;\n    }\n\n    .dataframe thead th {\n        text-align: right;\n    }\n</style>\n<table border=\"1\" class=\"dataframe\">\n  <thead>\n    <tr style=\"text-align: right;\">\n      <th></th>\n      <th>enrollee_id</th>\n      <th>city</th>\n      <th>city_development_index</th>\n      <th>gender</th>\n      <th>relevent_experience</th>\n      <th>enrolled_university</th>\n      <th>education_level</th>\n      <th>major_discipline</th>\n      <th>experience</th>\n      <th>company_size</th>\n      <th>company_type</th>\n      <th>last_new_job</th>\n      <th>training_hours</th>\n      <th>target</th>\n    </tr>\n  </thead>\n  <tbody>\n    <tr>\n      <th>0</th>\n      <td>23798</td>\n      <td>city_149</td>\n      <td>0.689</td>\n      <td>Male</td>\n      <td>Has relevent experience</td>\n      <td>no_enrollment</td>\n      <td>Graduate</td>\n      <td>STEM</td>\n      <td>3</td>\n      <td>100-500</td>\n      <td>Pvt Ltd</td>\n      <td>1</td>\n      <td>106</td>\n      <td>0</td>\n    </tr>\n    <tr>\n      <th>1</th>\n      <td>29166</td>\n      <td>city_83</td>\n      <td>0.923</td>\n      <td>Male</td>\n      <td>Has relevent experience</td>\n      <td>no_enrollment</td>\n      <td>Graduate</td>\n      <td>STEM</td>\n      <td>14</td>\n      <td>&lt;10</td>\n      <td>Funded Startup</td>\n      <td>1</td>\n      <td>69</td>\n      <td>0</td>\n    </tr>\n    <tr>\n      <th>2</th>\n      <td>46</td>\n      <td>city_16</td>\n      <td>0.910</td>\n      <td>NaN</td>\n      <td>Has relevent experience</td>\n      <td>no_enrollment</td>\n      <td>Graduate</td>\n      <td>STEM</td>\n      <td>6</td>\n      <td>50-99</td>\n      <td>Public Sector</td>\n      <td>2</td>\n      <td>4</td>\n      <td>0</td>\n    </tr>\n    <tr>\n      <th>3</th>\n      <td>18527</td>\n      <td>city_64</td>\n      <td>0.666</td>\n      <td>Male</td>\n      <td>Has relevent experience</td>\n      <td>no_enrollment</td>\n      <td>Graduate</td>\n      <td>STEM</td>\n      <td>14</td>\n      <td>50-99</td>\n      <td>Pvt Ltd</td>\n      <td>1</td>\n      <td>26</td>\n      <td>0</td>\n    </tr>\n    <tr>\n      <th>4</th>\n      <td>21751</td>\n      <td>city_100</td>\n      <td>0.887</td>\n      <td>NaN</td>\n      <td>No relevent experience</td>\n      <td>no_enrollment</td>\n      <td>Masters</td>\n      <td>STEM</td>\n      <td>8</td>\n      <td>NaN</td>\n      <td>NaN</td>\n      <td>2</td>\n      <td>88</td>\n      <td>1</td>\n    </tr>\n  </tbody>\n</table>\n</div>"
     },
     "metadata": {}
    }
   ],
   "source": [
    "show_all(full_data.head(5))"
   ]
  },
  {
   "cell_type": "code",
   "execution_count": 80,
   "metadata": {},
   "outputs": [],
   "source": [
    "for cat_col in cat_cols:\n",
    "    for num_col in ['training_hours', 'city_development_index']:\n",
    "        full_data[f'{cat_col}_{num_col}_std'] = full_data.groupby([cat_col])[num_col].transform('std')"
   ]
  },
  {
   "cell_type": "code",
   "execution_count": 81,
   "metadata": {},
   "outputs": [],
   "source": [
    "for col in cat_cols:\n",
    "    full_data[f'{col}_cnt'] = full_data.groupby([col])['enrollee_id'].transform('size')"
   ]
  },
  {
   "cell_type": "markdown",
   "metadata": {},
   "source": [
    "## Modeling"
   ]
  },
  {
   "cell_type": "code",
   "execution_count": 82,
   "metadata": {},
   "outputs": [],
   "source": [
    "import sys\n",
    "sys.path.append('ml_modules/')"
   ]
  },
  {
   "cell_type": "code",
   "execution_count": 83,
   "metadata": {},
   "outputs": [],
   "source": [
    "from custom_estimator import Estimator\n",
    "from encoding import FreqeuncyEncoding\n",
    "from lightgbm import LGBMClassifier\n",
    "from xgboost import XGBClassifier\n",
    "from catboost import CatBoostClassifier\n",
    "import category_encoders as enc\n",
    "from sklearn.metrics import roc_auc_score\n",
    "from sklearn import model_selection"
   ]
  },
  {
   "cell_type": "code",
   "execution_count": 84,
   "metadata": {},
   "outputs": [],
   "source": [
    "train_data = full_data[full_data[target_col] != -1]\n",
    "test_data = full_data[full_data[target_col] == -1]"
   ]
  },
  {
   "cell_type": "code",
   "execution_count": 85,
   "metadata": {},
   "outputs": [],
   "source": [
    "categorical_cols = cat_cols"
   ]
  },
  {
   "cell_type": "code",
   "execution_count": 86,
   "metadata": {},
   "outputs": [],
   "source": [
    "fE = FreqeuncyEncoding(categorical_columns=categorical_cols, return_df=True)\n",
    "train_data = fE.fit_transform(train_data)\n",
    "test_data = fE.transform(test_data)"
   ]
  },
  {
   "cell_type": "code",
   "execution_count": 87,
   "metadata": {},
   "outputs": [],
   "source": [
    "# Target Encoding\n",
    "X = train_data[categorical_cols]\n",
    "y = train_data[target_col].values\n",
    "\n",
    "enc_train = np.zeros(X.shape)\n",
    "smoothing = 0.3\n",
    "\n",
    "Folds = model_selection.KFold(n_splits=5, random_state=2020, shuffle=True)\n",
    "\n",
    "for train_idx, valid_idx in Folds.split(X):\n",
    "    encoder = enc.TargetEncoder(cols=categorical_cols, smoothing=smoothing)\n",
    "\n",
    "    encoder.fit(X.iloc[train_idx], y[train_idx])\n",
    "    enc_train[valid_idx, :] = encoder.transform(X.iloc[valid_idx], y[valid_idx])\n",
    "\n",
    "encoder.fit(X, y)\n",
    "enc_test = encoder.transform(test_data[categorical_cols]).values\n",
    "\n",
    "for idx, col in enumerate(categorical_cols):\n",
    "    col = 'tE_' + col \n",
    "    train_data[col] = enc_train[:,idx]\n",
    "    test_data[col] = enc_test[:, idx]"
   ]
  },
  {
   "cell_type": "code",
   "execution_count": 88,
   "metadata": {},
   "outputs": [],
   "source": [
    "drop_cols = [target_col] + id_col\n",
    "y = train_data[target_col]\n",
    "\n",
    "train_data.drop(columns=drop_cols, axis=1, inplace=True)\n",
    "test_data.drop(columns=drop_cols, axis=1, inplace=True)"
   ]
  },
  {
   "cell_type": "code",
   "execution_count": 89,
   "metadata": {},
   "outputs": [],
   "source": [
    "train_data = train_data.replace({np.inf: np.nan, -np.inf: np.nan}).fillna(-999)\n",
    "test_data = test_data.replace({np.inf: np.nan, -np.inf: np.nan}).fillna(-999)"
   ]
  },
  {
   "cell_type": "code",
   "execution_count": 90,
   "metadata": {},
   "outputs": [
    {
     "output_type": "stream",
     "name": "stdout",
     "text": "Series([], dtype: float64)\nSeries([], dtype: float64)\n"
    }
   ],
   "source": [
    "for df in (train_data, test_data):\n",
    "    missing_stats = df.isnull().mean()\n",
    "    print(missing_stats[missing_stats != 0])"
   ]
  },
  {
   "cell_type": "code",
   "execution_count": 91,
   "metadata": {},
   "outputs": [
    {
     "output_type": "execute_result",
     "data": {
      "text/plain": "((18359, 52), (15021, 52))"
     },
     "metadata": {},
     "execution_count": 91
    }
   ],
   "source": [
    "train_data.shape, test_data.shape"
   ]
  },
  {
   "cell_type": "code",
   "execution_count": 92,
   "metadata": {},
   "outputs": [
    {
     "output_type": "display_data",
     "data": {
      "text/plain": "       city  city_development_index    gender  relevent_experience  \\\n0  0.005719                   0.689  0.903443             0.740563   \n1  0.007735                   0.923  0.903443             0.740563   \n2  0.090092                   0.910  0.000000             0.740563   \n3  0.006482                   0.666  0.903443             0.740563   \n4  0.014761                   0.887  0.000000             0.259437   \n\n   enrolled_university  education_level  major_discipline  experience  \\\n0             0.758117         0.601553          0.885123    0.063333   \n1             0.758117         0.601553          0.885123    0.032896   \n2             0.758117         0.601553          0.885123    0.061475   \n3             0.758117         0.601553          0.885123    0.032896   \n4             0.758117         0.241258          0.885123    0.041257   \n\n   company_size  company_type  last_new_job  training_hours  \\\n0      0.198675      0.754580      0.420576             106   \n1      0.100147      0.077928      0.420576              69   \n2      0.229750      0.074775      0.157570               4   \n3      0.229750      0.754580      0.420576              26   \n4      0.000000      0.000000      0.157570              88   \n\n   city_training_hours_std  city_city_development_index_std  \\\n0                57.222887                              0.0   \n1                69.236521                              0.0   \n2                62.901798                              0.0   \n3                64.401106                              0.0   \n4                56.009653                              0.0   \n\n   gender_training_hours_std  gender_city_development_index_std  \\\n0                  60.288179                           0.103698   \n1                  60.288179                           0.103698   \n2                -999.000000                        -999.000000   \n3                  60.288179                           0.103698   \n4                -999.000000                        -999.000000   \n\n   relevent_experience_training_hours_std  \\\n0                               60.491383   \n1                               60.491383   \n2                               60.491383   \n3                               60.491383   \n4                               59.997954   \n\n   relevent_experience_city_development_index_std  \\\n0                                        0.106611   \n1                                        0.106611   \n2                                        0.106611   \n3                                        0.106611   \n4                                        0.118254   \n\n   enrolled_university_training_hours_std  \\\n0                               60.056315   \n1                               60.056315   \n2                               60.056315   \n3                               60.056315   \n4                               60.056315   \n\n   enrolled_university_city_development_index_std  \\\n0                                        0.102845   \n1                                        0.102845   \n2                                        0.102845   \n3                                        0.102845   \n4                                        0.102845   \n\n   education_level_training_hours_std  \\\n0                           60.499645   \n1                           60.499645   \n2                           60.499645   \n3                           60.499645   \n4                           59.934690   \n\n   education_level_city_development_index_std  \\\n0                                    0.114978   \n1                                    0.114978   \n2                                    0.114978   \n3                                    0.114978   \n4                                    0.101628   \n\n   major_discipline_training_hours_std  \\\n0                            60.545172   \n1                            60.545172   \n2                            60.545172   \n3                            60.545172   \n4                            60.545172   \n\n   major_discipline_city_development_index_std  experience_training_hours_std  \\\n0                                     0.112573                      61.449816   \n1                                     0.112573                      63.212236   \n2                                     0.112573                      60.777722   \n3                                     0.112573                      63.212236   \n4                                     0.112573                      59.172541   \n\n   experience_city_development_index_std  company_size_training_hours_std  \\\n0                               0.129321                        60.529165   \n1                               0.087054                        58.780816   \n2                               0.119216                        60.381607   \n3                               0.087054                        60.381607   \n4                               0.112722                      -999.000000   \n\n   company_size_city_development_index_std  company_type_training_hours_std  \\\n0                                 0.104624                        60.341926   \n1                                 0.109552                        59.472551   \n2                                 0.109168                        59.255864   \n3                                 0.109168                        60.341926   \n4                              -999.000000                      -999.000000   \n\n   company_type_city_development_index_std  last_new_job_training_hours_std  \\\n0                                 0.106892                        60.814609   \n1                                 0.099289                        60.814609   \n2                                 0.091811                        60.881834   \n3                                 0.106892                        60.814609   \n4                              -999.000000                        60.881834   \n\n   last_new_job_city_development_index_std  city_cnt  gender_cnt  \\\n0                                 0.113584       194     23462.0   \n1                                 0.113584       243     23462.0   \n2                                 0.106099      2928      -999.0   \n3                                 0.113584       234     23462.0   \n4                                 0.106099       507      -999.0   \n\n   relevent_experience_cnt  enrolled_university_cnt  education_level_cnt  \\\n0                    24698                  24887.0              19512.0   \n1                    24698                  24887.0              19512.0   \n2                    24698                  24887.0              19512.0   \n3                    24698                  24887.0              19512.0   \n4                     8682                  24887.0               7797.0   \n\n   major_discipline_cnt  experience_cnt  company_size_cnt  company_type_cnt  \\\n0               24855.0          2166.0            4845.0           18114.0   \n1               24855.0          1080.0            2464.0            1880.0   \n2               24855.0          2039.0            5697.0            1792.0   \n3               24855.0          1080.0            5697.0           18114.0   \n4               24855.0          1423.0            -999.0            -999.0   \n\n   last_new_job_cnt   tE_city  tE_gender  tE_relevent_experience  \\\n0           13813.0  0.123596   0.121852                0.117198   \n1           13813.0  0.098214   0.121828                0.117155   \n2            5133.0  0.089025   0.155434                0.117155   \n3           13813.0  0.093264   0.121828                0.117155   \n4            5133.0  0.164319   0.155095                0.175333   \n\n   tE_enrolled_university  tE_education_level  tE_major_discipline  \\\n0                0.116487            0.140341             0.135904   \n1                0.116138            0.141664             0.136079   \n2                0.116138            0.141664             0.136079   \n3                0.116138            0.141664             0.136079   \n4                0.117233            0.116413             0.138087   \n\n   tE_experience  tE_company_size  tE_company_type  tE_last_new_job  \n0       0.170758         0.099074         0.108219         0.133940  \n1       0.128151         0.109870         0.095588         0.133543  \n2       0.137363         0.099560         0.151515         0.136998  \n3       0.128151         0.099560         0.110131         0.133543  \n4       0.109272         0.190701         0.182494         0.135253  ",
      "text/html": "<div>\n<style scoped>\n    .dataframe tbody tr th:only-of-type {\n        vertical-align: middle;\n    }\n\n    .dataframe tbody tr th {\n        vertical-align: top;\n    }\n\n    .dataframe thead th {\n        text-align: right;\n    }\n</style>\n<table border=\"1\" class=\"dataframe\">\n  <thead>\n    <tr style=\"text-align: right;\">\n      <th></th>\n      <th>city</th>\n      <th>city_development_index</th>\n      <th>gender</th>\n      <th>relevent_experience</th>\n      <th>enrolled_university</th>\n      <th>education_level</th>\n      <th>major_discipline</th>\n      <th>experience</th>\n      <th>company_size</th>\n      <th>company_type</th>\n      <th>last_new_job</th>\n      <th>training_hours</th>\n      <th>city_training_hours_std</th>\n      <th>city_city_development_index_std</th>\n      <th>gender_training_hours_std</th>\n      <th>gender_city_development_index_std</th>\n      <th>relevent_experience_training_hours_std</th>\n      <th>relevent_experience_city_development_index_std</th>\n      <th>enrolled_university_training_hours_std</th>\n      <th>enrolled_university_city_development_index_std</th>\n      <th>education_level_training_hours_std</th>\n      <th>education_level_city_development_index_std</th>\n      <th>major_discipline_training_hours_std</th>\n      <th>major_discipline_city_development_index_std</th>\n      <th>experience_training_hours_std</th>\n      <th>experience_city_development_index_std</th>\n      <th>company_size_training_hours_std</th>\n      <th>company_size_city_development_index_std</th>\n      <th>company_type_training_hours_std</th>\n      <th>company_type_city_development_index_std</th>\n      <th>last_new_job_training_hours_std</th>\n      <th>last_new_job_city_development_index_std</th>\n      <th>city_cnt</th>\n      <th>gender_cnt</th>\n      <th>relevent_experience_cnt</th>\n      <th>enrolled_university_cnt</th>\n      <th>education_level_cnt</th>\n      <th>major_discipline_cnt</th>\n      <th>experience_cnt</th>\n      <th>company_size_cnt</th>\n      <th>company_type_cnt</th>\n      <th>last_new_job_cnt</th>\n      <th>tE_city</th>\n      <th>tE_gender</th>\n      <th>tE_relevent_experience</th>\n      <th>tE_enrolled_university</th>\n      <th>tE_education_level</th>\n      <th>tE_major_discipline</th>\n      <th>tE_experience</th>\n      <th>tE_company_size</th>\n      <th>tE_company_type</th>\n      <th>tE_last_new_job</th>\n    </tr>\n  </thead>\n  <tbody>\n    <tr>\n      <th>0</th>\n      <td>0.005719</td>\n      <td>0.689</td>\n      <td>0.903443</td>\n      <td>0.740563</td>\n      <td>0.758117</td>\n      <td>0.601553</td>\n      <td>0.885123</td>\n      <td>0.063333</td>\n      <td>0.198675</td>\n      <td>0.754580</td>\n      <td>0.420576</td>\n      <td>106</td>\n      <td>57.222887</td>\n      <td>0.0</td>\n      <td>60.288179</td>\n      <td>0.103698</td>\n      <td>60.491383</td>\n      <td>0.106611</td>\n      <td>60.056315</td>\n      <td>0.102845</td>\n      <td>60.499645</td>\n      <td>0.114978</td>\n      <td>60.545172</td>\n      <td>0.112573</td>\n      <td>61.449816</td>\n      <td>0.129321</td>\n      <td>60.529165</td>\n      <td>0.104624</td>\n      <td>60.341926</td>\n      <td>0.106892</td>\n      <td>60.814609</td>\n      <td>0.113584</td>\n      <td>194</td>\n      <td>23462.0</td>\n      <td>24698</td>\n      <td>24887.0</td>\n      <td>19512.0</td>\n      <td>24855.0</td>\n      <td>2166.0</td>\n      <td>4845.0</td>\n      <td>18114.0</td>\n      <td>13813.0</td>\n      <td>0.123596</td>\n      <td>0.121852</td>\n      <td>0.117198</td>\n      <td>0.116487</td>\n      <td>0.140341</td>\n      <td>0.135904</td>\n      <td>0.170758</td>\n      <td>0.099074</td>\n      <td>0.108219</td>\n      <td>0.133940</td>\n    </tr>\n    <tr>\n      <th>1</th>\n      <td>0.007735</td>\n      <td>0.923</td>\n      <td>0.903443</td>\n      <td>0.740563</td>\n      <td>0.758117</td>\n      <td>0.601553</td>\n      <td>0.885123</td>\n      <td>0.032896</td>\n      <td>0.100147</td>\n      <td>0.077928</td>\n      <td>0.420576</td>\n      <td>69</td>\n      <td>69.236521</td>\n      <td>0.0</td>\n      <td>60.288179</td>\n      <td>0.103698</td>\n      <td>60.491383</td>\n      <td>0.106611</td>\n      <td>60.056315</td>\n      <td>0.102845</td>\n      <td>60.499645</td>\n      <td>0.114978</td>\n      <td>60.545172</td>\n      <td>0.112573</td>\n      <td>63.212236</td>\n      <td>0.087054</td>\n      <td>58.780816</td>\n      <td>0.109552</td>\n      <td>59.472551</td>\n      <td>0.099289</td>\n      <td>60.814609</td>\n      <td>0.113584</td>\n      <td>243</td>\n      <td>23462.0</td>\n      <td>24698</td>\n      <td>24887.0</td>\n      <td>19512.0</td>\n      <td>24855.0</td>\n      <td>1080.0</td>\n      <td>2464.0</td>\n      <td>1880.0</td>\n      <td>13813.0</td>\n      <td>0.098214</td>\n      <td>0.121828</td>\n      <td>0.117155</td>\n      <td>0.116138</td>\n      <td>0.141664</td>\n      <td>0.136079</td>\n      <td>0.128151</td>\n      <td>0.109870</td>\n      <td>0.095588</td>\n      <td>0.133543</td>\n    </tr>\n    <tr>\n      <th>2</th>\n      <td>0.090092</td>\n      <td>0.910</td>\n      <td>0.000000</td>\n      <td>0.740563</td>\n      <td>0.758117</td>\n      <td>0.601553</td>\n      <td>0.885123</td>\n      <td>0.061475</td>\n      <td>0.229750</td>\n      <td>0.074775</td>\n      <td>0.157570</td>\n      <td>4</td>\n      <td>62.901798</td>\n      <td>0.0</td>\n      <td>-999.000000</td>\n      <td>-999.000000</td>\n      <td>60.491383</td>\n      <td>0.106611</td>\n      <td>60.056315</td>\n      <td>0.102845</td>\n      <td>60.499645</td>\n      <td>0.114978</td>\n      <td>60.545172</td>\n      <td>0.112573</td>\n      <td>60.777722</td>\n      <td>0.119216</td>\n      <td>60.381607</td>\n      <td>0.109168</td>\n      <td>59.255864</td>\n      <td>0.091811</td>\n      <td>60.881834</td>\n      <td>0.106099</td>\n      <td>2928</td>\n      <td>-999.0</td>\n      <td>24698</td>\n      <td>24887.0</td>\n      <td>19512.0</td>\n      <td>24855.0</td>\n      <td>2039.0</td>\n      <td>5697.0</td>\n      <td>1792.0</td>\n      <td>5133.0</td>\n      <td>0.089025</td>\n      <td>0.155434</td>\n      <td>0.117155</td>\n      <td>0.116138</td>\n      <td>0.141664</td>\n      <td>0.136079</td>\n      <td>0.137363</td>\n      <td>0.099560</td>\n      <td>0.151515</td>\n      <td>0.136998</td>\n    </tr>\n    <tr>\n      <th>3</th>\n      <td>0.006482</td>\n      <td>0.666</td>\n      <td>0.903443</td>\n      <td>0.740563</td>\n      <td>0.758117</td>\n      <td>0.601553</td>\n      <td>0.885123</td>\n      <td>0.032896</td>\n      <td>0.229750</td>\n      <td>0.754580</td>\n      <td>0.420576</td>\n      <td>26</td>\n      <td>64.401106</td>\n      <td>0.0</td>\n      <td>60.288179</td>\n      <td>0.103698</td>\n      <td>60.491383</td>\n      <td>0.106611</td>\n      <td>60.056315</td>\n      <td>0.102845</td>\n      <td>60.499645</td>\n      <td>0.114978</td>\n      <td>60.545172</td>\n      <td>0.112573</td>\n      <td>63.212236</td>\n      <td>0.087054</td>\n      <td>60.381607</td>\n      <td>0.109168</td>\n      <td>60.341926</td>\n      <td>0.106892</td>\n      <td>60.814609</td>\n      <td>0.113584</td>\n      <td>234</td>\n      <td>23462.0</td>\n      <td>24698</td>\n      <td>24887.0</td>\n      <td>19512.0</td>\n      <td>24855.0</td>\n      <td>1080.0</td>\n      <td>5697.0</td>\n      <td>18114.0</td>\n      <td>13813.0</td>\n      <td>0.093264</td>\n      <td>0.121828</td>\n      <td>0.117155</td>\n      <td>0.116138</td>\n      <td>0.141664</td>\n      <td>0.136079</td>\n      <td>0.128151</td>\n      <td>0.099560</td>\n      <td>0.110131</td>\n      <td>0.133543</td>\n    </tr>\n    <tr>\n      <th>4</th>\n      <td>0.014761</td>\n      <td>0.887</td>\n      <td>0.000000</td>\n      <td>0.259437</td>\n      <td>0.758117</td>\n      <td>0.241258</td>\n      <td>0.885123</td>\n      <td>0.041257</td>\n      <td>0.000000</td>\n      <td>0.000000</td>\n      <td>0.157570</td>\n      <td>88</td>\n      <td>56.009653</td>\n      <td>0.0</td>\n      <td>-999.000000</td>\n      <td>-999.000000</td>\n      <td>59.997954</td>\n      <td>0.118254</td>\n      <td>60.056315</td>\n      <td>0.102845</td>\n      <td>59.934690</td>\n      <td>0.101628</td>\n      <td>60.545172</td>\n      <td>0.112573</td>\n      <td>59.172541</td>\n      <td>0.112722</td>\n      <td>-999.000000</td>\n      <td>-999.000000</td>\n      <td>-999.000000</td>\n      <td>-999.000000</td>\n      <td>60.881834</td>\n      <td>0.106099</td>\n      <td>507</td>\n      <td>-999.0</td>\n      <td>8682</td>\n      <td>24887.0</td>\n      <td>7797.0</td>\n      <td>24855.0</td>\n      <td>1423.0</td>\n      <td>-999.0</td>\n      <td>-999.0</td>\n      <td>5133.0</td>\n      <td>0.164319</td>\n      <td>0.155095</td>\n      <td>0.175333</td>\n      <td>0.117233</td>\n      <td>0.116413</td>\n      <td>0.138087</td>\n      <td>0.109272</td>\n      <td>0.190701</td>\n      <td>0.182494</td>\n      <td>0.135253</td>\n    </tr>\n  </tbody>\n</table>\n</div>"
     },
     "metadata": {}
    }
   ],
   "source": [
    "show_all(train_data.head())"
   ]
  },
  {
   "cell_type": "code",
   "execution_count": 93,
   "metadata": {},
   "outputs": [],
   "source": [
    "lgb_params = {\n",
    "    'n_estimators': 20000, \n",
    "    'learning_rate': 0.01,\n",
    "    'boosting_type': 'gbdt', \n",
    "    'colsample_bytree': 0.70, \n",
    "    'min_child_weight': 9.0, \n",
    "    'num_leaves': 64, \n",
    "    'objective': 'binary', \n",
    "    'subsample': 0.70, \n",
    "    'subsample_freq': 5,\n",
    "    'metric': 'custom',\n",
    "    }\n",
    "\n",
    "lgb_100 = Estimator( LGBMClassifier(**lgb_params)\n",
    "                     , random_state=100\n",
    "                     , eval_metric='AUC'\n",
    "                     , scoring_metric=roc_auc_score\n",
    "                     , early_stopping_rounds=100\n",
    "                     , verbose=200\n",
    "                    )"
   ]
  },
  {
   "cell_type": "code",
   "execution_count": 94,
   "metadata": {},
   "outputs": [
    {
     "output_type": "stream",
     "name": "stdout",
     "text": "Training until validation scores don't improve for 100 rounds\nEarly stopping, best iteration is:\n[33]\ttrain's auc: 0.762276\tvalid's auc: 0.643163\nTraining until validation scores don't improve for 100 rounds\nEarly stopping, best iteration is:\n[95]\ttrain's auc: 0.783206\tvalid's auc: 0.670799\nTraining until validation scores don't improve for 100 rounds\nEarly stopping, best iteration is:\n[68]\ttrain's auc: 0.768744\tvalid's auc: 0.679487\nTraining until validation scores don't improve for 100 rounds\nEarly stopping, best iteration is:\n[78]\ttrain's auc: 0.770275\tvalid's auc: 0.682559\nTraining until validation scores don't improve for 100 rounds\nEarly stopping, best iteration is:\n[41]\ttrain's auc: 0.761783\tvalid's auc: 0.670495\n"
    }
   ],
   "source": [
    "lgb_oof_100 = lgb_100.fit_transform(train_data, y.values)"
   ]
  },
  {
   "cell_type": "code",
   "execution_count": 95,
   "metadata": {},
   "outputs": [],
   "source": [
    "lgb_200 = Estimator(LGBMClassifier(**lgb_params)\n",
    "                     , random_state=200\n",
    "                     , eval_metric='AUC'\n",
    "                     , scoring_metric=roc_auc_score\n",
    "                     , early_stopping_rounds=100\n",
    "                     , verbose=200\n",
    "                    )"
   ]
  },
  {
   "cell_type": "code",
   "execution_count": 96,
   "metadata": {},
   "outputs": [
    {
     "output_type": "stream",
     "name": "stdout",
     "text": "Training until validation scores don't improve for 100 rounds\nEarly stopping, best iteration is:\n[27]\ttrain's auc: 0.751325\tvalid's auc: 0.665219\nTraining until validation scores don't improve for 100 rounds\n[200]\ttrain's auc: 0.818324\tvalid's auc: 0.668564\nEarly stopping, best iteration is:\n[138]\ttrain's auc: 0.796342\tvalid's auc: 0.669918\nTraining until validation scores don't improve for 100 rounds\nEarly stopping, best iteration is:\n[39]\ttrain's auc: 0.759946\tvalid's auc: 0.666222\nTraining until validation scores don't improve for 100 rounds\nEarly stopping, best iteration is:\n[32]\ttrain's auc: 0.759066\tvalid's auc: 0.683627\nTraining until validation scores don't improve for 100 rounds\n[200]\ttrain's auc: 0.817166\tvalid's auc: 0.650374\nEarly stopping, best iteration is:\n[274]\ttrain's auc: 0.84145\tvalid's auc: 0.652512\n"
    }
   ],
   "source": [
    "lgb_oof_200 = lgb_200.fit_transform(train_data, y.values)"
   ]
  },
  {
   "cell_type": "code",
   "execution_count": 97,
   "metadata": {},
   "outputs": [
    {
     "output_type": "execute_result",
     "data": {
      "text/plain": "0.6684000826936809"
     },
     "metadata": {},
     "execution_count": 97
    }
   ],
   "source": [
    "np.mean([lgb_100.avg_cv_score, lgb_200.avg_cv_score]) "
   ]
  },
  {
   "cell_type": "code",
   "execution_count": 98,
   "metadata": {},
   "outputs": [
    {
     "output_type": "execute_result",
     "data": {
      "text/plain": "                                   column  feature_importance  rank\n11                         training_hours            0.086953     1\n42                                tE_city            0.073253     2\n48                          tE_experience            0.071015     3\n25  experience_city_development_index_std            0.046604     4\n0                                    city            0.043367     5\n49                        tE_company_size            0.041476     6\n51                        tE_last_new_job            0.040542     7\n1                  city_development_index            0.039063     8\n7                              experience            0.035246     9\n12                city_training_hours_std            0.033587    10",
      "text/html": "<div>\n<style scoped>\n    .dataframe tbody tr th:only-of-type {\n        vertical-align: middle;\n    }\n\n    .dataframe tbody tr th {\n        vertical-align: top;\n    }\n\n    .dataframe thead th {\n        text-align: right;\n    }\n</style>\n<table border=\"1\" class=\"dataframe\">\n  <thead>\n    <tr style=\"text-align: right;\">\n      <th></th>\n      <th>column</th>\n      <th>feature_importance</th>\n      <th>rank</th>\n    </tr>\n  </thead>\n  <tbody>\n    <tr>\n      <th>11</th>\n      <td>training_hours</td>\n      <td>0.086953</td>\n      <td>1</td>\n    </tr>\n    <tr>\n      <th>42</th>\n      <td>tE_city</td>\n      <td>0.073253</td>\n      <td>2</td>\n    </tr>\n    <tr>\n      <th>48</th>\n      <td>tE_experience</td>\n      <td>0.071015</td>\n      <td>3</td>\n    </tr>\n    <tr>\n      <th>25</th>\n      <td>experience_city_development_index_std</td>\n      <td>0.046604</td>\n      <td>4</td>\n    </tr>\n    <tr>\n      <th>0</th>\n      <td>city</td>\n      <td>0.043367</td>\n      <td>5</td>\n    </tr>\n    <tr>\n      <th>49</th>\n      <td>tE_company_size</td>\n      <td>0.041476</td>\n      <td>6</td>\n    </tr>\n    <tr>\n      <th>51</th>\n      <td>tE_last_new_job</td>\n      <td>0.040542</td>\n      <td>7</td>\n    </tr>\n    <tr>\n      <th>1</th>\n      <td>city_development_index</td>\n      <td>0.039063</td>\n      <td>8</td>\n    </tr>\n    <tr>\n      <th>7</th>\n      <td>experience</td>\n      <td>0.035246</td>\n      <td>9</td>\n    </tr>\n    <tr>\n      <th>12</th>\n      <td>city_training_hours_std</td>\n      <td>0.033587</td>\n      <td>10</td>\n    </tr>\n  </tbody>\n</table>\n</div>"
     },
     "metadata": {},
     "execution_count": 98
    }
   ],
   "source": [
    "lgb_100.feature_importances(columns=train_data.columns).head(10)"
   ]
  },
  {
   "cell_type": "code",
   "execution_count": 99,
   "metadata": {},
   "outputs": [],
   "source": [
    "lgb_pred_100 = lgb_100.transform(test_data)\n",
    "lgb_pred_200 = lgb_200.transform(test_data)"
   ]
  },
  {
   "cell_type": "code",
   "execution_count": 100,
   "metadata": {},
   "outputs": [],
   "source": [
    "ctb_params = {\n",
    "    'n_estimators': 20000, \n",
    "    'learning_rate': 0.01,\n",
    "    'random_strength': 0.7,\n",
    "    'use_best_model': True,\n",
    "    # 'eval_metric': 'AUC',\n",
    "    'depth': 6,\n",
    "    }\n",
    "\n",
    "ctb_100 = Estimator( CatBoostClassifier(**ctb_params)\n",
    "                     , random_state=100\n",
    "                     , eval_metric='AUC'\n",
    "                     , scoring_metric=roc_auc_score\n",
    "                     , early_stopping_rounds=100\n",
    "                     , verbose=200\n",
    "                    )"
   ]
  },
  {
   "cell_type": "code",
   "execution_count": 101,
   "metadata": {},
   "outputs": [
    {
     "output_type": "stream",
     "name": "stdout",
     "text": "0:\tlearn: 0.6859502\ttest: 0.6860616\tbest: 0.6860616 (0)\ttotal: 19.3ms\tremaining: 6m 25s\n200:\tlearn: 0.3667362\ttest: 0.3784344\tbest: 0.3784344 (200)\ttotal: 2.11s\tremaining: 3m 27s\n400:\tlearn: 0.3514175\ttest: 0.3739678\tbest: 0.3739377 (398)\ttotal: 4.52s\tremaining: 3m 40s\nStopped by overfitting detector  (100 iterations wait)\n\nbestTest = 0.3738009336\nbestIteration = 439\n\nShrink model to first 440 iterations.\n0:\tlearn: 0.6860061\ttest: 0.6859848\tbest: 0.6859848 (0)\ttotal: 13.1ms\tremaining: 4m 21s\n200:\tlearn: 0.3681991\ttest: 0.3745699\tbest: 0.3745699 (200)\ttotal: 1.86s\tremaining: 3m 3s\n400:\tlearn: 0.3533492\ttest: 0.3685265\tbest: 0.3685265 (400)\ttotal: 3.77s\tremaining: 3m 4s\n600:\tlearn: 0.3448203\ttest: 0.3681790\tbest: 0.3681692 (569)\ttotal: 5.77s\tremaining: 3m 6s\nStopped by overfitting detector  (100 iterations wait)\n\nbestTest = 0.3681691947\nbestIteration = 569\n\nShrink model to first 570 iterations.\n0:\tlearn: 0.6859302\ttest: 0.6859967\tbest: 0.6859967 (0)\ttotal: 13.3ms\tremaining: 4m 26s\n200:\tlearn: 0.3683504\ttest: 0.3748707\tbest: 0.3748707 (200)\ttotal: 2.52s\tremaining: 4m 8s\n400:\tlearn: 0.3541230\ttest: 0.3681322\tbest: 0.3681322 (400)\ttotal: 4.58s\tremaining: 3m 44s\n600:\tlearn: 0.3462493\ttest: 0.3670499\tbest: 0.3670126 (595)\ttotal: 6.82s\tremaining: 3m 40s\n800:\tlearn: 0.3391421\ttest: 0.3667080\tbest: 0.3667080 (800)\ttotal: 8.96s\tremaining: 3m 34s\n1000:\tlearn: 0.3318297\ttest: 0.3667598\tbest: 0.3666572 (941)\ttotal: 11s\tremaining: 3m 29s\nStopped by overfitting detector  (100 iterations wait)\n\nbestTest = 0.366657179\nbestIteration = 941\n\nShrink model to first 942 iterations.\n0:\tlearn: 0.6859518\ttest: 0.6859628\tbest: 0.6859628 (0)\ttotal: 11.7ms\tremaining: 3m 53s\n200:\tlearn: 0.3685203\ttest: 0.3741784\tbest: 0.3741784 (200)\ttotal: 2.19s\tremaining: 3m 35s\n400:\tlearn: 0.3541208\ttest: 0.3671009\tbest: 0.3670837 (399)\ttotal: 4.36s\tremaining: 3m 32s\n600:\tlearn: 0.3459395\ttest: 0.3659314\tbest: 0.3659136 (593)\ttotal: 6.59s\tremaining: 3m 32s\n800:\tlearn: 0.3386495\ttest: 0.3656486\tbest: 0.3655724 (787)\ttotal: 9.08s\tremaining: 3m 37s\nStopped by overfitting detector  (100 iterations wait)\n\nbestTest = 0.3655526746\nbestIteration = 873\n\nShrink model to first 874 iterations.\n0:\tlearn: 0.6859567\ttest: 0.6859768\tbest: 0.6859768 (0)\ttotal: 11.8ms\tremaining: 3m 56s\n200:\tlearn: 0.3679749\ttest: 0.3750640\tbest: 0.3750640 (200)\ttotal: 2.42s\tremaining: 3m 58s\n400:\tlearn: 0.3532980\ttest: 0.3696384\tbest: 0.3696384 (400)\ttotal: 4.6s\tremaining: 3m 44s\nStopped by overfitting detector  (100 iterations wait)\n\nbestTest = 0.3694825879\nbestIteration = 450\n\nShrink model to first 451 iterations.\n"
    }
   ],
   "source": [
    "ctb_oof_100 = ctb_100.fit_transform(train_data, y.values)"
   ]
  },
  {
   "cell_type": "code",
   "execution_count": 102,
   "metadata": {},
   "outputs": [],
   "source": [
    "ctb_200 = Estimator( CatBoostClassifier(**ctb_params)\n",
    "                     , random_state=200\n",
    "                     , eval_metric='AUC'\n",
    "                     , scoring_metric=roc_auc_score\n",
    "                     , early_stopping_rounds=100\n",
    "                     , verbose=200\n",
    "                    )"
   ]
  },
  {
   "cell_type": "code",
   "execution_count": 56,
   "metadata": {},
   "outputs": [
    {
     "output_type": "stream",
     "name": "stdout",
     "text": "0:\tlearn: 0.6859821\ttest: 0.6859834\tbest: 0.6859834 (0)\ttotal: 29.3ms\tremaining: 9m 46s\n200:\tlearn: 0.3671652\ttest: 0.3752777\tbest: 0.3752777 (200)\ttotal: 2.15s\tremaining: 3m 31s\n400:\tlearn: 0.3525215\ttest: 0.3694392\tbest: 0.3694242 (395)\ttotal: 4.43s\tremaining: 3m 36s\n600:\tlearn: 0.3444663\ttest: 0.3695038\tbest: 0.3693543 (506)\ttotal: 6.67s\tremaining: 3m 35s\nStopped by overfitting detector  (100 iterations wait)\n\nbestTest = 0.3693542688\nbestIteration = 506\n\nShrink model to first 507 iterations.\n0:\tlearn: 0.6858968\ttest: 0.6859147\tbest: 0.6859147 (0)\ttotal: 12.3ms\tremaining: 4m 6s\n200:\tlearn: 0.3677559\ttest: 0.3733452\tbest: 0.3733452 (200)\ttotal: 2.4s\tremaining: 3m 56s\n400:\tlearn: 0.3532402\ttest: 0.3671577\tbest: 0.3671526 (399)\ttotal: 4.54s\tremaining: 3m 42s\n600:\tlearn: 0.3451176\ttest: 0.3664449\tbest: 0.3663997 (582)\ttotal: 6.79s\tremaining: 3m 39s\nStopped by overfitting detector  (100 iterations wait)\n\nbestTest = 0.3662101277\nbestIteration = 694\n\nShrink model to first 695 iterations.\n0:\tlearn: 0.6859653\ttest: 0.6860044\tbest: 0.6860044 (0)\ttotal: 11.6ms\tremaining: 3m 51s\n200:\tlearn: 0.3672962\ttest: 0.3753096\tbest: 0.3753096 (200)\ttotal: 2.23s\tremaining: 3m 39s\n400:\tlearn: 0.3524340\ttest: 0.3695466\tbest: 0.3695466 (400)\ttotal: 4.28s\tremaining: 3m 29s\n600:\tlearn: 0.3439037\ttest: 0.3694015\tbest: 0.3692968 (517)\ttotal: 6.44s\tremaining: 3m 27s\nStopped by overfitting detector  (100 iterations wait)\n\nbestTest = 0.3692968334\nbestIteration = 517\n\nShrink model to first 518 iterations.\n0:\tlearn: 0.6859743\ttest: 0.6860248\tbest: 0.6860248 (0)\ttotal: 12.6ms\tremaining: 4m 11s\n200:\tlearn: 0.3682702\ttest: 0.3729197\tbest: 0.3729197 (200)\ttotal: 2.23s\tremaining: 3m 39s\n400:\tlearn: 0.3536023\ttest: 0.3665135\tbest: 0.3665050 (399)\ttotal: 4.44s\tremaining: 3m 36s\n600:\tlearn: 0.3451556\ttest: 0.3661500\tbest: 0.3660744 (543)\ttotal: 6.85s\tremaining: 3m 41s\nStopped by overfitting detector  (100 iterations wait)\n\nbestTest = 0.3660468462\nbestIteration = 690\n\nShrink model to first 691 iterations.\n0:\tlearn: 0.6859255\ttest: 0.6859658\tbest: 0.6859658 (0)\ttotal: 11.5ms\tremaining: 3m 49s\n200:\tlearn: 0.3664829\ttest: 0.3769558\tbest: 0.3769558 (200)\ttotal: 2.09s\tremaining: 3m 26s\n400:\tlearn: 0.3520620\ttest: 0.3721366\tbest: 0.3721366 (400)\ttotal: 4.59s\tremaining: 3m 44s\n600:\tlearn: 0.3438674\ttest: 0.3715331\tbest: 0.3714820 (594)\ttotal: 6.8s\tremaining: 3m 39s\n800:\tlearn: 0.3368239\ttest: 0.3712716\tbest: 0.3712116 (784)\ttotal: 9.31s\tremaining: 3m 43s\nStopped by overfitting detector  (100 iterations wait)\n\nbestTest = 0.3712045904\nbestIteration = 824\n\nShrink model to first 825 iterations.\n"
    }
   ],
   "source": [
    "ctb_oof_200 = ctb_200.fit_transform(train_data, y.values)"
   ]
  },
  {
   "cell_type": "code",
   "execution_count": 57,
   "metadata": {},
   "outputs": [
    {
     "output_type": "execute_result",
     "data": {
      "text/plain": "0.6706150247176094"
     },
     "metadata": {},
     "execution_count": 57
    }
   ],
   "source": [
    "np.mean([ctb_100.avg_cv_score, ctb_200.avg_cv_score])"
   ]
  },
  {
   "cell_type": "code",
   "execution_count": 58,
   "metadata": {},
   "outputs": [],
   "source": [
    "ctb_pred_100 = ctb_100.transform(test_data)\n",
    "ctb_pred_200 = ctb_200.transform(test_data)"
   ]
  },
  {
   "cell_type": "code",
   "execution_count": 59,
   "metadata": {},
   "outputs": [
    {
     "output_type": "execute_result",
     "data": {
      "text/plain": "                                     column  feature_importance  rank\n42                                  tE_city            0.114315     1\n1                    city_development_index            0.067770     2\n25    experience_city_development_index_std            0.037442     3\n48                            tE_experience            0.031398     4\n49                          tE_company_size            0.029440     5\n0                                      city            0.029097     6\n32                                 city_cnt            0.027533     7\n27  company_size_city_development_index_std            0.026158     8\n11                           training_hours            0.024865     9\n26          company_size_training_hours_std            0.023689    10",
      "text/html": "<div>\n<style scoped>\n    .dataframe tbody tr th:only-of-type {\n        vertical-align: middle;\n    }\n\n    .dataframe tbody tr th {\n        vertical-align: top;\n    }\n\n    .dataframe thead th {\n        text-align: right;\n    }\n</style>\n<table border=\"1\" class=\"dataframe\">\n  <thead>\n    <tr style=\"text-align: right;\">\n      <th></th>\n      <th>column</th>\n      <th>feature_importance</th>\n      <th>rank</th>\n    </tr>\n  </thead>\n  <tbody>\n    <tr>\n      <th>42</th>\n      <td>tE_city</td>\n      <td>0.114315</td>\n      <td>1</td>\n    </tr>\n    <tr>\n      <th>1</th>\n      <td>city_development_index</td>\n      <td>0.067770</td>\n      <td>2</td>\n    </tr>\n    <tr>\n      <th>25</th>\n      <td>experience_city_development_index_std</td>\n      <td>0.037442</td>\n      <td>3</td>\n    </tr>\n    <tr>\n      <th>48</th>\n      <td>tE_experience</td>\n      <td>0.031398</td>\n      <td>4</td>\n    </tr>\n    <tr>\n      <th>49</th>\n      <td>tE_company_size</td>\n      <td>0.029440</td>\n      <td>5</td>\n    </tr>\n    <tr>\n      <th>0</th>\n      <td>city</td>\n      <td>0.029097</td>\n      <td>6</td>\n    </tr>\n    <tr>\n      <th>32</th>\n      <td>city_cnt</td>\n      <td>0.027533</td>\n      <td>7</td>\n    </tr>\n    <tr>\n      <th>27</th>\n      <td>company_size_city_development_index_std</td>\n      <td>0.026158</td>\n      <td>8</td>\n    </tr>\n    <tr>\n      <th>11</th>\n      <td>training_hours</td>\n      <td>0.024865</td>\n      <td>9</td>\n    </tr>\n    <tr>\n      <th>26</th>\n      <td>company_size_training_hours_std</td>\n      <td>0.023689</td>\n      <td>10</td>\n    </tr>\n  </tbody>\n</table>\n</div>"
     },
     "metadata": {},
     "execution_count": 59
    }
   ],
   "source": [
    "ctb_100.feature_importances(columns=train_data.columns).head(10)"
   ]
  },
  {
   "cell_type": "code",
   "execution_count": 48,
   "metadata": {},
   "outputs": [],
   "source": [
    "final_sub = submission.copy()"
   ]
  },
  {
   "cell_type": "code",
   "execution_count": 49,
   "metadata": {},
   "outputs": [],
   "source": [
    "final_sub[target_col] = np.mean([\n",
    "                                 lgb_pred_100, lgb_pred_200,\n",
    "                                 ctb_pred_100, ctb_pred_200,\n",
    "                                ]\n",
    "                                , axis=0)"
   ]
  },
  {
   "cell_type": "code",
   "execution_count": 50,
   "metadata": {},
   "outputs": [
    {
     "output_type": "execute_result",
     "data": {
      "text/plain": "   enrollee_id    target\n0        16548  0.331971\n1        12036  0.193964\n2        11061  0.341028\n3         5032  0.200075\n4        17599  0.219373",
      "text/html": "<div>\n<style scoped>\n    .dataframe tbody tr th:only-of-type {\n        vertical-align: middle;\n    }\n\n    .dataframe tbody tr th {\n        vertical-align: top;\n    }\n\n    .dataframe thead th {\n        text-align: right;\n    }\n</style>\n<table border=\"1\" class=\"dataframe\">\n  <thead>\n    <tr style=\"text-align: right;\">\n      <th></th>\n      <th>enrollee_id</th>\n      <th>target</th>\n    </tr>\n  </thead>\n  <tbody>\n    <tr>\n      <th>0</th>\n      <td>16548</td>\n      <td>0.331971</td>\n    </tr>\n    <tr>\n      <th>1</th>\n      <td>12036</td>\n      <td>0.193964</td>\n    </tr>\n    <tr>\n      <th>2</th>\n      <td>11061</td>\n      <td>0.341028</td>\n    </tr>\n    <tr>\n      <th>3</th>\n      <td>5032</td>\n      <td>0.200075</td>\n    </tr>\n    <tr>\n      <th>4</th>\n      <td>17599</td>\n      <td>0.219373</td>\n    </tr>\n  </tbody>\n</table>\n</div>"
     },
     "metadata": {},
     "execution_count": 50
    }
   ],
   "source": [
    "final_sub.head()"
   ]
  },
  {
   "cell_type": "code",
   "execution_count": 51,
   "metadata": {},
   "outputs": [],
   "source": [
    "file_timestamp = datetime.now().strftime('%m%d%Y_%H%M')\n",
    "model_name='LGBM_CTB'"
   ]
  },
  {
   "cell_type": "code",
   "execution_count": 52,
   "metadata": {},
   "outputs": [],
   "source": [
    "final_sub.to_csv(f\"output/{model_name}_{file_timestamp}.csv\", index=False)"
   ]
  },
  {
   "cell_type": "code",
   "execution_count": null,
   "metadata": {},
   "outputs": [],
   "source": []
  }
 ],
 "metadata": {
  "kernelspec": {
   "display_name": "Python 3",
   "language": "python",
   "name": "python3"
  },
  "language_info": {
   "codemirror_mode": {
    "name": "ipython",
    "version": 3
   },
   "file_extension": ".py",
   "mimetype": "text/x-python",
   "name": "python",
   "nbconvert_exporter": "python",
   "pygments_lexer": "ipython3",
   "version": "3.7.3-final"
  }
 },
 "nbformat": 4,
 "nbformat_minor": 4
}