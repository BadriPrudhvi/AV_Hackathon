{
 "cells": [
  {
   "cell_type": "code",
   "execution_count": 1,
   "metadata": {},
   "outputs": [
    {
     "name": "stderr",
     "output_type": "stream",
     "text": [
      "/Library/Frameworks/Python.framework/Versions/3.6/lib/python3.6/site-packages/lightgbm/__init__.py:46: UserWarning: Starting from version 2.2.1, the library file in distribution wheels for macOS is built by the Apple Clang (Xcode_8.3.3) compiler.\n",
      "This means that in case of installing LightGBM from PyPI via the ``pip install lightgbm`` command, you don't need to install the gcc compiler anymore.\n",
      "Instead of that, you need to install the OpenMP library, which is required for running LightGBM on the system with the Apple Clang compiler.\n",
      "You can install the OpenMP library by the following command: ``brew install libomp``.\n",
      "  \"You can install the OpenMP library by the following command: ``brew install libomp``.\", UserWarning)\n"
     ]
    }
   ],
   "source": [
    "from fastai.imports import *\n",
    "from fastai.structured import *\n",
    "\n",
    "from pandas_summary import DataFrameSummary\n",
    "from sklearn.ensemble import RandomForestRegressor, RandomForestClassifier\n",
    "from catboost import CatBoostRegressor, Pool, cv\n",
    "import lightgbm as lgb\n",
    "from IPython.display import display\n",
    "\n",
    "from sklearn.model_selection import KFold\n",
    "from sklearn import metrics\n",
    "from datetime import datetime\n",
    "\n",
    "import seaborn as sns\n",
    "\n",
    "%matplotlib inline\n",
    "pd.options.mode.chained_assignment = None\n",
    "pd.set_option('display.float_format', lambda x: '%.3f' % x)\n",
    "warnings.filterwarnings('ignore')\n",
    "warnings.simplefilter(action='ignore', category=FutureWarning)\n",
    "\n",
    "# sns.set(style='whitegrid', palette=\"deep\", font_scale=1.1, rc={\"figure.figsize\": [12, 8]})\n",
    "from matplotlib.pylab import rcParams\n",
    "rcParams['figure.figsize'] = 12, 8"
   ]
  },
  {
   "cell_type": "markdown",
   "metadata": {},
   "source": [
    "### Custom Functions"
   ]
  },
  {
   "cell_type": "code",
   "execution_count": 2,
   "metadata": {},
   "outputs": [],
   "source": [
    "def display_all(df):\n",
    "    with pd.option_context(\"display.max_rows\", 1000, \"display.max_columns\", 1000): \n",
    "        display(df)\n",
    "        \n",
    "def split_vals(a,n): return a[:n].copy(), a[n:].copy()\n",
    "\n",
    "def get_stats(df,columns):\n",
    "    fig, axs = plt.subplots(1,2)\n",
    "    for column in columns:\n",
    "        df2 = df[np.isfinite(df[column])]\n",
    "        count, division = np.histogram(df2[column])\n",
    "        null_value_stats = df[df[column].isnull()]\n",
    "        print(f\"Column name: {column}\")\n",
    "        print(f\"Total Rows: {len(df)}\")\n",
    "        print(f\"Positive values row count: {len(df[(df[column]>=0)])}\")\n",
    "        print(f\"Negative values row count: {len(df[(df[column]<0)])}\")\n",
    "        print(f\"Null values row count: {null_value_stats.shape[0]}\")\n",
    "        print(f\"Column summary\")\n",
    "        print(df[column].describe())\n",
    "        print(f\"Cut: {division}\")\n",
    "        print(f\"Count: {count}\")\n",
    "        df.boxplot(column=[column], ax=axs[0])\n",
    "        df[column].plot.hist(bins=10, alpha=0.5, ax=axs[1])\n",
    "\n",
    "def rmsle(real, predicted):\n",
    "    sum=0.0\n",
    "    for x in range(len(predicted)):\n",
    "        if predicted[x]<0 or real[x]<0: #check for negative values\n",
    "            continue\n",
    "        p = np.log(predicted[x]+1)\n",
    "        r = np.log(real[x]+1)\n",
    "        sum = sum + (p - r)**2\n",
    "    return round(100*(sum/len(predicted))**0.5,3)\n",
    "\n",
    "def calc_smooth_mean(df, by, on, m):\n",
    "    # Compute the global mean\n",
    "    mean = df[on].mean()\n",
    "\n",
    "    # Compute the number of values and the mean of each group\n",
    "    agg = df.groupby(by)[on].agg(['count', 'mean'])\n",
    "    counts = agg['count']\n",
    "    means = agg['mean']\n",
    "\n",
    "    # Compute the \"smoothed\" means\n",
    "    smooth = (counts * means + m * mean) / (counts + m)\n",
    "\n",
    "    # Replace each value by the according smoothed mean\n",
    "    return smooth\n",
    "\n",
    "def get_count_encode(train,test,by_cols,on_col,name):\n",
    "    temp=train.groupby(by_cols)[on_col].count().reset_index().rename(columns={on_col:name})\n",
    "    train=pd.merge(train,temp,how='left',on=by_cols)\n",
    "    test=pd.merge(test,temp,how='left',on=by_cols)\n",
    "    train[name].fillna(np.median(temp[name]),inplace=True)\n",
    "    test[name].fillna(np.median(temp[name]),inplace=True)\n",
    "    return train,test\n",
    "\n",
    "def get_mean_encode(train,test,by_cols,on_col,name):\n",
    "    temp=train.groupby(by_cols)[on_col].mean().reset_index().rename(columns={on_col:name})\n",
    "    train=pd.merge(train,temp,how='left',on=by_cols)\n",
    "    test=pd.merge(test,temp,how='left',on=by_cols)\n",
    "    train[name].fillna(np.median(temp[name]),inplace=True)\n",
    "    test[name].fillna(np.median(temp[name]),inplace=True)\n",
    "    return train,test\n",
    "\n",
    "def remove_outliers(df, column):\n",
    "    print(f'Original dataframe has {df.shape[0]} records')\n",
    "    Q1 = df[column].quantile(0.25)\n",
    "    Q3 = df[column].quantile(0.75)\n",
    "    IQR = Q3 - Q1\n",
    "    low_fence = (Q1 - 1.5 * IQR)\n",
    "    high_fence = (Q3 + 1.5 * IQR)\n",
    "    df_out = df.loc[(df[column] > low_fence) & (df[column] < high_fence)]\n",
    "    print(f'Processed dataframe has {df_out.shape[0]} records')\n",
    "    print(f'Records discarded: {df.shape[0] - df_out.shape[0]}')\n",
    "        \n",
    "    return df_out"
   ]
  },
  {
   "cell_type": "code",
   "execution_count": 3,
   "metadata": {},
   "outputs": [],
   "source": [
    "train_data = pd.read_csv('./data/food_forecasting/train_files/train.csv')"
   ]
  },
  {
   "cell_type": "code",
   "execution_count": 4,
   "metadata": {},
   "outputs": [],
   "source": [
    "test_data = pd.read_csv('./data/food_forecasting/test.csv')"
   ]
  },
  {
   "cell_type": "code",
   "execution_count": 5,
   "metadata": {},
   "outputs": [],
   "source": [
    "meal_data = pd.read_csv('./data/food_forecasting/train_files/meal_info.csv')"
   ]
  },
  {
   "cell_type": "code",
   "execution_count": 6,
   "metadata": {},
   "outputs": [],
   "source": [
    "store_data = pd.read_csv('./data/food_forecasting/train_files/fulfilment_center_info.csv')"
   ]
  },
  {
   "cell_type": "code",
   "execution_count": 7,
   "metadata": {},
   "outputs": [],
   "source": [
    "train_data  = pd.merge(train_data, meal_data, how=\"left\",on='meal_id')"
   ]
  },
  {
   "cell_type": "code",
   "execution_count": 8,
   "metadata": {},
   "outputs": [],
   "source": [
    "full_train  = pd.merge(train_data, store_data, how=\"left\",on='center_id')"
   ]
  },
  {
   "cell_type": "code",
   "execution_count": 9,
   "metadata": {},
   "outputs": [],
   "source": [
    "test_data  = pd.merge(test_data, meal_data, how=\"left\",on='meal_id')"
   ]
  },
  {
   "cell_type": "code",
   "execution_count": 10,
   "metadata": {},
   "outputs": [],
   "source": [
    "full_test  = pd.merge(test_data, store_data, how=\"left\",on='center_id')\n",
    "full_test['num_orders'] = np.nan"
   ]
  },
  {
   "cell_type": "code",
   "execution_count": 11,
   "metadata": {},
   "outputs": [
    {
     "data": {
      "text/html": [
       "<div>\n",
       "<style scoped>\n",
       "    .dataframe tbody tr th:only-of-type {\n",
       "        vertical-align: middle;\n",
       "    }\n",
       "\n",
       "    .dataframe tbody tr th {\n",
       "        vertical-align: top;\n",
       "    }\n",
       "\n",
       "    .dataframe thead th {\n",
       "        text-align: right;\n",
       "    }\n",
       "</style>\n",
       "<table border=\"1\" class=\"dataframe\">\n",
       "  <thead>\n",
       "    <tr style=\"text-align: right;\">\n",
       "      <th></th>\n",
       "      <th>id</th>\n",
       "      <th>week</th>\n",
       "      <th>center_id</th>\n",
       "      <th>meal_id</th>\n",
       "      <th>checkout_price</th>\n",
       "      <th>base_price</th>\n",
       "      <th>emailer_for_promotion</th>\n",
       "      <th>homepage_featured</th>\n",
       "      <th>num_orders</th>\n",
       "      <th>category</th>\n",
       "      <th>cuisine</th>\n",
       "      <th>city_code</th>\n",
       "      <th>region_code</th>\n",
       "      <th>center_type</th>\n",
       "      <th>op_area</th>\n",
       "    </tr>\n",
       "  </thead>\n",
       "  <tbody>\n",
       "    <tr>\n",
       "      <th>0</th>\n",
       "      <td>1379560</td>\n",
       "      <td>1</td>\n",
       "      <td>55</td>\n",
       "      <td>1885</td>\n",
       "      <td>136.830</td>\n",
       "      <td>152.290</td>\n",
       "      <td>0</td>\n",
       "      <td>0</td>\n",
       "      <td>177</td>\n",
       "      <td>Beverages</td>\n",
       "      <td>Thai</td>\n",
       "      <td>647</td>\n",
       "      <td>56</td>\n",
       "      <td>TYPE_C</td>\n",
       "      <td>2.000</td>\n",
       "    </tr>\n",
       "    <tr>\n",
       "      <th>1</th>\n",
       "      <td>1466964</td>\n",
       "      <td>1</td>\n",
       "      <td>55</td>\n",
       "      <td>1993</td>\n",
       "      <td>136.830</td>\n",
       "      <td>135.830</td>\n",
       "      <td>0</td>\n",
       "      <td>0</td>\n",
       "      <td>270</td>\n",
       "      <td>Beverages</td>\n",
       "      <td>Thai</td>\n",
       "      <td>647</td>\n",
       "      <td>56</td>\n",
       "      <td>TYPE_C</td>\n",
       "      <td>2.000</td>\n",
       "    </tr>\n",
       "    <tr>\n",
       "      <th>2</th>\n",
       "      <td>1346989</td>\n",
       "      <td>1</td>\n",
       "      <td>55</td>\n",
       "      <td>2539</td>\n",
       "      <td>134.860</td>\n",
       "      <td>135.860</td>\n",
       "      <td>0</td>\n",
       "      <td>0</td>\n",
       "      <td>189</td>\n",
       "      <td>Beverages</td>\n",
       "      <td>Thai</td>\n",
       "      <td>647</td>\n",
       "      <td>56</td>\n",
       "      <td>TYPE_C</td>\n",
       "      <td>2.000</td>\n",
       "    </tr>\n",
       "    <tr>\n",
       "      <th>3</th>\n",
       "      <td>1338232</td>\n",
       "      <td>1</td>\n",
       "      <td>55</td>\n",
       "      <td>2139</td>\n",
       "      <td>339.500</td>\n",
       "      <td>437.530</td>\n",
       "      <td>0</td>\n",
       "      <td>0</td>\n",
       "      <td>54</td>\n",
       "      <td>Beverages</td>\n",
       "      <td>Indian</td>\n",
       "      <td>647</td>\n",
       "      <td>56</td>\n",
       "      <td>TYPE_C</td>\n",
       "      <td>2.000</td>\n",
       "    </tr>\n",
       "    <tr>\n",
       "      <th>4</th>\n",
       "      <td>1448490</td>\n",
       "      <td>1</td>\n",
       "      <td>55</td>\n",
       "      <td>2631</td>\n",
       "      <td>243.500</td>\n",
       "      <td>242.500</td>\n",
       "      <td>0</td>\n",
       "      <td>0</td>\n",
       "      <td>40</td>\n",
       "      <td>Beverages</td>\n",
       "      <td>Indian</td>\n",
       "      <td>647</td>\n",
       "      <td>56</td>\n",
       "      <td>TYPE_C</td>\n",
       "      <td>2.000</td>\n",
       "    </tr>\n",
       "  </tbody>\n",
       "</table>\n",
       "</div>"
      ],
      "text/plain": [
       "        id  week  center_id  meal_id  checkout_price  base_price  \\\n",
       "0  1379560     1         55     1885         136.830     152.290   \n",
       "1  1466964     1         55     1993         136.830     135.830   \n",
       "2  1346989     1         55     2539         134.860     135.860   \n",
       "3  1338232     1         55     2139         339.500     437.530   \n",
       "4  1448490     1         55     2631         243.500     242.500   \n",
       "\n",
       "   emailer_for_promotion  homepage_featured  num_orders   category cuisine  \\\n",
       "0                      0                  0         177  Beverages    Thai   \n",
       "1                      0                  0         270  Beverages    Thai   \n",
       "2                      0                  0         189  Beverages    Thai   \n",
       "3                      0                  0          54  Beverages  Indian   \n",
       "4                      0                  0          40  Beverages  Indian   \n",
       "\n",
       "   city_code  region_code center_type  op_area  \n",
       "0        647           56      TYPE_C    2.000  \n",
       "1        647           56      TYPE_C    2.000  \n",
       "2        647           56      TYPE_C    2.000  \n",
       "3        647           56      TYPE_C    2.000  \n",
       "4        647           56      TYPE_C    2.000  "
      ]
     },
     "metadata": {},
     "output_type": "display_data"
    }
   ],
   "source": [
    "display_all(full_train.head())"
   ]
  },
  {
   "cell_type": "code",
   "execution_count": 12,
   "metadata": {},
   "outputs": [
    {
     "name": "stdout",
     "output_type": "stream",
     "text": [
      "<class 'pandas.core.frame.DataFrame'>\n",
      "Int64Index: 456548 entries, 0 to 456547\n",
      "Data columns (total 15 columns):\n",
      "id                       456548 non-null int64\n",
      "week                     456548 non-null int64\n",
      "center_id                456548 non-null int64\n",
      "meal_id                  456548 non-null int64\n",
      "checkout_price           456548 non-null float64\n",
      "base_price               456548 non-null float64\n",
      "emailer_for_promotion    456548 non-null int64\n",
      "homepage_featured        456548 non-null int64\n",
      "num_orders               456548 non-null int64\n",
      "category                 456548 non-null object\n",
      "cuisine                  456548 non-null object\n",
      "city_code                456548 non-null int64\n",
      "region_code              456548 non-null int64\n",
      "center_type              456548 non-null object\n",
      "op_area                  456548 non-null float64\n",
      "dtypes: float64(3), int64(9), object(3)\n",
      "memory usage: 55.7+ MB\n"
     ]
    }
   ],
   "source": [
    "full_train.info()"
   ]
  },
  {
   "cell_type": "code",
   "execution_count": 13,
   "metadata": {},
   "outputs": [
    {
     "name": "stdout",
     "output_type": "stream",
     "text": [
      "<class 'pandas.core.frame.DataFrame'>\n",
      "Int64Index: 32573 entries, 0 to 32572\n",
      "Data columns (total 15 columns):\n",
      "id                       32573 non-null int64\n",
      "week                     32573 non-null int64\n",
      "center_id                32573 non-null int64\n",
      "meal_id                  32573 non-null int64\n",
      "checkout_price           32573 non-null float64\n",
      "base_price               32573 non-null float64\n",
      "emailer_for_promotion    32573 non-null int64\n",
      "homepage_featured        32573 non-null int64\n",
      "category                 32573 non-null object\n",
      "cuisine                  32573 non-null object\n",
      "city_code                32573 non-null int64\n",
      "region_code              32573 non-null int64\n",
      "center_type              32573 non-null object\n",
      "op_area                  32573 non-null float64\n",
      "num_orders               0 non-null float64\n",
      "dtypes: float64(4), int64(8), object(3)\n",
      "memory usage: 4.0+ MB\n"
     ]
    }
   ],
   "source": [
    "full_test.info()"
   ]
  },
  {
   "cell_type": "code",
   "execution_count": 14,
   "metadata": {},
   "outputs": [
    {
     "data": {
      "text/html": [
       "<div>\n",
       "<style scoped>\n",
       "    .dataframe tbody tr th:only-of-type {\n",
       "        vertical-align: middle;\n",
       "    }\n",
       "\n",
       "    .dataframe tbody tr th {\n",
       "        vertical-align: top;\n",
       "    }\n",
       "\n",
       "    .dataframe thead th {\n",
       "        text-align: right;\n",
       "    }\n",
       "</style>\n",
       "<table border=\"1\" class=\"dataframe\">\n",
       "  <thead>\n",
       "    <tr style=\"text-align: right;\">\n",
       "      <th></th>\n",
       "      <th>id</th>\n",
       "      <th>week</th>\n",
       "      <th>center_id</th>\n",
       "      <th>meal_id</th>\n",
       "      <th>checkout_price</th>\n",
       "      <th>base_price</th>\n",
       "      <th>emailer_for_promotion</th>\n",
       "      <th>homepage_featured</th>\n",
       "      <th>num_orders</th>\n",
       "      <th>city_code</th>\n",
       "      <th>region_code</th>\n",
       "      <th>op_area</th>\n",
       "    </tr>\n",
       "  </thead>\n",
       "  <tbody>\n",
       "    <tr>\n",
       "      <th>count</th>\n",
       "      <td>456548.000</td>\n",
       "      <td>456548.000</td>\n",
       "      <td>456548.000</td>\n",
       "      <td>456548.000</td>\n",
       "      <td>456548.000</td>\n",
       "      <td>456548.000</td>\n",
       "      <td>456548.000</td>\n",
       "      <td>456548.000</td>\n",
       "      <td>456548.000</td>\n",
       "      <td>456548.000</td>\n",
       "      <td>456548.000</td>\n",
       "      <td>456548.000</td>\n",
       "    </tr>\n",
       "    <tr>\n",
       "      <th>mean</th>\n",
       "      <td>1250096.306</td>\n",
       "      <td>74.769</td>\n",
       "      <td>82.106</td>\n",
       "      <td>2024.337</td>\n",
       "      <td>332.239</td>\n",
       "      <td>354.157</td>\n",
       "      <td>0.081</td>\n",
       "      <td>0.109</td>\n",
       "      <td>261.873</td>\n",
       "      <td>601.553</td>\n",
       "      <td>56.615</td>\n",
       "      <td>4.084</td>\n",
       "    </tr>\n",
       "    <tr>\n",
       "      <th>std</th>\n",
       "      <td>144354.822</td>\n",
       "      <td>41.525</td>\n",
       "      <td>45.975</td>\n",
       "      <td>547.421</td>\n",
       "      <td>152.940</td>\n",
       "      <td>160.716</td>\n",
       "      <td>0.273</td>\n",
       "      <td>0.312</td>\n",
       "      <td>395.923</td>\n",
       "      <td>66.196</td>\n",
       "      <td>17.641</td>\n",
       "      <td>1.092</td>\n",
       "    </tr>\n",
       "    <tr>\n",
       "      <th>min</th>\n",
       "      <td>1000000.000</td>\n",
       "      <td>1.000</td>\n",
       "      <td>10.000</td>\n",
       "      <td>1062.000</td>\n",
       "      <td>2.970</td>\n",
       "      <td>55.350</td>\n",
       "      <td>0.000</td>\n",
       "      <td>0.000</td>\n",
       "      <td>13.000</td>\n",
       "      <td>456.000</td>\n",
       "      <td>23.000</td>\n",
       "      <td>0.900</td>\n",
       "    </tr>\n",
       "    <tr>\n",
       "      <th>25%</th>\n",
       "      <td>1124998.750</td>\n",
       "      <td>39.000</td>\n",
       "      <td>43.000</td>\n",
       "      <td>1558.000</td>\n",
       "      <td>228.950</td>\n",
       "      <td>243.500</td>\n",
       "      <td>0.000</td>\n",
       "      <td>0.000</td>\n",
       "      <td>54.000</td>\n",
       "      <td>553.000</td>\n",
       "      <td>34.000</td>\n",
       "      <td>3.600</td>\n",
       "    </tr>\n",
       "    <tr>\n",
       "      <th>50%</th>\n",
       "      <td>1250183.500</td>\n",
       "      <td>76.000</td>\n",
       "      <td>76.000</td>\n",
       "      <td>1993.000</td>\n",
       "      <td>296.820</td>\n",
       "      <td>310.460</td>\n",
       "      <td>0.000</td>\n",
       "      <td>0.000</td>\n",
       "      <td>136.000</td>\n",
       "      <td>596.000</td>\n",
       "      <td>56.000</td>\n",
       "      <td>4.000</td>\n",
       "    </tr>\n",
       "    <tr>\n",
       "      <th>75%</th>\n",
       "      <td>1375140.250</td>\n",
       "      <td>111.000</td>\n",
       "      <td>110.000</td>\n",
       "      <td>2539.000</td>\n",
       "      <td>445.230</td>\n",
       "      <td>458.870</td>\n",
       "      <td>0.000</td>\n",
       "      <td>0.000</td>\n",
       "      <td>324.000</td>\n",
       "      <td>651.000</td>\n",
       "      <td>77.000</td>\n",
       "      <td>4.500</td>\n",
       "    </tr>\n",
       "    <tr>\n",
       "      <th>max</th>\n",
       "      <td>1499999.000</td>\n",
       "      <td>145.000</td>\n",
       "      <td>186.000</td>\n",
       "      <td>2956.000</td>\n",
       "      <td>866.270</td>\n",
       "      <td>866.270</td>\n",
       "      <td>1.000</td>\n",
       "      <td>1.000</td>\n",
       "      <td>24299.000</td>\n",
       "      <td>713.000</td>\n",
       "      <td>93.000</td>\n",
       "      <td>7.000</td>\n",
       "    </tr>\n",
       "  </tbody>\n",
       "</table>\n",
       "</div>"
      ],
      "text/plain": [
       "               id       week  center_id    meal_id  checkout_price  \\\n",
       "count  456548.000 456548.000 456548.000 456548.000      456548.000   \n",
       "mean  1250096.306     74.769     82.106   2024.337         332.239   \n",
       "std    144354.822     41.525     45.975    547.421         152.940   \n",
       "min   1000000.000      1.000     10.000   1062.000           2.970   \n",
       "25%   1124998.750     39.000     43.000   1558.000         228.950   \n",
       "50%   1250183.500     76.000     76.000   1993.000         296.820   \n",
       "75%   1375140.250    111.000    110.000   2539.000         445.230   \n",
       "max   1499999.000    145.000    186.000   2956.000         866.270   \n",
       "\n",
       "       base_price  emailer_for_promotion  homepage_featured  num_orders  \\\n",
       "count  456548.000             456548.000         456548.000  456548.000   \n",
       "mean      354.157                  0.081              0.109     261.873   \n",
       "std       160.716                  0.273              0.312     395.923   \n",
       "min        55.350                  0.000              0.000      13.000   \n",
       "25%       243.500                  0.000              0.000      54.000   \n",
       "50%       310.460                  0.000              0.000     136.000   \n",
       "75%       458.870                  0.000              0.000     324.000   \n",
       "max       866.270                  1.000              1.000   24299.000   \n",
       "\n",
       "       city_code  region_code    op_area  \n",
       "count 456548.000   456548.000 456548.000  \n",
       "mean     601.553       56.615      4.084  \n",
       "std       66.196       17.641      1.092  \n",
       "min      456.000       23.000      0.900  \n",
       "25%      553.000       34.000      3.600  \n",
       "50%      596.000       56.000      4.000  \n",
       "75%      651.000       77.000      4.500  \n",
       "max      713.000       93.000      7.000  "
      ]
     },
     "execution_count": 14,
     "metadata": {},
     "output_type": "execute_result"
    }
   ],
   "source": [
    "full_train.describe()"
   ]
  },
  {
   "cell_type": "code",
   "execution_count": 15,
   "metadata": {},
   "outputs": [],
   "source": [
    "numerical = full_train._get_numeric_data().columns.tolist()\n",
    "categorical = ['category', 'cuisine', 'center_type']"
   ]
  },
  {
   "cell_type": "markdown",
   "metadata": {},
   "source": [
    "### Exploratory Data Analysis"
   ]
  },
  {
   "cell_type": "code",
   "execution_count": 16,
   "metadata": {},
   "outputs": [
    {
     "data": {
      "image/png": "[encoded data removed]",
      "text/plain": [
       "<Figure size 1584x432 with 12 Axes>"
      ]
     },
     "metadata": {},
     "output_type": "display_data"
    }
   ],
   "source": [
    "full_train[numerical].hist( figsize=(22, 6), layout=(2, 6));"
   ]
  },
  {
   "cell_type": "code",
   "execution_count": 17,
   "metadata": {},
   "outputs": [
    {
     "data": {
      "image/png": "[encoded data removed]",
      "text/plain": [
       "<Figure size 1080x1080 with 3 Axes>"
      ]
     },
     "metadata": {},
     "output_type": "display_data"
    }
   ],
   "source": [
    "fig, ax = plt.subplots(3, 1, figsize=(15, 15))\n",
    "for variable, subplot in zip(categorical, ax.flatten()):\n",
    "    sns.countplot(full_train[variable], ax=subplot)\n",
    "    for label in subplot.get_xticklabels():\n",
    "        label.set_rotation(15)"
   ]
  },
  {
   "cell_type": "code",
   "execution_count": 18,
   "metadata": {},
   "outputs": [
    {
     "data": {
      "image/png": "[encoded data removed]",
      "text/plain": [
       "<Figure size 1080x1080 with 3 Axes>"
      ]
     },
     "metadata": {},
     "output_type": "display_data"
    }
   ],
   "source": [
    "fig, ax = plt.subplots(3, 1, figsize=(15, 15))\n",
    "for var, subplot in zip(categorical, ax.flatten()):\n",
    "    sorted_vals = full_train.groupby([var])['num_orders'].median().sort_values()\n",
    "    sns.boxplot(x=var, y='num_orders', data=full_train, ax=subplot, order=list(sorted_vals.index))"
   ]
  },
  {
   "cell_type": "code",
   "execution_count": 19,
   "metadata": {},
   "outputs": [
    {
     "data": {
      "image/png": "[encoded data removed]",
      "text/plain": [
       "<Figure size 864x216 with 3 Axes>"
      ]
     },
     "metadata": {},
     "output_type": "display_data"
    }
   ],
   "source": [
    "cond_plot = sns.FacetGrid(data=full_train, col='center_type', hue='cuisine', col_wrap=4)\n",
    "cond_plot.map(sns.scatterplot, 'cuisine', 'num_orders');"
   ]
  },
  {
   "cell_type": "code",
   "execution_count": 20,
   "metadata": {},
   "outputs": [
    {
     "data": {
      "image/png": "[encoded data removed]",
      "text/plain": [
       "<Figure size 1080x1080 with 3 Axes>"
      ]
     },
     "metadata": {},
     "output_type": "display_data"
    }
   ],
   "source": [
    "fig, ax = plt.subplots(3, 1, figsize=(15, 15))\n",
    "for var, subplot in zip(categorical, ax.flatten()):\n",
    "    sorted_vals = full_train.groupby([var])['base_price'].median().sort_values()\n",
    "    sns.boxplot(x=var, y='base_price', data=full_train, ax=subplot, order=list(sorted_vals.index))"
   ]
  },
  {
   "cell_type": "code",
   "execution_count": 21,
   "metadata": {},
   "outputs": [
    {
     "data": {
      "image/png": "[encoded data removed]",
      "text/plain": [
       "<Figure size 1080x1080 with 3 Axes>"
      ]
     },
     "metadata": {},
     "output_type": "display_data"
    }
   ],
   "source": [
    "fig, ax = plt.subplots(3, 1, figsize=(15, 15))\n",
    "for var, subplot in zip(categorical, ax.flatten()):\n",
    "    sorted_vals = full_train.groupby([var])['checkout_price'].median().sort_values()\n",
    "    sns.boxplot(x=var, y='checkout_price', data=full_train, ax=subplot, order=list(sorted_vals.index))"
   ]
  },
  {
   "cell_type": "code",
   "execution_count": 22,
   "metadata": {},
   "outputs": [
    {
     "data": {
      "image/png": "[encoded data removed]",
      "text/plain": [
       "<Figure size 432x432 with 3 Axes>"
      ]
     },
     "metadata": {},
     "output_type": "display_data"
    }
   ],
   "source": [
    "sns.jointplot(x=full_train['base_price'], y=full_train['num_orders']);"
   ]
  },
  {
   "cell_type": "code",
   "execution_count": 23,
   "metadata": {},
   "outputs": [
    {
     "data": {
      "image/png": "[encoded data removed]",
      "text/plain": [
       "<Figure size 432x432 with 3 Axes>"
      ]
     },
     "metadata": {},
     "output_type": "display_data"
    }
   ],
   "source": [
    "sns.jointplot(x=full_train['checkout_price'], y=full_train['num_orders']);"
   ]
  },
  {
   "cell_type": "code",
   "execution_count": 24,
   "metadata": {},
   "outputs": [
    {
     "data": {
      "image/png": "[encoded data removed]",
      "text/plain": [
       "<Figure size 432x432 with 3 Axes>"
      ]
     },
     "metadata": {},
     "output_type": "display_data"
    }
   ],
   "source": [
    "sns.jointplot(x=full_train['checkout_price'], y=full_train['base_price']);"
   ]
  },
  {
   "cell_type": "code",
   "execution_count": 25,
   "metadata": {},
   "outputs": [
    {
     "data": {
      "image/png": "[encoded data removed]",
      "text/plain": [
       "<Figure size 432x432 with 3 Axes>"
      ]
     },
     "metadata": {},
     "output_type": "display_data"
    }
   ],
   "source": [
    "sns.jointplot(x=full_train['op_area'], y=full_train['num_orders']);"
   ]
  },
  {
   "cell_type": "code",
   "execution_count": 26,
   "metadata": {},
   "outputs": [
    {
     "data": {
      "image/png": "[encoded data removed]",
      "text/plain": [
       "<Figure size 432x432 with 3 Axes>"
      ]
     },
     "metadata": {},
     "output_type": "display_data"
    }
   ],
   "source": [
    "sns.jointplot(x=full_train['emailer_for_promotion'], y=full_train['num_orders']);"
   ]
  },
  {
   "cell_type": "code",
   "execution_count": 27,
   "metadata": {},
   "outputs": [
    {
     "data": {
      "image/png": "[encoded data removed]",
      "text/plain": [
       "<Figure size 432x432 with 3 Axes>"
      ]
     },
     "metadata": {},
     "output_type": "display_data"
    }
   ],
   "source": [
    "sns.jointplot(x=full_train['homepage_featured'], y=full_train['num_orders']);"
   ]
  },
  {
   "cell_type": "code",
   "execution_count": 28,
   "metadata": {},
   "outputs": [
    {
     "data": {
      "text/plain": [
       "base_price              0.000\n",
       "category                0.000\n",
       "center_id               0.000\n",
       "center_type             0.000\n",
       "checkout_price          0.000\n",
       "city_code               0.000\n",
       "cuisine                 0.000\n",
       "emailer_for_promotion   0.000\n",
       "homepage_featured       0.000\n",
       "id                      0.000\n",
       "meal_id                 0.000\n",
       "num_orders              0.000\n",
       "op_area                 0.000\n",
       "region_code             0.000\n",
       "week                    0.000\n",
       "dtype: float64"
      ]
     },
     "metadata": {},
     "output_type": "display_data"
    }
   ],
   "source": [
    "display_all(full_train.isnull().sum().sort_index()/len(full_train))"
   ]
  },
  {
   "cell_type": "markdown",
   "metadata": {},
   "source": [
    "### Feature Engineering"
   ]
  },
  {
   "cell_type": "code",
   "execution_count": 29,
   "metadata": {},
   "outputs": [],
   "source": [
    "full_data = full_train.append(full_test)"
   ]
  },
  {
   "cell_type": "code",
   "execution_count": 30,
   "metadata": {},
   "outputs": [
    {
     "data": {
      "text/html": [
       "<div>\n",
       "<style scoped>\n",
       "    .dataframe tbody tr th:only-of-type {\n",
       "        vertical-align: middle;\n",
       "    }\n",
       "\n",
       "    .dataframe tbody tr th {\n",
       "        vertical-align: top;\n",
       "    }\n",
       "\n",
       "    .dataframe thead th {\n",
       "        text-align: right;\n",
       "    }\n",
       "</style>\n",
       "<table border=\"1\" class=\"dataframe\">\n",
       "  <thead>\n",
       "    <tr style=\"text-align: right;\">\n",
       "      <th></th>\n",
       "      <th>base_price</th>\n",
       "      <th>category</th>\n",
       "      <th>center_id</th>\n",
       "      <th>center_type</th>\n",
       "      <th>checkout_price</th>\n",
       "      <th>city_code</th>\n",
       "      <th>cuisine</th>\n",
       "      <th>emailer_for_promotion</th>\n",
       "      <th>homepage_featured</th>\n",
       "      <th>id</th>\n",
       "      <th>meal_id</th>\n",
       "      <th>num_orders</th>\n",
       "      <th>op_area</th>\n",
       "      <th>region_code</th>\n",
       "      <th>week</th>\n",
       "    </tr>\n",
       "  </thead>\n",
       "  <tbody>\n",
       "    <tr>\n",
       "      <th>32568</th>\n",
       "      <td>484.090</td>\n",
       "      <td>Desert</td>\n",
       "      <td>61</td>\n",
       "      <td>TYPE_A</td>\n",
       "      <td>482.090</td>\n",
       "      <td>473</td>\n",
       "      <td>Indian</td>\n",
       "      <td>0</td>\n",
       "      <td>0</td>\n",
       "      <td>1250239</td>\n",
       "      <td>1543</td>\n",
       "      <td>nan</td>\n",
       "      <td>4.500</td>\n",
       "      <td>77</td>\n",
       "      <td>155</td>\n",
       "    </tr>\n",
       "    <tr>\n",
       "      <th>32569</th>\n",
       "      <td>483.090</td>\n",
       "      <td>Desert</td>\n",
       "      <td>61</td>\n",
       "      <td>TYPE_A</td>\n",
       "      <td>483.090</td>\n",
       "      <td>473</td>\n",
       "      <td>Indian</td>\n",
       "      <td>0</td>\n",
       "      <td>0</td>\n",
       "      <td>1039516</td>\n",
       "      <td>2304</td>\n",
       "      <td>nan</td>\n",
       "      <td>4.500</td>\n",
       "      <td>77</td>\n",
       "      <td>155</td>\n",
       "    </tr>\n",
       "    <tr>\n",
       "      <th>32570</th>\n",
       "      <td>323.070</td>\n",
       "      <td>Salad</td>\n",
       "      <td>61</td>\n",
       "      <td>TYPE_A</td>\n",
       "      <td>322.070</td>\n",
       "      <td>473</td>\n",
       "      <td>Italian</td>\n",
       "      <td>0</td>\n",
       "      <td>0</td>\n",
       "      <td>1158107</td>\n",
       "      <td>2664</td>\n",
       "      <td>nan</td>\n",
       "      <td>4.500</td>\n",
       "      <td>77</td>\n",
       "      <td>155</td>\n",
       "    </tr>\n",
       "    <tr>\n",
       "      <th>32571</th>\n",
       "      <td>323.070</td>\n",
       "      <td>Salad</td>\n",
       "      <td>61</td>\n",
       "      <td>TYPE_A</td>\n",
       "      <td>322.070</td>\n",
       "      <td>473</td>\n",
       "      <td>Italian</td>\n",
       "      <td>0</td>\n",
       "      <td>0</td>\n",
       "      <td>1444235</td>\n",
       "      <td>2569</td>\n",
       "      <td>nan</td>\n",
       "      <td>4.500</td>\n",
       "      <td>77</td>\n",
       "      <td>155</td>\n",
       "    </tr>\n",
       "    <tr>\n",
       "      <th>32572</th>\n",
       "      <td>276.450</td>\n",
       "      <td>Salad</td>\n",
       "      <td>61</td>\n",
       "      <td>TYPE_A</td>\n",
       "      <td>276.450</td>\n",
       "      <td>473</td>\n",
       "      <td>Italian</td>\n",
       "      <td>0</td>\n",
       "      <td>0</td>\n",
       "      <td>1291286</td>\n",
       "      <td>2490</td>\n",
       "      <td>nan</td>\n",
       "      <td>4.500</td>\n",
       "      <td>77</td>\n",
       "      <td>155</td>\n",
       "    </tr>\n",
       "  </tbody>\n",
       "</table>\n",
       "</div>"
      ],
      "text/plain": [
       "       base_price category  center_id center_type  checkout_price  city_code  \\\n",
       "32568     484.090   Desert         61      TYPE_A         482.090        473   \n",
       "32569     483.090   Desert         61      TYPE_A         483.090        473   \n",
       "32570     323.070    Salad         61      TYPE_A         322.070        473   \n",
       "32571     323.070    Salad         61      TYPE_A         322.070        473   \n",
       "32572     276.450    Salad         61      TYPE_A         276.450        473   \n",
       "\n",
       "       cuisine  emailer_for_promotion  homepage_featured       id  meal_id  \\\n",
       "32568   Indian                      0                  0  1250239     1543   \n",
       "32569   Indian                      0                  0  1039516     2304   \n",
       "32570  Italian                      0                  0  1158107     2664   \n",
       "32571  Italian                      0                  0  1444235     2569   \n",
       "32572  Italian                      0                  0  1291286     2490   \n",
       "\n",
       "       num_orders  op_area  region_code  week  \n",
       "32568         nan    4.500           77   155  \n",
       "32569         nan    4.500           77   155  \n",
       "32570         nan    4.500           77   155  \n",
       "32571         nan    4.500           77   155  \n",
       "32572         nan    4.500           77   155  "
      ]
     },
     "metadata": {},
     "output_type": "display_data"
    }
   ],
   "source": [
    "display_all(full_data.tail())"
   ]
  },
  {
   "cell_type": "code",
   "execution_count": 31,
   "metadata": {},
   "outputs": [],
   "source": [
    "full_data['discount_avail'] = np.where(full_data['checkout_price'] > full_data['base_price']\n",
    "                                      ,'no'\n",
    "                                      ,np.where(full_data['base_price'] > full_data['checkout_price']\n",
    "                                               ,'yes'\n",
    "                                               ,'same')\n",
    "                                      )"
   ]
  },
  {
   "cell_type": "code",
   "execution_count": 32,
   "metadata": {},
   "outputs": [],
   "source": [
    "full_data['discount_rate'] = np.where(full_data['base_price'] > full_data['checkout_price']\n",
    "                                      ,round(100*(full_data['base_price'] - full_data['checkout_price'])\n",
    "                                             /full_data['base_price'],2)\n",
    "                                      ,0\n",
    "                                      )"
   ]
  },
  {
   "cell_type": "code",
   "execution_count": 33,
   "metadata": {},
   "outputs": [],
   "source": [
    "full_data['surcharge'] = np.where(full_data['checkout_price'] > full_data['base_price']\n",
    "                                      ,round(100*(full_data['checkout_price'] - full_data['base_price'])\n",
    "                                             /full_data['checkout_price'],2)\n",
    "                                      ,0\n",
    "                                      )"
   ]
  },
  {
   "cell_type": "code",
   "execution_count": 34,
   "metadata": {},
   "outputs": [],
   "source": [
    "full_data['price_diff'] = full_data['checkout_price'] - full_data['base_price']"
   ]
  },
  {
   "cell_type": "code",
   "execution_count": 35,
   "metadata": {},
   "outputs": [],
   "source": [
    "full_data['promo_combo'] = full_data['emailer_for_promotion'] + full_data['homepage_featured']"
   ]
  },
  {
   "cell_type": "code",
   "execution_count": 36,
   "metadata": {},
   "outputs": [],
   "source": [
    "full_data['op_area_disc'] = full_data['discount_rate']*full_data['op_area']"
   ]
  },
  {
   "cell_type": "code",
   "execution_count": 37,
   "metadata": {},
   "outputs": [],
   "source": [
    "full_data['op_area_surch'] = full_data['surcharge']*full_data['op_area']"
   ]
  },
  {
   "cell_type": "code",
   "execution_count": 38,
   "metadata": {},
   "outputs": [],
   "source": [
    "full_data['op_area_promo'] = full_data['promo_combo']*full_data['op_area']"
   ]
  },
  {
   "cell_type": "code",
   "execution_count": 39,
   "metadata": {},
   "outputs": [],
   "source": [
    "train_df = full_data[:len(train_data)]"
   ]
  },
  {
   "cell_type": "code",
   "execution_count": 40,
   "metadata": {},
   "outputs": [],
   "source": [
    "test_df = full_data[len(train_data):]"
   ]
  },
  {
   "cell_type": "code",
   "execution_count": 41,
   "metadata": {},
   "outputs": [],
   "source": [
    "train_df['week_num']=train_df.week%52\n",
    "test_df['week_num']=test_df.week%52\n",
    "\n",
    "train_df['week_num'] = np.where(train_df['week_num'] == 0 ,52, train_df['week_num'])\n",
    "test_df['week_num'] = np.where(test_df['week_num'] == 0 ,52, test_df['week_num'])"
   ]
  },
  {
   "cell_type": "code",
   "execution_count": 42,
   "metadata": {},
   "outputs": [],
   "source": [
    "center_meal_df = calc_smooth_mean(train_df, ['center_id', 'meal_id'], 'num_orders', 300).reset_index()\n",
    "center_meal_df.rename(index=str,columns={0:'cen_meal_orders'}, inplace=True)"
   ]
  },
  {
   "cell_type": "code",
   "execution_count": 43,
   "metadata": {},
   "outputs": [],
   "source": [
    "center_category_df = calc_smooth_mean(train_df, ['center_id', 'category'], 'num_orders', 300).reset_index()\n",
    "center_category_df.rename(index=str,columns={0:'cen_cat_orders'}, inplace=True)"
   ]
  },
  {
   "cell_type": "code",
   "execution_count": 44,
   "metadata": {},
   "outputs": [],
   "source": [
    "center_cuisine_df = calc_smooth_mean(train_df, ['center_id', 'cuisine'], 'num_orders', 300).reset_index()\n",
    "center_cuisine_df.rename(index=str,columns={0:'cen_cus_orders'}, inplace=True)"
   ]
  },
  {
   "cell_type": "code",
   "execution_count": 45,
   "metadata": {},
   "outputs": [],
   "source": [
    "promo_disc_df = calc_smooth_mean(train_df, ['promo_combo'\n",
    "                                            , 'discount_avail'\n",
    "                                            , 'category'\n",
    "                                           ], 'num_orders', 300).reset_index()\n",
    "promo_disc_df.rename(index=str,columns={0:'promo_disc_orders'}, inplace=True)"
   ]
  },
  {
   "cell_type": "code",
   "execution_count": 46,
   "metadata": {},
   "outputs": [],
   "source": [
    "city_reg_cent_df = calc_smooth_mean(train_df, ['city_code'\n",
    "                                              , 'region_code'\n",
    "                                              , 'center_type'\n",
    "                                              ], 'num_orders', 300).reset_index()\n",
    "city_reg_cent_df.rename(index=str,columns={0:'city_reg_cent_orders'}, inplace=True)"
   ]
  },
  {
   "cell_type": "code",
   "execution_count": 47,
   "metadata": {},
   "outputs": [],
   "source": [
    "centype_cat_cus_df = calc_smooth_mean(train_df, ['center_type'\n",
    "                                                , 'category'\n",
    "                                                , 'cuisine'\n",
    "                                                ], 'num_orders', 300).reset_index()\n",
    "centype_cat_cus_df.rename(index=str,columns={0:'centype_cat_cus_orders'}, inplace=True)"
   ]
  },
  {
   "cell_type": "code",
   "execution_count": 48,
   "metadata": {},
   "outputs": [],
   "source": [
    "train_df  = pd.merge(train_df, center_category_df, how=\"left\", on=['center_id', 'category'])\n",
    "train_df  = pd.merge(train_df, center_meal_df, how=\"left\", on=['center_id', 'meal_id'])\n",
    "train_df  = pd.merge(train_df, center_cuisine_df, how=\"left\", on=['center_id', 'cuisine'])\n",
    "train_df  = pd.merge(train_df, promo_disc_df, how=\"left\", on=['promo_combo', 'discount_avail' ,'category'])\n",
    "train_df  = pd.merge(train_df, city_reg_cent_df, how=\"left\", on=['city_code', 'region_code' ,'center_type'])\n",
    "train_df  = pd.merge(train_df, centype_cat_cus_df, how=\"left\", on=['center_type', 'category' ,'cuisine'])"
   ]
  },
  {
   "cell_type": "code",
   "execution_count": 49,
   "metadata": {},
   "outputs": [],
   "source": [
    "test_df  = pd.merge(test_df, center_category_df, how=\"left\", on=['center_id', 'category'])\n",
    "test_df  = pd.merge(test_df, center_meal_df, how=\"left\", on=['center_id', 'meal_id'])\n",
    "test_df  = pd.merge(test_df, center_cuisine_df, how=\"left\", on=['center_id', 'cuisine'])\n",
    "test_df  = pd.merge(test_df, promo_disc_df, how=\"left\", on=['promo_combo', 'discount_avail','category'])\n",
    "test_df  = pd.merge(test_df, city_reg_cent_df, how=\"left\", on=['city_code', 'region_code' ,'center_type'])\n",
    "test_df  = pd.merge(test_df, centype_cat_cus_df, how=\"left\", on=['center_type', 'category' ,'cuisine'])"
   ]
  },
  {
   "cell_type": "code",
   "execution_count": 50,
   "metadata": {},
   "outputs": [],
   "source": [
    "train_df, test_df = get_count_encode(train_df,test_df,['week_num','center_id'],'id','count_week_center')\n",
    "train_df, test_df = get_count_encode(train_df,test_df,['week_num','meal_id'],'id','count_week_meal')"
   ]
  },
  {
   "cell_type": "code",
   "execution_count": 51,
   "metadata": {},
   "outputs": [
    {
     "data": {
      "text/plain": [
       "((456548, 32), (456548, 11), (32573, 32), (32573, 10))"
      ]
     },
     "execution_count": 51,
     "metadata": {},
     "output_type": "execute_result"
    }
   ],
   "source": [
    "train_df.shape, train_data.shape, test_df.shape, test_data.shape"
   ]
  },
  {
   "cell_type": "code",
   "execution_count": 52,
   "metadata": {},
   "outputs": [
    {
     "data": {
      "text/plain": [
       "base_price               0.000\n",
       "category                 0.000\n",
       "cen_cat_orders           0.000\n",
       "cen_cus_orders           0.000\n",
       "cen_meal_orders          0.000\n",
       "center_id                0.000\n",
       "center_type              0.000\n",
       "centype_cat_cus_orders   0.000\n",
       "checkout_price           0.000\n",
       "city_code                0.000\n",
       "city_reg_cent_orders     0.000\n",
       "count_week_center        0.000\n",
       "count_week_meal          0.000\n",
       "cuisine                  0.000\n",
       "discount_avail           0.000\n",
       "discount_rate            0.000\n",
       "emailer_for_promotion    0.000\n",
       "homepage_featured        0.000\n",
       "id                       0.000\n",
       "meal_id                  0.000\n",
       "num_orders               0.000\n",
       "op_area                  0.000\n",
       "op_area_disc             0.000\n",
       "op_area_promo            0.000\n",
       "op_area_surch            0.000\n",
       "price_diff               0.000\n",
       "promo_combo              0.000\n",
       "promo_disc_orders        0.000\n",
       "region_code              0.000\n",
       "surcharge                0.000\n",
       "week                     0.000\n",
       "week_num                 0.000\n",
       "dtype: float64"
      ]
     },
     "metadata": {},
     "output_type": "display_data"
    }
   ],
   "source": [
    "display_all(100*train_df.isnull().sum().sort_index()/len(train_df))"
   ]
  },
  {
   "cell_type": "code",
   "execution_count": 53,
   "metadata": {},
   "outputs": [
    {
     "data": {
      "text/plain": [
       "base_price                 0.000\n",
       "category                   0.000\n",
       "cen_cat_orders             0.040\n",
       "cen_cus_orders             0.000\n",
       "cen_meal_orders            0.040\n",
       "center_id                  0.000\n",
       "center_type                0.000\n",
       "centype_cat_cus_orders     0.000\n",
       "checkout_price             0.000\n",
       "city_code                  0.000\n",
       "city_reg_cent_orders       0.000\n",
       "count_week_center          0.000\n",
       "count_week_meal            0.000\n",
       "cuisine                    0.000\n",
       "discount_avail             0.000\n",
       "discount_rate              0.000\n",
       "emailer_for_promotion      0.000\n",
       "homepage_featured          0.000\n",
       "id                         0.000\n",
       "meal_id                    0.000\n",
       "num_orders               100.000\n",
       "op_area                    0.000\n",
       "op_area_disc               0.000\n",
       "op_area_promo              0.000\n",
       "op_area_surch              0.000\n",
       "price_diff                 0.000\n",
       "promo_combo                0.000\n",
       "promo_disc_orders          0.000\n",
       "region_code                0.000\n",
       "surcharge                  0.000\n",
       "week                       0.000\n",
       "week_num                   0.000\n",
       "dtype: float64"
      ]
     },
     "metadata": {},
     "output_type": "display_data"
    }
   ],
   "source": [
    "display_all(100*test_df.isnull().sum().sort_index()/len(test_df))"
   ]
  },
  {
   "cell_type": "code",
   "execution_count": 54,
   "metadata": {},
   "outputs": [],
   "source": [
    "Train = train_df.copy(deep=True)\n",
    "Test = test_df.copy(deep=True)"
   ]
  },
  {
   "cell_type": "code",
   "execution_count": 55,
   "metadata": {},
   "outputs": [],
   "source": [
    "train_cats(train_df)"
   ]
  },
  {
   "cell_type": "code",
   "execution_count": 56,
   "metadata": {},
   "outputs": [],
   "source": [
    "apply_cats(test_df, train_df)"
   ]
  },
  {
   "cell_type": "code",
   "execution_count": 57,
   "metadata": {},
   "outputs": [],
   "source": [
    "df, y, nas = proc_df(train_df, 'num_orders', skip_flds=['id'])\n",
    "df_test, _, nas = proc_df(test_df, 'num_orders', skip_flds=['id'])"
   ]
  },
  {
   "cell_type": "code",
   "execution_count": 58,
   "metadata": {},
   "outputs": [
    {
     "data": {
      "text/html": [
       "<div>\n",
       "<style scoped>\n",
       "    .dataframe tbody tr th:only-of-type {\n",
       "        vertical-align: middle;\n",
       "    }\n",
       "\n",
       "    .dataframe tbody tr th {\n",
       "        vertical-align: top;\n",
       "    }\n",
       "\n",
       "    .dataframe thead th {\n",
       "        text-align: right;\n",
       "    }\n",
       "</style>\n",
       "<table border=\"1\" class=\"dataframe\">\n",
       "  <thead>\n",
       "    <tr style=\"text-align: right;\">\n",
       "      <th></th>\n",
       "      <th>base_price</th>\n",
       "      <th>category</th>\n",
       "      <th>center_id</th>\n",
       "      <th>center_type</th>\n",
       "      <th>checkout_price</th>\n",
       "      <th>city_code</th>\n",
       "      <th>cuisine</th>\n",
       "      <th>emailer_for_promotion</th>\n",
       "      <th>homepage_featured</th>\n",
       "      <th>meal_id</th>\n",
       "      <th>op_area</th>\n",
       "      <th>region_code</th>\n",
       "      <th>week</th>\n",
       "      <th>discount_avail</th>\n",
       "      <th>discount_rate</th>\n",
       "      <th>surcharge</th>\n",
       "      <th>price_diff</th>\n",
       "      <th>promo_combo</th>\n",
       "      <th>op_area_disc</th>\n",
       "      <th>op_area_surch</th>\n",
       "      <th>op_area_promo</th>\n",
       "      <th>week_num</th>\n",
       "      <th>cen_cat_orders</th>\n",
       "      <th>cen_meal_orders</th>\n",
       "      <th>cen_cus_orders</th>\n",
       "      <th>promo_disc_orders</th>\n",
       "      <th>city_reg_cent_orders</th>\n",
       "      <th>centype_cat_cus_orders</th>\n",
       "      <th>count_week_center</th>\n",
       "      <th>count_week_meal</th>\n",
       "    </tr>\n",
       "  </thead>\n",
       "  <tbody>\n",
       "    <tr>\n",
       "      <th>0</th>\n",
       "      <td>152.290</td>\n",
       "      <td>1</td>\n",
       "      <td>55</td>\n",
       "      <td>3</td>\n",
       "      <td>136.830</td>\n",
       "      <td>647</td>\n",
       "      <td>4</td>\n",
       "      <td>0</td>\n",
       "      <td>0</td>\n",
       "      <td>1885</td>\n",
       "      <td>2.000</td>\n",
       "      <td>56</td>\n",
       "      <td>1</td>\n",
       "      <td>3</td>\n",
       "      <td>10.150</td>\n",
       "      <td>0.000</td>\n",
       "      <td>-15.460</td>\n",
       "      <td>0</td>\n",
       "      <td>20.300</td>\n",
       "      <td>0.000</td>\n",
       "      <td>0.000</td>\n",
       "      <td>1</td>\n",
       "      <td>191.066</td>\n",
       "      <td>251.593</td>\n",
       "      <td>151.683</td>\n",
       "      <td>275.620</td>\n",
       "      <td>168.896</td>\n",
       "      <td>280.842</td>\n",
       "      <td>112</td>\n",
       "      <td>230</td>\n",
       "    </tr>\n",
       "    <tr>\n",
       "      <th>1</th>\n",
       "      <td>135.830</td>\n",
       "      <td>1</td>\n",
       "      <td>55</td>\n",
       "      <td>3</td>\n",
       "      <td>136.830</td>\n",
       "      <td>647</td>\n",
       "      <td>4</td>\n",
       "      <td>0</td>\n",
       "      <td>0</td>\n",
       "      <td>1993</td>\n",
       "      <td>2.000</td>\n",
       "      <td>56</td>\n",
       "      <td>1</td>\n",
       "      <td>1</td>\n",
       "      <td>0.000</td>\n",
       "      <td>0.730</td>\n",
       "      <td>1.000</td>\n",
       "      <td>0</td>\n",
       "      <td>0.000</td>\n",
       "      <td>1.460</td>\n",
       "      <td>0.000</td>\n",
       "      <td>1</td>\n",
       "      <td>191.066</td>\n",
       "      <td>257.018</td>\n",
       "      <td>151.683</td>\n",
       "      <td>263.080</td>\n",
       "      <td>168.896</td>\n",
       "      <td>280.842</td>\n",
       "      <td>112</td>\n",
       "      <td>231</td>\n",
       "    </tr>\n",
       "    <tr>\n",
       "      <th>2</th>\n",
       "      <td>135.860</td>\n",
       "      <td>1</td>\n",
       "      <td>55</td>\n",
       "      <td>3</td>\n",
       "      <td>134.860</td>\n",
       "      <td>647</td>\n",
       "      <td>4</td>\n",
       "      <td>0</td>\n",
       "      <td>0</td>\n",
       "      <td>2539</td>\n",
       "      <td>2.000</td>\n",
       "      <td>56</td>\n",
       "      <td>1</td>\n",
       "      <td>3</td>\n",
       "      <td>0.740</td>\n",
       "      <td>0.000</td>\n",
       "      <td>-1.000</td>\n",
       "      <td>0</td>\n",
       "      <td>1.480</td>\n",
       "      <td>0.000</td>\n",
       "      <td>0.000</td>\n",
       "      <td>1</td>\n",
       "      <td>191.066</td>\n",
       "      <td>238.743</td>\n",
       "      <td>151.683</td>\n",
       "      <td>275.620</td>\n",
       "      <td>168.896</td>\n",
       "      <td>280.842</td>\n",
       "      <td>112</td>\n",
       "      <td>216</td>\n",
       "    </tr>\n",
       "    <tr>\n",
       "      <th>3</th>\n",
       "      <td>437.530</td>\n",
       "      <td>1</td>\n",
       "      <td>55</td>\n",
       "      <td>3</td>\n",
       "      <td>339.500</td>\n",
       "      <td>647</td>\n",
       "      <td>2</td>\n",
       "      <td>0</td>\n",
       "      <td>0</td>\n",
       "      <td>2139</td>\n",
       "      <td>2.000</td>\n",
       "      <td>56</td>\n",
       "      <td>1</td>\n",
       "      <td>3</td>\n",
       "      <td>22.410</td>\n",
       "      <td>0.000</td>\n",
       "      <td>-98.030</td>\n",
       "      <td>0</td>\n",
       "      <td>44.820</td>\n",
       "      <td>0.000</td>\n",
       "      <td>0.000</td>\n",
       "      <td>1</td>\n",
       "      <td>191.066</td>\n",
       "      <td>201.404</td>\n",
       "      <td>174.910</td>\n",
       "      <td>275.620</td>\n",
       "      <td>168.896</td>\n",
       "      <td>76.711</td>\n",
       "      <td>112</td>\n",
       "      <td>189</td>\n",
       "    </tr>\n",
       "    <tr>\n",
       "      <th>4</th>\n",
       "      <td>242.500</td>\n",
       "      <td>1</td>\n",
       "      <td>55</td>\n",
       "      <td>3</td>\n",
       "      <td>243.500</td>\n",
       "      <td>647</td>\n",
       "      <td>2</td>\n",
       "      <td>0</td>\n",
       "      <td>0</td>\n",
       "      <td>2631</td>\n",
       "      <td>2.000</td>\n",
       "      <td>56</td>\n",
       "      <td>1</td>\n",
       "      <td>1</td>\n",
       "      <td>0.000</td>\n",
       "      <td>0.410</td>\n",
       "      <td>1.000</td>\n",
       "      <td>0</td>\n",
       "      <td>0.000</td>\n",
       "      <td>0.820</td>\n",
       "      <td>0.000</td>\n",
       "      <td>1</td>\n",
       "      <td>191.066</td>\n",
       "      <td>199.843</td>\n",
       "      <td>174.910</td>\n",
       "      <td>263.080</td>\n",
       "      <td>168.896</td>\n",
       "      <td>76.711</td>\n",
       "      <td>112</td>\n",
       "      <td>219</td>\n",
       "    </tr>\n",
       "  </tbody>\n",
       "</table>\n",
       "</div>"
      ],
      "text/plain": [
       "   base_price  category  center_id  center_type  checkout_price  city_code  \\\n",
       "0     152.290         1         55            3         136.830        647   \n",
       "1     135.830         1         55            3         136.830        647   \n",
       "2     135.860         1         55            3         134.860        647   \n",
       "3     437.530         1         55            3         339.500        647   \n",
       "4     242.500         1         55            3         243.500        647   \n",
       "\n",
       "   cuisine  emailer_for_promotion  homepage_featured  meal_id  op_area  \\\n",
       "0        4                      0                  0     1885    2.000   \n",
       "1        4                      0                  0     1993    2.000   \n",
       "2        4                      0                  0     2539    2.000   \n",
       "3        2                      0                  0     2139    2.000   \n",
       "4        2                      0                  0     2631    2.000   \n",
       "\n",
       "   region_code  week  discount_avail  discount_rate  surcharge  price_diff  \\\n",
       "0           56     1               3         10.150      0.000     -15.460   \n",
       "1           56     1               1          0.000      0.730       1.000   \n",
       "2           56     1               3          0.740      0.000      -1.000   \n",
       "3           56     1               3         22.410      0.000     -98.030   \n",
       "4           56     1               1          0.000      0.410       1.000   \n",
       "\n",
       "   promo_combo  op_area_disc  op_area_surch  op_area_promo  week_num  \\\n",
       "0            0        20.300          0.000          0.000         1   \n",
       "1            0         0.000          1.460          0.000         1   \n",
       "2            0         1.480          0.000          0.000         1   \n",
       "3            0        44.820          0.000          0.000         1   \n",
       "4            0         0.000          0.820          0.000         1   \n",
       "\n",
       "   cen_cat_orders  cen_meal_orders  cen_cus_orders  promo_disc_orders  \\\n",
       "0         191.066          251.593         151.683            275.620   \n",
       "1         191.066          257.018         151.683            263.080   \n",
       "2         191.066          238.743         151.683            275.620   \n",
       "3         191.066          201.404         174.910            275.620   \n",
       "4         191.066          199.843         174.910            263.080   \n",
       "\n",
       "   city_reg_cent_orders  centype_cat_cus_orders  count_week_center  \\\n",
       "0               168.896                 280.842                112   \n",
       "1               168.896                 280.842                112   \n",
       "2               168.896                 280.842                112   \n",
       "3               168.896                  76.711                112   \n",
       "4               168.896                  76.711                112   \n",
       "\n",
       "   count_week_meal  \n",
       "0              230  \n",
       "1              231  \n",
       "2              216  \n",
       "3              189  \n",
       "4              219  "
      ]
     },
     "metadata": {},
     "output_type": "display_data"
    }
   ],
   "source": [
    "display_all(df.head())"
   ]
  },
  {
   "cell_type": "code",
   "execution_count": 59,
   "metadata": {},
   "outputs": [
    {
     "data": {
      "text/html": [
       "<div>\n",
       "<style scoped>\n",
       "    .dataframe tbody tr th:only-of-type {\n",
       "        vertical-align: middle;\n",
       "    }\n",
       "\n",
       "    .dataframe tbody tr th {\n",
       "        vertical-align: top;\n",
       "    }\n",
       "\n",
       "    .dataframe thead th {\n",
       "        text-align: right;\n",
       "    }\n",
       "</style>\n",
       "<table border=\"1\" class=\"dataframe\">\n",
       "  <thead>\n",
       "    <tr style=\"text-align: right;\">\n",
       "      <th></th>\n",
       "      <th>base_price</th>\n",
       "      <th>category</th>\n",
       "      <th>center_id</th>\n",
       "      <th>center_type</th>\n",
       "      <th>checkout_price</th>\n",
       "      <th>city_code</th>\n",
       "      <th>cuisine</th>\n",
       "      <th>emailer_for_promotion</th>\n",
       "      <th>homepage_featured</th>\n",
       "      <th>meal_id</th>\n",
       "      <th>op_area</th>\n",
       "      <th>region_code</th>\n",
       "      <th>week</th>\n",
       "      <th>discount_avail</th>\n",
       "      <th>discount_rate</th>\n",
       "      <th>surcharge</th>\n",
       "      <th>price_diff</th>\n",
       "      <th>promo_combo</th>\n",
       "      <th>op_area_disc</th>\n",
       "      <th>op_area_surch</th>\n",
       "      <th>op_area_promo</th>\n",
       "      <th>week_num</th>\n",
       "      <th>cen_cat_orders</th>\n",
       "      <th>cen_meal_orders</th>\n",
       "      <th>cen_cus_orders</th>\n",
       "      <th>promo_disc_orders</th>\n",
       "      <th>city_reg_cent_orders</th>\n",
       "      <th>centype_cat_cus_orders</th>\n",
       "      <th>count_week_center</th>\n",
       "      <th>count_week_meal</th>\n",
       "    </tr>\n",
       "  </thead>\n",
       "  <tbody>\n",
       "    <tr>\n",
       "      <th>0</th>\n",
       "      <td>159.110</td>\n",
       "      <td>1</td>\n",
       "      <td>55</td>\n",
       "      <td>3</td>\n",
       "      <td>158.110</td>\n",
       "      <td>647</td>\n",
       "      <td>4</td>\n",
       "      <td>0</td>\n",
       "      <td>0</td>\n",
       "      <td>1885</td>\n",
       "      <td>2.000</td>\n",
       "      <td>56</td>\n",
       "      <td>146</td>\n",
       "      <td>3</td>\n",
       "      <td>0.630</td>\n",
       "      <td>0.000</td>\n",
       "      <td>-1.000</td>\n",
       "      <td>0</td>\n",
       "      <td>1.260</td>\n",
       "      <td>0.000</td>\n",
       "      <td>0.000</td>\n",
       "      <td>42</td>\n",
       "      <td>191.066</td>\n",
       "      <td>251.593</td>\n",
       "      <td>151.683</td>\n",
       "      <td>275.620</td>\n",
       "      <td>168.896</td>\n",
       "      <td>280.842</td>\n",
       "      <td>70</td>\n",
       "      <td>153</td>\n",
       "    </tr>\n",
       "    <tr>\n",
       "      <th>1</th>\n",
       "      <td>159.110</td>\n",
       "      <td>1</td>\n",
       "      <td>55</td>\n",
       "      <td>3</td>\n",
       "      <td>160.110</td>\n",
       "      <td>647</td>\n",
       "      <td>4</td>\n",
       "      <td>0</td>\n",
       "      <td>0</td>\n",
       "      <td>1993</td>\n",
       "      <td>2.000</td>\n",
       "      <td>56</td>\n",
       "      <td>146</td>\n",
       "      <td>1</td>\n",
       "      <td>0.000</td>\n",
       "      <td>0.620</td>\n",
       "      <td>1.000</td>\n",
       "      <td>0</td>\n",
       "      <td>0.000</td>\n",
       "      <td>1.240</td>\n",
       "      <td>0.000</td>\n",
       "      <td>42</td>\n",
       "      <td>191.066</td>\n",
       "      <td>257.018</td>\n",
       "      <td>151.683</td>\n",
       "      <td>263.080</td>\n",
       "      <td>168.896</td>\n",
       "      <td>280.842</td>\n",
       "      <td>70</td>\n",
       "      <td>153</td>\n",
       "    </tr>\n",
       "    <tr>\n",
       "      <th>2</th>\n",
       "      <td>159.140</td>\n",
       "      <td>1</td>\n",
       "      <td>55</td>\n",
       "      <td>3</td>\n",
       "      <td>157.140</td>\n",
       "      <td>647</td>\n",
       "      <td>4</td>\n",
       "      <td>0</td>\n",
       "      <td>0</td>\n",
       "      <td>2539</td>\n",
       "      <td>2.000</td>\n",
       "      <td>56</td>\n",
       "      <td>146</td>\n",
       "      <td>3</td>\n",
       "      <td>1.260</td>\n",
       "      <td>0.000</td>\n",
       "      <td>-2.000</td>\n",
       "      <td>0</td>\n",
       "      <td>2.520</td>\n",
       "      <td>0.000</td>\n",
       "      <td>0.000</td>\n",
       "      <td>42</td>\n",
       "      <td>191.066</td>\n",
       "      <td>238.743</td>\n",
       "      <td>151.683</td>\n",
       "      <td>275.620</td>\n",
       "      <td>168.896</td>\n",
       "      <td>280.842</td>\n",
       "      <td>70</td>\n",
       "      <td>138</td>\n",
       "    </tr>\n",
       "    <tr>\n",
       "      <th>3</th>\n",
       "      <td>162.020</td>\n",
       "      <td>1</td>\n",
       "      <td>55</td>\n",
       "      <td>3</td>\n",
       "      <td>162.020</td>\n",
       "      <td>647</td>\n",
       "      <td>2</td>\n",
       "      <td>0</td>\n",
       "      <td>0</td>\n",
       "      <td>2631</td>\n",
       "      <td>2.000</td>\n",
       "      <td>56</td>\n",
       "      <td>146</td>\n",
       "      <td>2</td>\n",
       "      <td>0.000</td>\n",
       "      <td>0.000</td>\n",
       "      <td>0.000</td>\n",
       "      <td>0</td>\n",
       "      <td>0.000</td>\n",
       "      <td>0.000</td>\n",
       "      <td>0.000</td>\n",
       "      <td>42</td>\n",
       "      <td>191.066</td>\n",
       "      <td>199.843</td>\n",
       "      <td>174.910</td>\n",
       "      <td>261.925</td>\n",
       "      <td>168.896</td>\n",
       "      <td>76.711</td>\n",
       "      <td>70</td>\n",
       "      <td>147</td>\n",
       "    </tr>\n",
       "    <tr>\n",
       "      <th>4</th>\n",
       "      <td>163.930</td>\n",
       "      <td>1</td>\n",
       "      <td>55</td>\n",
       "      <td>3</td>\n",
       "      <td>163.930</td>\n",
       "      <td>647</td>\n",
       "      <td>2</td>\n",
       "      <td>0</td>\n",
       "      <td>0</td>\n",
       "      <td>1248</td>\n",
       "      <td>2.000</td>\n",
       "      <td>56</td>\n",
       "      <td>146</td>\n",
       "      <td>2</td>\n",
       "      <td>0.000</td>\n",
       "      <td>0.000</td>\n",
       "      <td>0.000</td>\n",
       "      <td>0</td>\n",
       "      <td>0.000</td>\n",
       "      <td>0.000</td>\n",
       "      <td>0.000</td>\n",
       "      <td>42</td>\n",
       "      <td>191.066</td>\n",
       "      <td>198.316</td>\n",
       "      <td>174.910</td>\n",
       "      <td>261.925</td>\n",
       "      <td>168.896</td>\n",
       "      <td>76.711</td>\n",
       "      <td>70</td>\n",
       "      <td>137</td>\n",
       "    </tr>\n",
       "  </tbody>\n",
       "</table>\n",
       "</div>"
      ],
      "text/plain": [
       "   base_price  category  center_id  center_type  checkout_price  city_code  \\\n",
       "0     159.110         1         55            3         158.110        647   \n",
       "1     159.110         1         55            3         160.110        647   \n",
       "2     159.140         1         55            3         157.140        647   \n",
       "3     162.020         1         55            3         162.020        647   \n",
       "4     163.930         1         55            3         163.930        647   \n",
       "\n",
       "   cuisine  emailer_for_promotion  homepage_featured  meal_id  op_area  \\\n",
       "0        4                      0                  0     1885    2.000   \n",
       "1        4                      0                  0     1993    2.000   \n",
       "2        4                      0                  0     2539    2.000   \n",
       "3        2                      0                  0     2631    2.000   \n",
       "4        2                      0                  0     1248    2.000   \n",
       "\n",
       "   region_code  week  discount_avail  discount_rate  surcharge  price_diff  \\\n",
       "0           56   146               3          0.630      0.000      -1.000   \n",
       "1           56   146               1          0.000      0.620       1.000   \n",
       "2           56   146               3          1.260      0.000      -2.000   \n",
       "3           56   146               2          0.000      0.000       0.000   \n",
       "4           56   146               2          0.000      0.000       0.000   \n",
       "\n",
       "   promo_combo  op_area_disc  op_area_surch  op_area_promo  week_num  \\\n",
       "0            0         1.260          0.000          0.000        42   \n",
       "1            0         0.000          1.240          0.000        42   \n",
       "2            0         2.520          0.000          0.000        42   \n",
       "3            0         0.000          0.000          0.000        42   \n",
       "4            0         0.000          0.000          0.000        42   \n",
       "\n",
       "   cen_cat_orders  cen_meal_orders  cen_cus_orders  promo_disc_orders  \\\n",
       "0         191.066          251.593         151.683            275.620   \n",
       "1         191.066          257.018         151.683            263.080   \n",
       "2         191.066          238.743         151.683            275.620   \n",
       "3         191.066          199.843         174.910            261.925   \n",
       "4         191.066          198.316         174.910            261.925   \n",
       "\n",
       "   city_reg_cent_orders  centype_cat_cus_orders  count_week_center  \\\n",
       "0               168.896                 280.842                 70   \n",
       "1               168.896                 280.842                 70   \n",
       "2               168.896                 280.842                 70   \n",
       "3               168.896                  76.711                 70   \n",
       "4               168.896                  76.711                 70   \n",
       "\n",
       "   count_week_meal  \n",
       "0              153  \n",
       "1              153  \n",
       "2              138  \n",
       "3              147  \n",
       "4              137  "
      ]
     },
     "metadata": {},
     "output_type": "display_data"
    }
   ],
   "source": [
    "display_all(df_test.head())"
   ]
  },
  {
   "cell_type": "code",
   "execution_count": 60,
   "metadata": {},
   "outputs": [
    {
     "data": {
      "text/plain": [
       "<matplotlib.axes._subplots.AxesSubplot at 0x13debb4a8>"
      ]
     },
     "execution_count": 60,
     "metadata": {},
     "output_type": "execute_result"
    },
    {
     "data": {
      "image/png": "[encoded data removed]",
      "text/plain": [
       "<Figure size 432x288 with 2 Axes>"
      ]
     },
     "metadata": {},
     "output_type": "display_data"
    }
   ],
   "source": [
    "sns.heatmap(df.corr())"
   ]
  },
  {
   "cell_type": "code",
   "execution_count": 61,
   "metadata": {},
   "outputs": [
    {
     "data": {
      "text/plain": [
       "((423975, 30), (423975,), (32573, 30))"
      ]
     },
     "execution_count": 61,
     "metadata": {},
     "output_type": "execute_result"
    }
   ],
   "source": [
    "n_valid = 32573  # same as test set size\n",
    "n_trn = len(df)-n_valid\n",
    "X_train, X_valid = split_vals(df, n_trn)\n",
    "y_train, y_valid = split_vals(y, n_trn)\n",
    "\n",
    "X_train.shape, y_train.shape, X_valid.shape"
   ]
  },
  {
   "cell_type": "code",
   "execution_count": 62,
   "metadata": {},
   "outputs": [],
   "source": [
    "def print_score(m):\n",
    "    res = [rmsle(m.predict(X_train), y_train), rmsle(m.predict(X_valid), y_valid),\n",
    "                round(m.score(X_train, y_train),3), round(m.score(X_valid, y_valid),3)]\n",
    "    if hasattr(m, 'oob_score_'): res.append(round(m.oob_score_,3))\n",
    "    print(res)"
   ]
  },
  {
   "cell_type": "markdown",
   "metadata": {},
   "source": [
    "### Model Building"
   ]
  },
  {
   "cell_type": "code",
   "execution_count": 63,
   "metadata": {},
   "outputs": [
    {
     "name": "stdout",
     "output_type": "stream",
     "text": [
      "CPU times: user 15min 10s, sys: 7.4 s, total: 15min 17s\n",
      "Wall time: 2min 19s\n",
      "[21.792, 53.65, 0.984, 0.812, 0.884]\n"
     ]
    }
   ],
   "source": [
    "rf = RandomForestRegressor(n_estimators=100, n_jobs=-1, oob_score=True)\n",
    "%time rf.fit(X_train, y_train)\n",
    "print_score(rf)"
   ]
  },
  {
   "cell_type": "markdown",
   "metadata": {},
   "source": [
    "### Random Forest Model"
   ]
  },
  {
   "cell_type": "code",
   "execution_count": 64,
   "metadata": {},
   "outputs": [
    {
     "name": "stdout",
     "output_type": "stream",
     "text": [
      "CPU times: user 56min 45s, sys: 24.9 s, total: 57min 10s\n",
      "Wall time: 8min 34s\n",
      "[38.008, 50.632, 0.93, 0.847, 0.881]\n"
     ]
    }
   ],
   "source": [
    "rf = RandomForestRegressor(n_estimators=750, min_samples_leaf=6, max_features=0.5, n_jobs=-1, oob_score=True)\n",
    "%time rf.fit(X_train, y_train)\n",
    "print_score(rf)"
   ]
  },
  {
   "cell_type": "code",
   "execution_count": 65,
   "metadata": {},
   "outputs": [
    {
     "data": {
      "text/plain": [
       "[(0.4193270280995104, 'cen_meal_orders'),\n",
       " (0.1498423971426719, 'promo_disc_orders'),\n",
       " (0.059651574273615754, 'centype_cat_cus_orders'),\n",
       " (0.057047330259333354, 'op_area_promo'),\n",
       " (0.04552610699229973, 'cen_cat_orders'),\n",
       " (0.041517478159989865, 'discount_rate'),\n",
       " (0.03689933422828031, 'checkout_price'),\n",
       " (0.025470988569416753, 'promo_combo'),\n",
       " (0.024279465771538607, 'op_area_disc'),\n",
       " (0.02223418564774298, 'week'),\n",
       " (0.01685096784615165, 'week_num'),\n",
       " (0.015404431466428453, 'emailer_for_promotion'),\n",
       " (0.01386102966252209, 'price_diff'),\n",
       " (0.012213832307039247, 'base_price'),\n",
       " (0.010557834869434565, 'cen_cus_orders'),\n",
       " (0.008439184414599716, 'count_week_center'),\n",
       " (0.008147068843976353, 'count_week_meal'),\n",
       " (0.006659034679634584, 'city_reg_cent_orders'),\n",
       " (0.0060454449664639354, 'meal_id'),\n",
       " (0.0038214357356504713, 'category'),\n",
       " (0.003116627945990457, 'center_id'),\n",
       " (0.002778018793325973, 'homepage_featured'),\n",
       " (0.002708485794972028, 'op_area'),\n",
       " (0.002408310388272578, 'city_code'),\n",
       " (0.0015894888670864183, 'cuisine'),\n",
       " (0.0012886852497210803, 'region_code'),\n",
       " (0.001118187961576152, 'center_type'),\n",
       " (0.0005791873047348377, 'op_area_surch'),\n",
       " (0.0004516040428892732, 'surcharge'),\n",
       " (0.0001652497151306236, 'discount_avail')]"
      ]
     },
     "execution_count": 65,
     "metadata": {},
     "output_type": "execute_result"
    }
   ],
   "source": [
    "sorted(zip(rf.feature_importances_,X_train),reverse=True)"
   ]
  },
  {
   "cell_type": "code",
   "execution_count": 73,
   "metadata": {},
   "outputs": [
    {
     "name": "stderr",
     "output_type": "stream",
     "text": [
      "[Parallel(n_jobs=-1)]: Using backend ThreadingBackend with 8 concurrent workers.\n",
      "[Parallel(n_jobs=-1)]: Done  34 tasks      | elapsed:   26.7s\n",
      "[Parallel(n_jobs=-1)]: Done 184 tasks      | elapsed:  2.2min\n",
      "[Parallel(n_jobs=-1)]: Done 434 tasks      | elapsed:  7.4min\n",
      "[Parallel(n_jobs=-1)]: Done 784 tasks      | elapsed: 15.0min\n",
      "[Parallel(n_jobs=-1)]: Done 1000 out of 1000 | elapsed: 19.9min finished\n",
      "[Parallel(n_jobs=8)]: Using backend ThreadingBackend with 8 concurrent workers.\n",
      "[Parallel(n_jobs=8)]: Done  34 tasks      | elapsed:    0.4s\n",
      "[Parallel(n_jobs=8)]: Done 184 tasks      | elapsed:    2.4s\n",
      "[Parallel(n_jobs=8)]: Done 434 tasks      | elapsed:    6.1s\n",
      "[Parallel(n_jobs=8)]: Done 784 tasks      | elapsed:   11.5s\n",
      "[Parallel(n_jobs=8)]: Done 1000 out of 1000 | elapsed:   15.0s finished\n"
     ]
    },
    {
     "name": "stdout",
     "output_type": "stream",
     "text": [
      "rmsle:  47.38\n"
     ]
    },
    {
     "name": "stderr",
     "output_type": "stream",
     "text": [
      "[Parallel(n_jobs=8)]: Using backend ThreadingBackend with 8 concurrent workers.\n",
      "[Parallel(n_jobs=8)]: Done  34 tasks      | elapsed:    0.2s\n",
      "[Parallel(n_jobs=8)]: Done 184 tasks      | elapsed:    0.8s\n",
      "[Parallel(n_jobs=8)]: Done 434 tasks      | elapsed:    2.0s\n",
      "[Parallel(n_jobs=8)]: Done 784 tasks      | elapsed:    3.5s\n",
      "[Parallel(n_jobs=8)]: Done 1000 out of 1000 | elapsed:    4.4s finished\n",
      "[Parallel(n_jobs=-1)]: Using backend ThreadingBackend with 8 concurrent workers.\n",
      "[Parallel(n_jobs=-1)]: Done  34 tasks      | elapsed:   51.1s\n",
      "[Parallel(n_jobs=-1)]: Done 184 tasks      | elapsed:  3.8min\n",
      "[Parallel(n_jobs=-1)]: Done 434 tasks      | elapsed:  7.6min\n",
      "[Parallel(n_jobs=-1)]: Done 784 tasks      | elapsed: 13.9min\n",
      "[Parallel(n_jobs=-1)]: Done 1000 out of 1000 | elapsed: 16.9min finished\n",
      "[Parallel(n_jobs=8)]: Using backend ThreadingBackend with 8 concurrent workers.\n",
      "[Parallel(n_jobs=8)]: Done  34 tasks      | elapsed:    0.3s\n",
      "[Parallel(n_jobs=8)]: Done 184 tasks      | elapsed:    1.3s\n",
      "[Parallel(n_jobs=8)]: Done 434 tasks      | elapsed:    3.1s\n",
      "[Parallel(n_jobs=8)]: Done 784 tasks      | elapsed:    6.0s\n",
      "[Parallel(n_jobs=8)]: Done 1000 out of 1000 | elapsed:    7.8s finished\n"
     ]
    },
    {
     "name": "stdout",
     "output_type": "stream",
     "text": [
      "rmsle:  47.324\n"
     ]
    },
    {
     "name": "stderr",
     "output_type": "stream",
     "text": [
      "[Parallel(n_jobs=8)]: Using backend ThreadingBackend with 8 concurrent workers.\n",
      "[Parallel(n_jobs=8)]: Done  34 tasks      | elapsed:    0.1s\n",
      "[Parallel(n_jobs=8)]: Done 184 tasks      | elapsed:    0.4s\n",
      "[Parallel(n_jobs=8)]: Done 434 tasks      | elapsed:    1.1s\n",
      "[Parallel(n_jobs=8)]: Done 784 tasks      | elapsed:    1.9s\n",
      "[Parallel(n_jobs=8)]: Done 1000 out of 1000 | elapsed:    2.4s finished\n",
      "[Parallel(n_jobs=-1)]: Using backend ThreadingBackend with 8 concurrent workers.\n",
      "[Parallel(n_jobs=-1)]: Done  34 tasks      | elapsed:   37.3s\n",
      "[Parallel(n_jobs=-1)]: Done 184 tasks      | elapsed:  2.9min\n",
      "[Parallel(n_jobs=-1)]: Done 434 tasks      | elapsed:  6.1min\n",
      "[Parallel(n_jobs=-1)]: Done 784 tasks      | elapsed:  8.6min\n",
      "[Parallel(n_jobs=-1)]: Done 1000 out of 1000 | elapsed: 10.1min finished\n",
      "[Parallel(n_jobs=8)]: Using backend ThreadingBackend with 8 concurrent workers.\n",
      "[Parallel(n_jobs=8)]: Done  34 tasks      | elapsed:    0.1s\n",
      "[Parallel(n_jobs=8)]: Done 184 tasks      | elapsed:    0.7s\n",
      "[Parallel(n_jobs=8)]: Done 434 tasks      | elapsed:    1.7s\n",
      "[Parallel(n_jobs=8)]: Done 784 tasks      | elapsed:    3.1s\n",
      "[Parallel(n_jobs=8)]: Done 1000 out of 1000 | elapsed:    4.0s finished\n"
     ]
    },
    {
     "name": "stdout",
     "output_type": "stream",
     "text": [
      "rmsle:  47.526\n"
     ]
    },
    {
     "name": "stderr",
     "output_type": "stream",
     "text": [
      "[Parallel(n_jobs=8)]: Using backend ThreadingBackend with 8 concurrent workers.\n",
      "[Parallel(n_jobs=8)]: Done  34 tasks      | elapsed:    0.1s\n",
      "[Parallel(n_jobs=8)]: Done 184 tasks      | elapsed:    0.2s\n",
      "[Parallel(n_jobs=8)]: Done 434 tasks      | elapsed:    0.6s\n",
      "[Parallel(n_jobs=8)]: Done 784 tasks      | elapsed:    1.0s\n",
      "[Parallel(n_jobs=8)]: Done 1000 out of 1000 | elapsed:    1.3s finished\n",
      "[Parallel(n_jobs=-1)]: Using backend ThreadingBackend with 8 concurrent workers.\n",
      "[Parallel(n_jobs=-1)]: Done  34 tasks      | elapsed:   15.3s\n",
      "[Parallel(n_jobs=-1)]: Done 184 tasks      | elapsed:  1.5min\n",
      "[Parallel(n_jobs=-1)]: Done 434 tasks      | elapsed:  3.5min\n",
      "[Parallel(n_jobs=-1)]: Done 784 tasks      | elapsed:  6.3min\n",
      "[Parallel(n_jobs=-1)]: Done 1000 out of 1000 | elapsed:  7.9min finished\n",
      "[Parallel(n_jobs=8)]: Using backend ThreadingBackend with 8 concurrent workers.\n",
      "[Parallel(n_jobs=8)]: Done  34 tasks      | elapsed:    0.1s\n",
      "[Parallel(n_jobs=8)]: Done 184 tasks      | elapsed:    0.8s\n",
      "[Parallel(n_jobs=8)]: Done 434 tasks      | elapsed:    1.7s\n",
      "[Parallel(n_jobs=8)]: Done 784 tasks      | elapsed:    3.2s\n",
      "[Parallel(n_jobs=8)]: Done 1000 out of 1000 | elapsed:    4.5s finished\n"
     ]
    },
    {
     "name": "stdout",
     "output_type": "stream",
     "text": [
      "rmsle:  47.445\n"
     ]
    },
    {
     "name": "stderr",
     "output_type": "stream",
     "text": [
      "[Parallel(n_jobs=8)]: Using backend ThreadingBackend with 8 concurrent workers.\n",
      "[Parallel(n_jobs=8)]: Done  34 tasks      | elapsed:    0.1s\n",
      "[Parallel(n_jobs=8)]: Done 184 tasks      | elapsed:    0.3s\n",
      "[Parallel(n_jobs=8)]: Done 434 tasks      | elapsed:    0.6s\n",
      "[Parallel(n_jobs=8)]: Done 784 tasks      | elapsed:    1.1s\n",
      "[Parallel(n_jobs=8)]: Done 1000 out of 1000 | elapsed:    1.4s finished\n",
      "[Parallel(n_jobs=-1)]: Using backend ThreadingBackend with 8 concurrent workers.\n",
      "[Parallel(n_jobs=-1)]: Done  34 tasks      | elapsed:   17.7s\n",
      "[Parallel(n_jobs=-1)]: Done 184 tasks      | elapsed:  1.5min\n",
      "[Parallel(n_jobs=-1)]: Done 434 tasks      | elapsed:  3.9min\n",
      "[Parallel(n_jobs=-1)]: Done 784 tasks      | elapsed:  6.8min\n",
      "[Parallel(n_jobs=-1)]: Done 1000 out of 1000 | elapsed:  8.6min finished\n",
      "[Parallel(n_jobs=8)]: Using backend ThreadingBackend with 8 concurrent workers.\n",
      "[Parallel(n_jobs=8)]: Done  34 tasks      | elapsed:    0.2s\n",
      "[Parallel(n_jobs=8)]: Done 184 tasks      | elapsed:    0.8s\n",
      "[Parallel(n_jobs=8)]: Done 434 tasks      | elapsed:    2.0s\n",
      "[Parallel(n_jobs=8)]: Done 784 tasks      | elapsed:    3.7s\n",
      "[Parallel(n_jobs=8)]: Done 1000 out of 1000 | elapsed:    4.9s finished\n"
     ]
    },
    {
     "name": "stdout",
     "output_type": "stream",
     "text": [
      "rmsle:  47.098\n"
     ]
    },
    {
     "name": "stderr",
     "output_type": "stream",
     "text": [
      "[Parallel(n_jobs=8)]: Using backend ThreadingBackend with 8 concurrent workers.\n",
      "[Parallel(n_jobs=8)]: Done  34 tasks      | elapsed:    0.1s\n",
      "[Parallel(n_jobs=8)]: Done 184 tasks      | elapsed:    0.4s\n",
      "[Parallel(n_jobs=8)]: Done 434 tasks      | elapsed:    0.9s\n",
      "[Parallel(n_jobs=8)]: Done 784 tasks      | elapsed:    1.5s\n",
      "[Parallel(n_jobs=8)]: Done 1000 out of 1000 | elapsed:    1.9s finished\n"
     ]
    }
   ],
   "source": [
    "err=[]\n",
    "y_pred_all=[]\n",
    "fold=KFold(n_splits=5, shuffle=True, random_state=1994)\n",
    "for train_idx, test_idx in fold.split(df, y):\n",
    "    X_train, X_test = df.iloc[train_idx], df.iloc[test_idx]\n",
    "    y_train, y_test = y[train_idx], y[test_idx]\n",
    "    model = RandomForestRegressor(n_estimators=1000\n",
    "                               , min_samples_leaf=6\n",
    "                               , max_features=0.5\n",
    "                               , n_jobs=-1\n",
    "                               , oob_score=True\n",
    "                               , verbose=1\n",
    "                              )\n",
    "    model.fit(X_train,y_train)\n",
    "    preds=model.predict(X_test)\n",
    "    print(\"rmsle: \",rmsle(preds, y_test))\n",
    "    err.append(rmsle(preds, y_test))\n",
    "    p = model.predict(df_test)\n",
    "    y_pred_all.append(p)"
   ]
  },
  {
   "cell_type": "code",
   "execution_count": 74,
   "metadata": {},
   "outputs": [
    {
     "name": "stdout",
     "output_type": "stream",
     "text": [
      "47.354600000000005\n"
     ]
    }
   ],
   "source": [
    "print(np.mean(err,0))"
   ]
  },
  {
   "cell_type": "code",
   "execution_count": 75,
   "metadata": {},
   "outputs": [
    {
     "data": {
      "text/plain": [
       "[array([144.57028, 154.21751, 170.361  , ..., 304.16239, 387.07891, 192.03975]),\n",
       " array([152.08608, 156.43713, 163.49501, ..., 293.73115, 388.408  , 186.5256 ]),\n",
       " array([160.89477, 172.20706, 168.49219, ..., 290.63053, 397.97347, 186.94161]),\n",
       " array([147.78123, 148.66983, 167.11883, ..., 299.54074, 383.17524, 188.32428]),\n",
       " array([145.79652, 152.89389, 170.53817, ..., 294.98464, 388.62414, 184.63689])]"
      ]
     },
     "execution_count": 75,
     "metadata": {},
     "output_type": "execute_result"
    }
   ],
   "source": [
    "y_pred_all"
   ]
  },
  {
   "cell_type": "code",
   "execution_count": 76,
   "metadata": {},
   "outputs": [
    {
     "data": {
      "text/html": [
       "<div>\n",
       "<style scoped>\n",
       "    .dataframe tbody tr th:only-of-type {\n",
       "        vertical-align: middle;\n",
       "    }\n",
       "\n",
       "    .dataframe tbody tr th {\n",
       "        vertical-align: top;\n",
       "    }\n",
       "\n",
       "    .dataframe thead th {\n",
       "        text-align: right;\n",
       "    }\n",
       "</style>\n",
       "<table border=\"1\" class=\"dataframe\">\n",
       "  <thead>\n",
       "    <tr style=\"text-align: right;\">\n",
       "      <th></th>\n",
       "      <th>id</th>\n",
       "      <th>num_orders</th>\n",
       "    </tr>\n",
       "  </thead>\n",
       "  <tbody>\n",
       "    <tr>\n",
       "      <th>0</th>\n",
       "      <td>1028232</td>\n",
       "      <td>150.000</td>\n",
       "    </tr>\n",
       "    <tr>\n",
       "      <th>1</th>\n",
       "      <td>1127204</td>\n",
       "      <td>156.000</td>\n",
       "    </tr>\n",
       "    <tr>\n",
       "      <th>2</th>\n",
       "      <td>1212707</td>\n",
       "      <td>168.000</td>\n",
       "    </tr>\n",
       "    <tr>\n",
       "      <th>3</th>\n",
       "      <td>1082698</td>\n",
       "      <td>42.000</td>\n",
       "    </tr>\n",
       "    <tr>\n",
       "      <th>4</th>\n",
       "      <td>1400926</td>\n",
       "      <td>40.000</td>\n",
       "    </tr>\n",
       "  </tbody>\n",
       "</table>\n",
       "</div>"
      ],
      "text/plain": [
       "        id  num_orders\n",
       "0  1028232     150.000\n",
       "1  1127204     156.000\n",
       "2  1212707     168.000\n",
       "3  1082698      42.000\n",
       "4  1400926      40.000"
      ]
     },
     "execution_count": 76,
     "metadata": {},
     "output_type": "execute_result"
    }
   ],
   "source": [
    "submission=pd.DataFrame({'id':full_test['id']\n",
    "                         ,'num_orders':np.mean(y_pred_all,0)\n",
    "                        })\n",
    "submission['num_orders'] = np.floor(submission['num_orders'])\n",
    "submission.head()"
   ]
  },
  {
   "cell_type": "code",
   "execution_count": 77,
   "metadata": {},
   "outputs": [],
   "source": [
    "file_timestamp = datetime.now().strftime('%m%d%Y_%H%M')\n",
    "submission.to_csv(f'./data/food_forecasting/Submission_{file_timestamp}.csv', index=False)"
   ]
  },
  {
   "cell_type": "markdown",
   "metadata": {},
   "source": [
    "### Useful functions / code for reference"
   ]
  },
  {
   "cell_type": "code",
   "execution_count": 78,
   "metadata": {},
   "outputs": [],
   "source": [
    "# err_lgb=[]\n",
    "# y_pred_tot_lgb=[]\n",
    "# fold=KFold(n_splits=5, shuffle=True, random_state=1994)\n",
    "# for train_idx, test_idx in fold.split(df, y):\n",
    "#     X_train, X_test = df.iloc[train_idx], df.iloc[test_idx]\n",
    "#     y_train, y_test = y[train_idx], y[test_idx]\n",
    "#     params = {\n",
    "#         \"objective\" : \"regression\",\n",
    "#         \"metric\" : \"rmse\",\n",
    "#         \"boosting\": \"gbdt\",\n",
    "#         \"num_leaves\" : 100,\n",
    "#         \"max_depth\" : 25,\n",
    "#         \"min_child_weight\" : 50,\n",
    "#         \"learning_rate\" : 0.05,\n",
    "#         \"bagging_fraction\" : 0.7,\n",
    "#         \"feature_fraction\" : 0.9,\n",
    "#         \"bagging_frequency\" : 5,\n",
    "#         \"bagging_seed\" : 7979,\n",
    "#         \"verbosity\" : -1\n",
    "#     }\n",
    "#     lgtrain = lgb.Dataset(X_train, y_train)\n",
    "#     lgval = lgb.Dataset(X_test, y_test)\n",
    "#     evals_result = {}\n",
    "#     model = lgb.train(params\n",
    "#                       , lgtrain\n",
    "#                       , 3000\n",
    "#                       , valid_sets=[lgval]\n",
    "#                       , early_stopping_rounds=100\n",
    "#                       , verbose_eval=100\n",
    "#                       , evals_result=evals_result\n",
    "#                      )\n",
    "#     preds=model.predict(X_test, num_iteration=model.best_iteration)\n",
    "#     preds[preds < 0] = 0\n",
    "#     print(\"rmsle: \",rmsle(preds, y_test))\n",
    "#     err_lgb.append(rmsle(preds, y_test))\n",
    "#     p = model.predict(df_test, num_iteration=model.best_iteration)\n",
    "#     p[p < 0] = 0\n",
    "#     y_pred_tot_lgb.append(p)"
   ]
  },
  {
   "cell_type": "code",
   "execution_count": 79,
   "metadata": {},
   "outputs": [],
   "source": [
    "# fig, ax = plt.subplots(figsize=(12,10))\n",
    "# lgb.plot_importance(model, max_num_features=50, height=0.8, ax=ax)\n",
    "# ax.grid(False)\n",
    "# plt.title(\"LightGBM - Feature Importance\", fontsize=15)\n",
    "# plt.show()"
   ]
  },
  {
   "cell_type": "code",
   "execution_count": 80,
   "metadata": {},
   "outputs": [],
   "source": [
    "# print(np.mean(err_lgb,0))"
   ]
  },
  {
   "cell_type": "code",
   "execution_count": 81,
   "metadata": {},
   "outputs": [],
   "source": [
    "# y_pred_tot_lgb"
   ]
  },
  {
   "cell_type": "code",
   "execution_count": 82,
   "metadata": {},
   "outputs": [],
   "source": [
    "# submission=pd.DataFrame({'id':full_test['id']\n",
    "#                          ,'num_orders':np.mean(y_pred_tot_lgb,0)\n",
    "#                         })\n",
    "# submission['num_orders'] = np.floor(submission['num_orders'])\n",
    "# submission.head()"
   ]
  },
  {
   "cell_type": "code",
   "execution_count": 83,
   "metadata": {},
   "outputs": [],
   "source": [
    "# file_timestamp = datetime.now().strftime('%m%d%Y_%H%M')\n",
    "# submission.to_csv(f'./data/food_forecasting/Submission_{file_timestamp}.csv', index=False)"
   ]
  },
  {
   "cell_type": "code",
   "execution_count": 84,
   "metadata": {},
   "outputs": [],
   "source": [
    "# import xgboost as xgb\n",
    "# from xgboost import plot_importance\n",
    "# import lightgbm as lgbm"
   ]
  },
  {
   "cell_type": "code",
   "execution_count": 85,
   "metadata": {},
   "outputs": [],
   "source": [
    "# dtrain = xgb.DMatrix(df, label=y)"
   ]
  },
  {
   "cell_type": "code",
   "execution_count": 86,
   "metadata": {},
   "outputs": [],
   "source": [
    "# def train_xgb(max_depth=6,num_round=1000,seed=0):\n",
    "#     param = {\n",
    "#         'max_depth':max_depth,\n",
    "#         'eta': 0.1,\n",
    "#         'silent': 1, \n",
    "#         'objective': 'reg:linear',  \n",
    "#         'eval_metric':'rmse',\n",
    "#         'seed':seed\n",
    "\n",
    "#     }  \n",
    "#     num_round = num_round\n",
    "#     bst= xgb.train(param, dtrain, num_round)\n",
    "#     return bst"
   ]
  },
  {
   "cell_type": "code",
   "execution_count": 87,
   "metadata": {},
   "outputs": [],
   "source": [
    "# %%time\n",
    "# bst=train_xgb(6,1200,0)"
   ]
  },
  {
   "cell_type": "code",
   "execution_count": 88,
   "metadata": {},
   "outputs": [],
   "source": [
    "# _,ax = plt.subplots(1,1,figsize=(5,5))\n",
    "# plot_importance(bst,ax)"
   ]
  },
  {
   "cell_type": "code",
   "execution_count": 89,
   "metadata": {},
   "outputs": [],
   "source": [
    "# def train_lgb(max_depth=5,seed=4,num_round=2500):\n",
    "#     d_train = lgbm.Dataset(df,y)\n",
    "#     params = {\n",
    "#         'objective' :'regression',\n",
    "#         'max_depth':max_depth,\n",
    "#         'learning_rate' : 0.1,\n",
    "#         'num_leaves' :(2*max_depth)-1 ,\n",
    "#         'feature_fraction': 0.8,\n",
    "#         \"min_data_in_leaf\" : 100,\n",
    "#         'bagging_fraction': 0.7, \n",
    "#         'boosting_type' : 'gbdt',\n",
    "#         'metric': 'rmse',\n",
    "#         'seed':seed\n",
    "#     }\n",
    "#     lgb= lgbm.train(params, d_train, num_round)\n",
    "#     return lgb"
   ]
  },
  {
   "cell_type": "code",
   "execution_count": 90,
   "metadata": {},
   "outputs": [],
   "source": [
    "# lgb1=train_lgb(6,4,2500)"
   ]
  },
  {
   "cell_type": "code",
   "execution_count": 91,
   "metadata": {},
   "outputs": [],
   "source": [
    "# _,ax = plt.subplots(1,1,figsize=(12,6))\n",
    "# lgbm.plot_importance(lgb1,ax=ax)"
   ]
  },
  {
   "cell_type": "code",
   "execution_count": 92,
   "metadata": {},
   "outputs": [],
   "source": [
    "# xgb_pred = bst.predict(xgb.DMatrix(df_test))"
   ]
  },
  {
   "cell_type": "code",
   "execution_count": 93,
   "metadata": {},
   "outputs": [],
   "source": [
    "# lgb_pred = lgb1.predict(df_test)"
   ]
  },
  {
   "cell_type": "code",
   "execution_count": 94,
   "metadata": {},
   "outputs": [],
   "source": [
    "# sub=pd.read_csv('./data/food_forecasting/sample_submisison.csv')"
   ]
  },
  {
   "cell_type": "code",
   "execution_count": 95,
   "metadata": {},
   "outputs": [],
   "source": [
    "# sub.num_orders=0.6*xgb_pred+lgb_pred*0.4\n",
    "# file_timestamp = datetime.now().strftime('%m%d%Y_%H%M')\n",
    "# sub.to_csv(f'./data/food_forecasting/Submission_{file_timestamp}.csv', index=False)"
   ]
  },
  {
   "cell_type": "code",
   "execution_count": null,
   "metadata": {},
   "outputs": [],
   "source": []
  }
 ],
 "metadata": {
  "kernelspec": {
   "display_name": "Python 3",
   "language": "python",
   "name": "python3"
  },
  "language_info": {
   "codemirror_mode": {
    "name": "ipython",
    "version": 3
   },
   "file_extension": ".py",
   "mimetype": "text/x-python",
   "name": "python",
   "nbconvert_exporter": "python",
   "pygments_lexer": "ipython3",
   "version": "3.6.8"
  }
 },
 "nbformat": 4,
 "nbformat_minor": 2
}
