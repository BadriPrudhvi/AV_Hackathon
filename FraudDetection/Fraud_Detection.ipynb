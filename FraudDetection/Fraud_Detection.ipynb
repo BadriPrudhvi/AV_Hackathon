{
 "cells": [
  {
   "cell_type": "markdown",
   "metadata": {},
   "source": [
    "# Capital One Data Science Challenge"
   ]
  },
  {
   "cell_type": "markdown",
   "metadata": {},
   "source": [
    "### Candidate ID: C1194345  (v19.04)"
   ]
  },
  {
   "cell_type": "markdown",
   "metadata": {},
   "source": [
    "## Problem Statement\n",
    "***\n",
    "Given around ~640,000 credit card transactions that loosely resembles real transactional data from Capital One credit card customers. The objective is to build a predictive model to determine whether a given transaction will be fraudulent or not. A wide variety of attributes on the transactions were provided which includes customerId, currentBalance, transactionAmount, merchantName etc."
   ]
  },
  {
   "cell_type": "markdown",
   "metadata": {},
   "source": [
    "## Approach\n",
    "***\n",
    "> 1. ### Understanding the Dataset\n",
    ">> - The credit card transactions dataset was provided in a text file with each transaction represented in line-delimited JSON format. The dataset consisted of 641,914 rows with 29 columns. The columns included a combination of date, boolean, int, float and string datatypes.\n",
    ">> - As the dataset has many missing values in the form of whitespaces, they have been replaced with `NA` values and dropped the columns having 100% of missing records.\n",
    ">> - Columns with date type such as accountOpenDate, currentExpDate, etc. were of string type and were converted to datetime format.\n",
    ">> - The dataset included the transactions of 5000 unique customers with their transactions in the year of 2016 starting from 2016-01-01 to 2016-12-31.\n",
    ">> - These 5000 accounts were opened at different dates ranging from 1985-12-25 to 2015-12-31.\n",
    ">> - The transactions information included merchant attributes such as merchant category, merchant name, merchant city, merchant state, etc.\n",
    ">> - The majority of the transactions are based in the USA.\n",
    "> 1. ### Exploratory Data Analysis\n",
    ">> - Out of 641,914 credit card transactions, the dataset only included 11,302 transactions that have been tagged as fraud. The fraud transactions accounts to only 1.76% of records in the dataset.\n",
    ">> - There are four important columns associated to amounts for credit card transactions namely availableMoney, creditLimit, currentBalance and transactionAmount. \n",
    ">> - The creditLimit ranges from `$2,500` to `$50,000` with average credit limit of `$10,000` for customers.\n",
    ">> - The transaction amount for each transaction ranges from `$0` to `$1,825` with average amount per transaction of `$135`.\n",
    ">> - The current balance column is a cumulative sum of the transaction amount for each month for the customer by transaction and the available money column is indicative of the remaining balance after the transaction.\n",
    ">> - In order to understand the distribution of the numeric columns such as avaialble money, transaction amount etc. I have used histograms and box plots.\n",
    ">> - To visualize the spread of fraud among various string columns such as merchantcategoryCode, posentrycode, posentrymode, etc. I have used stacked bar charts. I have also checked for unique values in the object columns and was able to see the transactions were spread accross 2493 merchants with 19 different categories such as fastfood, online_retail, etc.\n",
    ">> - I  have used the correlation heat map to understand the interactions between the independent and dependent variables. There was no significant correlation among the independent and the dependent variables.\n",
    "> 1. ### Model Building\n",
    ">> #### Feature Engineering\n",
    ">> - My approach is pretty straightforward which mainly revolves around feature engineering. I tried many different combination of features and found the below three feature sets to be most useful.\n",
    ">> - I have discarded the accounts with opening date in the year 1985 as they were very few of them and did not have any fraud related transactions and thought might not be much helpful for model.\n",
    ">>> 1. `Customer based features`: I have built customer based aggregated features such as min, median, mean, max of transaction amounts.\n",
    ">>>> - unique credit cards present\n",
    ">>>> - aggregared feature of customer based on specific credit card such as min, median, mean, max of transaction amounts.\n",
    ">>>> - Customer activity in the based with combination to below mentioned temporal feauters etc.\n",
    ">>> 1. `Temporal features`: Temporal features almost always helps boosted trees as most of the time these models can leverage the cross-sectional correlation of the data (e.g. interaction between different features at a given observation level) but there is no way for the model to tackle the time dimension (e.g. latent interaction between two or more observations recorded at different time points). by infusing these featues explicitly - the model can also learn the cross-time correlation e.g. how transactions of customer in the past affects the nature of transaction of a customer at present. This is very important.\n",
    ">>>> - The temporal features that I considered are:\n",
    ">>>> - Account Age - days between account open date and transaction date\n",
    ">>>> - Days since last transaction\n",
    ">>>> - The sequential transaction number of a customer in a particular merchant category, company, etc\n",
    ">>>> - Days since last transaction of a customer in a particular merchant category, company, etc\n",
    ">>>> - cumulative count of same day tranasactions of a customer in a particular merchant category, company, etc\n",
    ">>> 1. `Merchant based features`: I have built merchant based features based on merchant category, merchant parent company and merchant store by calculating entropy by customer, target mean encoding, etc.\n",
    ">>>> - I have also built aggregated features such as min, median, mean, max of transaction amounts by merchant store, merchant company and merchant category.\n",
    ">>> 1. `Ratio features`: I created a number of ratios between:\n",
    ">>>> - Ratio of transaction amount to credit limit\n",
    ">>>> - Ratio of transaction amount to account age\n",
    ">>>> - Ratio of credit limit to account age\n",
    ">>>> - Ratio of transaction amount to current balance and more\n",
    ">>> 1. `Date features`: A lot of date based features such as transactionDay, transactionMonth, transactionYear, etc.\n",
    ">> #### Model Training & Testing: \n",
    ">>>> - The rich set of 149 features were built and the data was split into train and test sets by transaction date as reference. I have split the records into train having transaction dates starting from 2016-01-01 to 2016-11-30. The test dataset consisted of records for the month of December 2016.\n",
    ">>>> - The missing value imputation was done using a simple median impute technique as there were not many missing values in the dataset.\n",
    ">>>> - The validation set was built from train using a time series split with 20% of data in the validation.\n",
    ">>>> - As the dataset is highly unbalanced I prefer to use Area Under the Curve as my metric to evaluate the model performance.\n",
    ">>>> - I have played with different ML algorithms such as random forest, CatBoost, LightGBM, XGBoost,etc. but the solution will have only LightGBM implementation as it gave the best results to predict fraud with an AUC score of 0.829 on the validation and test sets and is consistent.\n",
    "> 1. ### Questions & Future Work:\n",
    ">> - Fraud is common in every industry however it is also specific to every industry. If there was a data dictionary provided I would have come up with more valid assumptions.\n",
    ">> - If I had more time, I would implemented model explainability using shap values. I would also analyzed the data more in depth and build ensemble models to see if it increases the model performance in predicting the fraud. More detailed explaination of various approaches I tried in the course of solving this problem."
   ]
  },
  {
   "cell_type": "markdown",
   "metadata": {},
   "source": [
    "## How to run the solution\n",
    "***\n",
    "This code was tested on python >= 3.6\n",
    "\n",
    "1. Please install the following packages in the package section below. All of the packages are download using pip. \n",
    "2. Please install fastai package using `pip install fastai`. Reference: `https://github.com/fastai/fastai`"
   ]
  },
  {
   "cell_type": "markdown",
   "metadata": {},
   "source": [
    "### Loading Packages"
   ]
  },
  {
   "cell_type": "code",
   "execution_count": 1,
   "metadata": {},
   "outputs": [],
   "source": [
    "from fastai.imports import *\n",
    "from fastai.structured import *\n",
    "import seaborn as sns\n",
    "import matplotlib.pyplot as plt\n",
    "from matplotlib.pylab import rcParams\n",
    "from datetime import date\n",
    "from IPython.display import display\n",
    "pd.set_option('display.max_columns', None)\n",
    "from datetime import datetime\n",
    "from dateutil.parser import parse\n",
    "from scipy.stats import entropy\n",
    "from math import log, e\n",
    "\n",
    "%matplotlib inline\n",
    "sns.set(style='whitegrid', palette=\"deep\", font_scale=1.1, rc={\"figure.figsize\": [12, 8]})"
   ]
  },
  {
   "cell_type": "code",
   "execution_count": 2,
   "metadata": {},
   "outputs": [
    {
     "name": "stderr",
     "output_type": "stream",
     "text": [
      "/Library/Frameworks/Python.framework/Versions/3.6/lib/python3.6/site-packages/lightgbm/__init__.py:46: UserWarning: Starting from version 2.2.1, the library file in distribution wheels for macOS is built by the Apple Clang (Xcode_8.3.3) compiler.\n",
      "This means that in case of installing LightGBM from PyPI via the ``pip install lightgbm`` command, you don't need to install the gcc compiler anymore.\n",
      "Instead of that, you need to install the OpenMP library, which is required for running LightGBM on the system with the Apple Clang compiler.\n",
      "You can install the OpenMP library by the following command: ``brew install libomp``.\n",
      "  \"You can install the OpenMP library by the following command: ``brew install libomp``.\", UserWarning)\n"
     ]
    }
   ],
   "source": [
    "import xgboost as xgb\n",
    "from catboost import CatBoostClassifier, Pool, cv\n",
    "import lightgbm as lgb\n",
    "from sklearn.ensemble import RandomForestClassifier"
   ]
  },
  {
   "cell_type": "code",
   "execution_count": 3,
   "metadata": {},
   "outputs": [],
   "source": [
    "from sklearn.model_selection import KFold\n",
    "from sklearn import metrics"
   ]
  },
  {
   "cell_type": "markdown",
   "metadata": {},
   "source": [
    "### Custom Functions"
   ]
  },
  {
   "cell_type": "code",
   "execution_count": 4,
   "metadata": {},
   "outputs": [],
   "source": [
    "def display_all(df):\n",
    "    with pd.option_context(\"display.max_rows\", 1000, \"display.max_columns\", 1000): \n",
    "        display(df)\n",
    "        \n",
    "def get_stats(df,columns, bins):\n",
    "    fig, axs = plt.subplots(1,2)\n",
    "    for column in columns:\n",
    "        df2 = df[np.isfinite(df[column])]\n",
    "        count, division = np.histogram(df2[column], bins=bins)\n",
    "        null_value_stats = df[df[column].isnull()]\n",
    "        print(f\"Column name: {column}\")\n",
    "        print(f\"Total Rows: {len(df)}\")\n",
    "        print(f\"Positive values row count: {len(df[(df[column]>=0)])}\")\n",
    "        print(f\"Negative values row count: {len(df[(df[column]<0)])}\")\n",
    "        print(f\"Null values row count: {null_value_stats.shape[0]}\")\n",
    "        print(f\"Column summary\")\n",
    "        print(df[column].describe())\n",
    "        print(f\"Cut: {division}\")\n",
    "        print(f\"Count: {count}\")\n",
    "        df.boxplot(column=[column], ax=axs[0])\n",
    "        df[column].plot.hist(bins=bins, alpha=0.5, ax=axs[1])\n",
    "        \n",
    "dateparse = lambda x: pd.datetime.strptime(x, '%d/%m/%y')\n",
    "\n",
    "def generate_date_features(df, fldname, drop=True):\n",
    "    fld = df[fldname]\n",
    "    fld_dtype = fld.dtype\n",
    "    if isinstance(fld_dtype, pd.core.dtypes.dtypes.DatetimeTZDtype):\n",
    "        fld_dtype = np.datetime64\n",
    "\n",
    "    if not np.issubdtype(fld_dtype, np.datetime64):\n",
    "        df[fldname] = fld = pd.to_datetime(fld, infer_datetime_format=True, errors=errors)\n",
    "    targ_pre = re.sub('[Dd]ate$', '', fldname)\n",
    "    attr = ['Year', 'Month', 'Week', 'Day', 'Dayofweek', 'Dayofyear',\n",
    "            'Is_month_end', 'Is_month_start', 'Is_quarter_end', 'Is_quarter_start', 'Is_year_end', 'Is_year_start']\n",
    "    if time: attr = attr + ['Hour', 'Minute', 'Second']\n",
    "    for n in attr: df[targ_pre + n] = getattr(fld.dt, n.lower())\n",
    "    df[targ_pre+\"_isweekend\"]=df[targ_pre+\"Dayofweek\"].apply(lambda x:1 if x==5 or x==6 else 0)\n",
    "    if drop: df.drop(fldname, axis=1, inplace=True)\n",
    "    \n",
    "def count_encode(train, test, by_cols, on_col, name, use_test=False):\n",
    "    temp=train.groupby(by_cols)[on_col].count().reset_index().rename(columns={on_col:name})\n",
    "    train=pd.merge(train,temp,how='left',on=by_cols)\n",
    "    if use_test:\n",
    "        temp=test.groupby(by_cols)[on_col].count().reset_index().rename(columns={on_col:name})\n",
    "    test=pd.merge(test,temp,how='left',on=by_cols)\n",
    "    train[name].fillna(np.median(temp[name]),inplace=True)\n",
    "    test[name].fillna(np.median(temp[name]),inplace=True)\n",
    "    return train,test\n",
    "\n",
    "\n",
    "def train_test_split_sorted(X, y, test_size, dates):\n",
    "\n",
    "    n_test = math.ceil(test_size * len(X))\n",
    "\n",
    "    sorted_index = [x for _, x in sorted(zip(np.array(dates), np.arange(0, len(dates))), key=lambda pair: pair[0])]\n",
    "    train_idx = sorted_index[:-n_test]\n",
    "    test_idx = sorted_index[-n_test:]\n",
    "\n",
    "    if isinstance(X, (pd.Series, pd.DataFrame)):\n",
    "        X_train = X.iloc[train_idx]\n",
    "        X_test = X.iloc[test_idx]\n",
    "    else:\n",
    "        X_train = X[train_idx]\n",
    "        X_test = X[test_idx]\n",
    "    if isinstance(y, (pd.Series, pd.DataFrame)):\n",
    "        y_train = y.iloc[train_idx]\n",
    "        y_test = y.iloc[test_idx]\n",
    "    else:\n",
    "        y_train = y[train_idx]\n",
    "        y_test = y[test_idx]\n",
    "\n",
    "    return X_train, X_test, y_train, y_test\n",
    "\n",
    "def entropy(labels, base=None):\n",
    "   \n",
    "    n_labels = len(labels)\n",
    "\n",
    "    if n_labels <= 1:\n",
    "        return 0\n",
    "\n",
    "    value,counts = np.unique(labels, return_counts=True)\n",
    "\n",
    "    probs = counts / n_labels\n",
    "    n_classes = np.count_nonzero(probs)\n",
    "\n",
    "    if n_classes <= 1:\n",
    "        return 0\n",
    "    \n",
    "    ent = 0.\n",
    "    \n",
    "    # Compute entropy\n",
    "    base = e if base is None else base\n",
    "\n",
    "    for i in probs:\n",
    "        ent -= i * log(i, base)\n",
    "        \n",
    "    return ent\n"
   ]
  },
  {
   "cell_type": "markdown",
   "metadata": {},
   "source": [
    "### Loading dataset"
   ]
  },
  {
   "cell_type": "code",
   "execution_count": 5,
   "metadata": {},
   "outputs": [],
   "source": [
    "Path = './data/capitalone/'"
   ]
  },
  {
   "cell_type": "code",
   "execution_count": 6,
   "metadata": {},
   "outputs": [
    {
     "name": "stdout",
     "output_type": "stream",
     "text": [
      "CPU times: user 11.3 s, sys: 2.81 s, total: 14.1 s\n",
      "Wall time: 14.2 s\n"
     ]
    }
   ],
   "source": [
    "%%time\n",
    "transactions = pd.read_json(f'{Path}transactions.txt', orient='columns', lines=True)"
   ]
  },
  {
   "cell_type": "markdown",
   "metadata": {},
   "source": [
    "### Structure of Data"
   ]
  },
  {
   "cell_type": "code",
   "execution_count": 7,
   "metadata": {},
   "outputs": [
    {
     "data": {
      "text/plain": [
       "(641914, 29)"
      ]
     },
     "execution_count": 7,
     "metadata": {},
     "output_type": "execute_result"
    }
   ],
   "source": [
    "transactions.shape"
   ]
  },
  {
   "cell_type": "markdown",
   "metadata": {},
   "source": [
    "- Data has 641914 rows with 29 columns"
   ]
  },
  {
   "cell_type": "code",
   "execution_count": 8,
   "metadata": {},
   "outputs": [
    {
     "name": "stdout",
     "output_type": "stream",
     "text": [
      "<class 'pandas.core.frame.DataFrame'>\n",
      "RangeIndex: 641914 entries, 0 to 641913\n",
      "Data columns (total 29 columns):\n",
      "accountNumber               641914 non-null int64\n",
      "accountOpenDate             641914 non-null object\n",
      "acqCountry                  641914 non-null object\n",
      "availableMoney              641914 non-null float64\n",
      "cardCVV                     641914 non-null int64\n",
      "cardLast4Digits             641914 non-null int64\n",
      "cardPresent                 641914 non-null bool\n",
      "creditLimit                 641914 non-null int64\n",
      "currentBalance              641914 non-null float64\n",
      "currentExpDate              641914 non-null object\n",
      "customerId                  641914 non-null int64\n",
      "dateOfLastAddressChange     641914 non-null object\n",
      "echoBuffer                  641914 non-null object\n",
      "enteredCVV                  641914 non-null int64\n",
      "expirationDateKeyInMatch    641914 non-null bool\n",
      "isFraud                     641914 non-null bool\n",
      "merchantCategoryCode        641914 non-null object\n",
      "merchantCity                641914 non-null object\n",
      "merchantCountryCode         641914 non-null object\n",
      "merchantName                641914 non-null object\n",
      "merchantState               641914 non-null object\n",
      "merchantZip                 641914 non-null object\n",
      "posConditionCode            641914 non-null object\n",
      "posEntryMode                641914 non-null object\n",
      "posOnPremises               641914 non-null object\n",
      "recurringAuthInd            641914 non-null object\n",
      "transactionAmount           641914 non-null float64\n",
      "transactionDateTime         641914 non-null object\n",
      "transactionType             641914 non-null object\n",
      "dtypes: bool(3), float64(3), int64(6), object(17)\n",
      "memory usage: 129.2+ MB\n"
     ]
    }
   ],
   "source": [
    "transactions.info()"
   ]
  },
  {
   "cell_type": "markdown",
   "metadata": {},
   "source": [
    "## Basic summary statistics"
   ]
  },
  {
   "cell_type": "code",
   "execution_count": 9,
   "metadata": {},
   "outputs": [
    {
     "data": {
      "text/html": [
       "<div>\n",
       "<style scoped>\n",
       "    .dataframe tbody tr th:only-of-type {\n",
       "        vertical-align: middle;\n",
       "    }\n",
       "\n",
       "    .dataframe tbody tr th {\n",
       "        vertical-align: top;\n",
       "    }\n",
       "\n",
       "    .dataframe thead th {\n",
       "        text-align: right;\n",
       "    }\n",
       "</style>\n",
       "<table border=\"1\" class=\"dataframe\">\n",
       "  <thead>\n",
       "    <tr style=\"text-align: right;\">\n",
       "      <th></th>\n",
       "      <th>count</th>\n",
       "      <th>mean</th>\n",
       "      <th>std</th>\n",
       "      <th>min</th>\n",
       "      <th>25%</th>\n",
       "      <th>50%</th>\n",
       "      <th>75%</th>\n",
       "      <th>max</th>\n",
       "    </tr>\n",
       "  </thead>\n",
       "  <tbody>\n",
       "    <tr>\n",
       "      <th>accountNumber</th>\n",
       "      <td>641914.0</td>\n",
       "      <td>5.547701e+08</td>\n",
       "      <td>2.546884e+08</td>\n",
       "      <td>1.005471e+08</td>\n",
       "      <td>3.223192e+08</td>\n",
       "      <td>5.438879e+08</td>\n",
       "      <td>7.862277e+08</td>\n",
       "      <td>9.999853e+08</td>\n",
       "    </tr>\n",
       "    <tr>\n",
       "      <th>availableMoney</th>\n",
       "      <td>641914.0</td>\n",
       "      <td>6.652829e+03</td>\n",
       "      <td>9.227132e+03</td>\n",
       "      <td>-1.244930e+03</td>\n",
       "      <td>1.114970e+03</td>\n",
       "      <td>3.578165e+03</td>\n",
       "      <td>8.169185e+03</td>\n",
       "      <td>5.000000e+04</td>\n",
       "    </tr>\n",
       "    <tr>\n",
       "      <th>cardCVV</th>\n",
       "      <td>641914.0</td>\n",
       "      <td>5.571999e+02</td>\n",
       "      <td>2.573262e+02</td>\n",
       "      <td>1.000000e+02</td>\n",
       "      <td>3.340000e+02</td>\n",
       "      <td>5.810000e+02</td>\n",
       "      <td>7.620000e+02</td>\n",
       "      <td>9.980000e+02</td>\n",
       "    </tr>\n",
       "    <tr>\n",
       "      <th>cardLast4Digits</th>\n",
       "      <td>641914.0</td>\n",
       "      <td>4.886184e+03</td>\n",
       "      <td>2.859054e+03</td>\n",
       "      <td>0.000000e+00</td>\n",
       "      <td>2.364000e+03</td>\n",
       "      <td>4.873000e+03</td>\n",
       "      <td>7.267000e+03</td>\n",
       "      <td>9.998000e+03</td>\n",
       "    </tr>\n",
       "    <tr>\n",
       "      <th>creditLimit</th>\n",
       "      <td>641914.0</td>\n",
       "      <td>1.069721e+04</td>\n",
       "      <td>1.146036e+04</td>\n",
       "      <td>2.500000e+02</td>\n",
       "      <td>5.000000e+03</td>\n",
       "      <td>7.500000e+03</td>\n",
       "      <td>1.500000e+04</td>\n",
       "      <td>5.000000e+04</td>\n",
       "    </tr>\n",
       "    <tr>\n",
       "      <th>currentBalance</th>\n",
       "      <td>641914.0</td>\n",
       "      <td>4.044382e+03</td>\n",
       "      <td>5.945510e+03</td>\n",
       "      <td>0.000000e+00</td>\n",
       "      <td>5.024425e+02</td>\n",
       "      <td>2.151860e+03</td>\n",
       "      <td>5.005890e+03</td>\n",
       "      <td>4.749650e+04</td>\n",
       "    </tr>\n",
       "    <tr>\n",
       "      <th>customerId</th>\n",
       "      <td>641914.0</td>\n",
       "      <td>5.547701e+08</td>\n",
       "      <td>2.546884e+08</td>\n",
       "      <td>1.005471e+08</td>\n",
       "      <td>3.223192e+08</td>\n",
       "      <td>5.438879e+08</td>\n",
       "      <td>7.862277e+08</td>\n",
       "      <td>9.999853e+08</td>\n",
       "    </tr>\n",
       "    <tr>\n",
       "      <th>enteredCVV</th>\n",
       "      <td>641914.0</td>\n",
       "      <td>5.567752e+02</td>\n",
       "      <td>2.574026e+02</td>\n",
       "      <td>1.000000e+00</td>\n",
       "      <td>3.330000e+02</td>\n",
       "      <td>5.800000e+02</td>\n",
       "      <td>7.610000e+02</td>\n",
       "      <td>9.980000e+02</td>\n",
       "    </tr>\n",
       "    <tr>\n",
       "      <th>transactionAmount</th>\n",
       "      <td>641914.0</td>\n",
       "      <td>1.351625e+02</td>\n",
       "      <td>1.470533e+02</td>\n",
       "      <td>0.000000e+00</td>\n",
       "      <td>3.232000e+01</td>\n",
       "      <td>8.580000e+01</td>\n",
       "      <td>1.890300e+02</td>\n",
       "      <td>1.825250e+03</td>\n",
       "    </tr>\n",
       "  </tbody>\n",
       "</table>\n",
       "</div>"
      ],
      "text/plain": [
       "                      count          mean           std           min  \\\n",
       "accountNumber      641914.0  5.547701e+08  2.546884e+08  1.005471e+08   \n",
       "availableMoney     641914.0  6.652829e+03  9.227132e+03 -1.244930e+03   \n",
       "cardCVV            641914.0  5.571999e+02  2.573262e+02  1.000000e+02   \n",
       "cardLast4Digits    641914.0  4.886184e+03  2.859054e+03  0.000000e+00   \n",
       "creditLimit        641914.0  1.069721e+04  1.146036e+04  2.500000e+02   \n",
       "currentBalance     641914.0  4.044382e+03  5.945510e+03  0.000000e+00   \n",
       "customerId         641914.0  5.547701e+08  2.546884e+08  1.005471e+08   \n",
       "enteredCVV         641914.0  5.567752e+02  2.574026e+02  1.000000e+00   \n",
       "transactionAmount  641914.0  1.351625e+02  1.470533e+02  0.000000e+00   \n",
       "\n",
       "                            25%           50%           75%           max  \n",
       "accountNumber      3.223192e+08  5.438879e+08  7.862277e+08  9.999853e+08  \n",
       "availableMoney     1.114970e+03  3.578165e+03  8.169185e+03  5.000000e+04  \n",
       "cardCVV            3.340000e+02  5.810000e+02  7.620000e+02  9.980000e+02  \n",
       "cardLast4Digits    2.364000e+03  4.873000e+03  7.267000e+03  9.998000e+03  \n",
       "creditLimit        5.000000e+03  7.500000e+03  1.500000e+04  5.000000e+04  \n",
       "currentBalance     5.024425e+02  2.151860e+03  5.005890e+03  4.749650e+04  \n",
       "customerId         3.223192e+08  5.438879e+08  7.862277e+08  9.999853e+08  \n",
       "enteredCVV         3.330000e+02  5.800000e+02  7.610000e+02  9.980000e+02  \n",
       "transactionAmount  3.232000e+01  8.580000e+01  1.890300e+02  1.825250e+03  "
      ]
     },
     "execution_count": 9,
     "metadata": {},
     "output_type": "execute_result"
    }
   ],
   "source": [
    "transactions.describe().T"
   ]
  },
  {
   "cell_type": "code",
   "execution_count": 10,
   "metadata": {},
   "outputs": [
    {
     "data": {
      "text/html": [
       "<div>\n",
       "<style scoped>\n",
       "    .dataframe tbody tr th:only-of-type {\n",
       "        vertical-align: middle;\n",
       "    }\n",
       "\n",
       "    .dataframe tbody tr th {\n",
       "        vertical-align: top;\n",
       "    }\n",
       "\n",
       "    .dataframe thead th {\n",
       "        text-align: right;\n",
       "    }\n",
       "</style>\n",
       "<table border=\"1\" class=\"dataframe\">\n",
       "  <thead>\n",
       "    <tr style=\"text-align: right;\">\n",
       "      <th></th>\n",
       "      <th>accountNumber</th>\n",
       "      <th>accountOpenDate</th>\n",
       "      <th>acqCountry</th>\n",
       "      <th>availableMoney</th>\n",
       "      <th>cardCVV</th>\n",
       "      <th>cardLast4Digits</th>\n",
       "      <th>cardPresent</th>\n",
       "      <th>creditLimit</th>\n",
       "      <th>currentBalance</th>\n",
       "      <th>currentExpDate</th>\n",
       "      <th>customerId</th>\n",
       "      <th>dateOfLastAddressChange</th>\n",
       "      <th>echoBuffer</th>\n",
       "      <th>enteredCVV</th>\n",
       "      <th>expirationDateKeyInMatch</th>\n",
       "      <th>isFraud</th>\n",
       "      <th>merchantCategoryCode</th>\n",
       "      <th>merchantCity</th>\n",
       "      <th>merchantCountryCode</th>\n",
       "      <th>merchantName</th>\n",
       "      <th>merchantState</th>\n",
       "      <th>merchantZip</th>\n",
       "      <th>posConditionCode</th>\n",
       "      <th>posEntryMode</th>\n",
       "      <th>posOnPremises</th>\n",
       "      <th>recurringAuthInd</th>\n",
       "      <th>transactionAmount</th>\n",
       "      <th>transactionDateTime</th>\n",
       "      <th>transactionType</th>\n",
       "    </tr>\n",
       "  </thead>\n",
       "  <tbody>\n",
       "    <tr>\n",
       "      <th>0</th>\n",
       "      <td>733493772</td>\n",
       "      <td>2014-08-03</td>\n",
       "      <td>US</td>\n",
       "      <td>5000.00</td>\n",
       "      <td>492</td>\n",
       "      <td>9184</td>\n",
       "      <td>False</td>\n",
       "      <td>5000</td>\n",
       "      <td>0.00</td>\n",
       "      <td>04/2020</td>\n",
       "      <td>733493772</td>\n",
       "      <td>2014-08-03</td>\n",
       "      <td></td>\n",
       "      <td>492</td>\n",
       "      <td>False</td>\n",
       "      <td>True</td>\n",
       "      <td>rideshare</td>\n",
       "      <td></td>\n",
       "      <td>US</td>\n",
       "      <td>Lyft</td>\n",
       "      <td></td>\n",
       "      <td></td>\n",
       "      <td>01</td>\n",
       "      <td>05</td>\n",
       "      <td></td>\n",
       "      <td></td>\n",
       "      <td>111.33</td>\n",
       "      <td>2016-01-08T19:04:50</td>\n",
       "      <td>PURCHASE</td>\n",
       "    </tr>\n",
       "    <tr>\n",
       "      <th>1</th>\n",
       "      <td>733493772</td>\n",
       "      <td>2014-08-03</td>\n",
       "      <td>US</td>\n",
       "      <td>4888.67</td>\n",
       "      <td>492</td>\n",
       "      <td>9184</td>\n",
       "      <td>False</td>\n",
       "      <td>5000</td>\n",
       "      <td>111.33</td>\n",
       "      <td>06/2023</td>\n",
       "      <td>733493772</td>\n",
       "      <td>2014-08-03</td>\n",
       "      <td></td>\n",
       "      <td>492</td>\n",
       "      <td>False</td>\n",
       "      <td>False</td>\n",
       "      <td>rideshare</td>\n",
       "      <td></td>\n",
       "      <td>US</td>\n",
       "      <td>Uber</td>\n",
       "      <td></td>\n",
       "      <td></td>\n",
       "      <td>01</td>\n",
       "      <td>09</td>\n",
       "      <td></td>\n",
       "      <td></td>\n",
       "      <td>24.75</td>\n",
       "      <td>2016-01-09T22:32:39</td>\n",
       "      <td>PURCHASE</td>\n",
       "    </tr>\n",
       "    <tr>\n",
       "      <th>2</th>\n",
       "      <td>733493772</td>\n",
       "      <td>2014-08-03</td>\n",
       "      <td>US</td>\n",
       "      <td>4863.92</td>\n",
       "      <td>492</td>\n",
       "      <td>9184</td>\n",
       "      <td>False</td>\n",
       "      <td>5000</td>\n",
       "      <td>136.08</td>\n",
       "      <td>12/2027</td>\n",
       "      <td>733493772</td>\n",
       "      <td>2014-08-03</td>\n",
       "      <td></td>\n",
       "      <td>492</td>\n",
       "      <td>False</td>\n",
       "      <td>False</td>\n",
       "      <td>rideshare</td>\n",
       "      <td></td>\n",
       "      <td>US</td>\n",
       "      <td>Lyft</td>\n",
       "      <td></td>\n",
       "      <td></td>\n",
       "      <td>01</td>\n",
       "      <td>05</td>\n",
       "      <td></td>\n",
       "      <td></td>\n",
       "      <td>187.40</td>\n",
       "      <td>2016-01-11T13:36:55</td>\n",
       "      <td>PURCHASE</td>\n",
       "    </tr>\n",
       "    <tr>\n",
       "      <th>3</th>\n",
       "      <td>733493772</td>\n",
       "      <td>2014-08-03</td>\n",
       "      <td>US</td>\n",
       "      <td>4676.52</td>\n",
       "      <td>492</td>\n",
       "      <td>9184</td>\n",
       "      <td>False</td>\n",
       "      <td>5000</td>\n",
       "      <td>323.48</td>\n",
       "      <td>09/2029</td>\n",
       "      <td>733493772</td>\n",
       "      <td>2014-08-03</td>\n",
       "      <td></td>\n",
       "      <td>492</td>\n",
       "      <td>False</td>\n",
       "      <td>True</td>\n",
       "      <td>rideshare</td>\n",
       "      <td></td>\n",
       "      <td>US</td>\n",
       "      <td>Lyft</td>\n",
       "      <td></td>\n",
       "      <td></td>\n",
       "      <td>01</td>\n",
       "      <td>02</td>\n",
       "      <td></td>\n",
       "      <td></td>\n",
       "      <td>227.34</td>\n",
       "      <td>2016-01-11T22:47:46</td>\n",
       "      <td>PURCHASE</td>\n",
       "    </tr>\n",
       "    <tr>\n",
       "      <th>4</th>\n",
       "      <td>733493772</td>\n",
       "      <td>2014-08-03</td>\n",
       "      <td>US</td>\n",
       "      <td>4449.18</td>\n",
       "      <td>492</td>\n",
       "      <td>9184</td>\n",
       "      <td>False</td>\n",
       "      <td>5000</td>\n",
       "      <td>550.82</td>\n",
       "      <td>10/2024</td>\n",
       "      <td>733493772</td>\n",
       "      <td>2014-08-03</td>\n",
       "      <td></td>\n",
       "      <td>492</td>\n",
       "      <td>False</td>\n",
       "      <td>False</td>\n",
       "      <td>rideshare</td>\n",
       "      <td></td>\n",
       "      <td>US</td>\n",
       "      <td>Lyft</td>\n",
       "      <td></td>\n",
       "      <td></td>\n",
       "      <td>01</td>\n",
       "      <td>02</td>\n",
       "      <td></td>\n",
       "      <td></td>\n",
       "      <td>0.00</td>\n",
       "      <td>2016-01-16T01:41:11</td>\n",
       "      <td>ADDRESS_VERIFICATION</td>\n",
       "    </tr>\n",
       "  </tbody>\n",
       "</table>\n",
       "</div>"
      ],
      "text/plain": [
       "   accountNumber accountOpenDate acqCountry  availableMoney  cardCVV  \\\n",
       "0      733493772      2014-08-03         US         5000.00      492   \n",
       "1      733493772      2014-08-03         US         4888.67      492   \n",
       "2      733493772      2014-08-03         US         4863.92      492   \n",
       "3      733493772      2014-08-03         US         4676.52      492   \n",
       "4      733493772      2014-08-03         US         4449.18      492   \n",
       "\n",
       "   cardLast4Digits  cardPresent  creditLimit  currentBalance currentExpDate  \\\n",
       "0             9184        False         5000            0.00        04/2020   \n",
       "1             9184        False         5000          111.33        06/2023   \n",
       "2             9184        False         5000          136.08        12/2027   \n",
       "3             9184        False         5000          323.48        09/2029   \n",
       "4             9184        False         5000          550.82        10/2024   \n",
       "\n",
       "   customerId dateOfLastAddressChange echoBuffer  enteredCVV  \\\n",
       "0   733493772              2014-08-03                    492   \n",
       "1   733493772              2014-08-03                    492   \n",
       "2   733493772              2014-08-03                    492   \n",
       "3   733493772              2014-08-03                    492   \n",
       "4   733493772              2014-08-03                    492   \n",
       "\n",
       "   expirationDateKeyInMatch  isFraud merchantCategoryCode merchantCity  \\\n",
       "0                     False     True            rideshare                \n",
       "1                     False    False            rideshare                \n",
       "2                     False    False            rideshare                \n",
       "3                     False     True            rideshare                \n",
       "4                     False    False            rideshare                \n",
       "\n",
       "  merchantCountryCode merchantName merchantState merchantZip posConditionCode  \\\n",
       "0                  US         Lyft                                         01   \n",
       "1                  US         Uber                                         01   \n",
       "2                  US         Lyft                                         01   \n",
       "3                  US         Lyft                                         01   \n",
       "4                  US         Lyft                                         01   \n",
       "\n",
       "  posEntryMode posOnPremises recurringAuthInd  transactionAmount  \\\n",
       "0           05                                            111.33   \n",
       "1           09                                             24.75   \n",
       "2           05                                            187.40   \n",
       "3           02                                            227.34   \n",
       "4           02                                              0.00   \n",
       "\n",
       "   transactionDateTime       transactionType  \n",
       "0  2016-01-08T19:04:50              PURCHASE  \n",
       "1  2016-01-09T22:32:39              PURCHASE  \n",
       "2  2016-01-11T13:36:55              PURCHASE  \n",
       "3  2016-01-11T22:47:46              PURCHASE  \n",
       "4  2016-01-16T01:41:11  ADDRESS_VERIFICATION  "
      ]
     },
     "metadata": {},
     "output_type": "display_data"
    }
   ],
   "source": [
    "display_all(transactions.head())"
   ]
  },
  {
   "cell_type": "markdown",
   "metadata": {},
   "source": [
    "## Data Preprocessing"
   ]
  },
  {
   "cell_type": "markdown",
   "metadata": {},
   "source": [
    "#### Check for columns with missing values in dataset"
   ]
  },
  {
   "cell_type": "code",
   "execution_count": 11,
   "metadata": {},
   "outputs": [
    {
     "data": {
      "text/plain": [
       "Series([], dtype: int64)"
      ]
     },
     "execution_count": 11,
     "metadata": {},
     "output_type": "execute_result"
    }
   ],
   "source": [
    "missing_stats = transactions.isnull().sum(axis=0)\n",
    "missing_stats[missing_stats != 0]"
   ]
  },
  {
   "cell_type": "markdown",
   "metadata": {},
   "source": [
    "#### This is deceiving as there is missing data in the form of white spaces and needs to be handled, so replacing white spaces with NaN values"
   ]
  },
  {
   "cell_type": "code",
   "execution_count": 12,
   "metadata": {},
   "outputs": [],
   "source": [
    "transactions.replace(r'', np.nan, inplace=True)"
   ]
  },
  {
   "cell_type": "markdown",
   "metadata": {},
   "source": [
    "#### Columns with missing values and missing records count in each column"
   ]
  },
  {
   "cell_type": "code",
   "execution_count": 13,
   "metadata": {},
   "outputs": [
    {
     "data": {
      "text/plain": [
       "acqCountry               3913\n",
       "echoBuffer             641914\n",
       "merchantCity           641914\n",
       "merchantCountryCode       624\n",
       "merchantState          641914\n",
       "merchantZip            641914\n",
       "posConditionCode          287\n",
       "posEntryMode             3345\n",
       "posOnPremises          641914\n",
       "recurringAuthInd       641914\n",
       "transactionType           589\n",
       "dtype: int64"
      ]
     },
     "execution_count": 13,
     "metadata": {},
     "output_type": "execute_result"
    }
   ],
   "source": [
    "missing_stats = transactions.isnull().sum(axis=0)\n",
    "missing_stats[missing_stats != 0]"
   ]
  },
  {
   "cell_type": "markdown",
   "metadata": {},
   "source": [
    "#### Dropping columns that have 100% missing values"
   ]
  },
  {
   "cell_type": "code",
   "execution_count": 14,
   "metadata": {},
   "outputs": [],
   "source": [
    "transactions.dropna(axis=1, how='all', inplace=True)"
   ]
  },
  {
   "cell_type": "code",
   "execution_count": 15,
   "metadata": {},
   "outputs": [
    {
     "data": {
      "text/plain": [
       "acqCountry             3913\n",
       "merchantCountryCode     624\n",
       "posConditionCode        287\n",
       "posEntryMode           3345\n",
       "transactionType         589\n",
       "dtype: int64"
      ]
     },
     "execution_count": 15,
     "metadata": {},
     "output_type": "execute_result"
    }
   ],
   "source": [
    "missing_stats = transactions.isnull().sum(axis=0)\n",
    "missing_stats[missing_stats != 0]"
   ]
  },
  {
   "cell_type": "code",
   "execution_count": 16,
   "metadata": {},
   "outputs": [],
   "source": [
    "date_columns = ['accountOpenDate','dateOfLastAddressChange', 'currentExpDate', 'transactionDateTime']\n",
    "numeric_columns = ['availableMoney', 'creditLimit', 'currentBalance', 'transactionAmount']\n",
    "categorical_columns = ['acqCountry', 'merchantCountryCode', 'merchantName'\n",
    "                       , 'posConditionCode', 'posEntryMode', 'transactionType', 'merchantCategoryCode']\n",
    "boolean_columns = ['cardPresent', 'expirationDateKeyInMatch']"
   ]
  },
  {
   "cell_type": "markdown",
   "metadata": {},
   "source": [
    "#### Convert date column to datetime format"
   ]
  },
  {
   "cell_type": "code",
   "execution_count": 17,
   "metadata": {},
   "outputs": [
    {
     "name": "stdout",
     "output_type": "stream",
     "text": [
      "CPU times: user 52.9 s, sys: 250 ms, total: 53.1 s\n",
      "Wall time: 53.3 s\n"
     ]
    }
   ],
   "source": [
    "%%time\n",
    "transactions[date_columns]= transactions[date_columns].astype('datetime64[ns]') \n",
    "transactions['transactionDate'] = transactions['transactionDateTime'].apply(lambda x: x.date()\n",
    "                                                                           ).astype('datetime64[ns]')"
   ]
  },
  {
   "cell_type": "markdown",
   "metadata": {},
   "source": [
    "### Exploratory Data Analysis"
   ]
  },
  {
   "cell_type": "markdown",
   "metadata": {},
   "source": [
    "#### Proportion of fraud transactions in the dataset"
   ]
  },
  {
   "cell_type": "code",
   "execution_count": 18,
   "metadata": {},
   "outputs": [
    {
     "data": {
      "text/plain": [
       "False    0.982393\n",
       "True     0.017607\n",
       "Name: isFraud, dtype: float64"
      ]
     },
     "execution_count": 18,
     "metadata": {},
     "output_type": "execute_result"
    }
   ],
   "source": [
    "transactions['isFraud'].value_counts(normalize=True)"
   ]
  },
  {
   "cell_type": "code",
   "execution_count": 19,
   "metadata": {},
   "outputs": [
    {
     "data": {
      "text/plain": [
       "False    630612\n",
       "True      11302\n",
       "Name: isFraud, dtype: int64"
      ]
     },
     "execution_count": 19,
     "metadata": {},
     "output_type": "execute_result"
    }
   ],
   "source": [
    "transactions['isFraud'].value_counts()"
   ]
  },
  {
   "cell_type": "code",
   "execution_count": 20,
   "metadata": {},
   "outputs": [
    {
     "data": {
      "text/plain": [
       "array([[<matplotlib.axes._subplots.AxesSubplot object at 0x1286655c0>,\n",
       "        <matplotlib.axes._subplots.AxesSubplot object at 0x128618080>,\n",
       "        <matplotlib.axes._subplots.AxesSubplot object at 0x10d136e48>,\n",
       "        <matplotlib.axes._subplots.AxesSubplot object at 0x10d169358>]], dtype=object)"
      ]
     },
     "execution_count": 20,
     "metadata": {},
     "output_type": "execute_result"
    },
    {
     "data": {
      "image/png": "[encoded data removed]",
      "text/plain": [
       "<Figure size 1584x432 with 4 Axes>"
      ]
     },
     "metadata": {},
     "output_type": "display_data"
    }
   ],
   "source": [
    "transactions[numeric_columns].hist(figsize=(22, 6), layout=(1, 4))"
   ]
  },
  {
   "cell_type": "markdown",
   "metadata": {},
   "source": [
    "#### Histogram of Transaction Amount"
   ]
  },
  {
   "cell_type": "markdown",
   "metadata": {},
   "source": [
    "- The histogram for transaction amounts is right skewed as most of the transaction amounts are in the range of `$0` to `$500`. Only 1% of records are having transaction amounts greater than 500 making the distribution right skewed."
   ]
  },
  {
   "cell_type": "code",
   "execution_count": 21,
   "metadata": {},
   "outputs": [
    {
     "name": "stdout",
     "output_type": "stream",
     "text": [
      "Column name: transactionAmount\n",
      "Total Rows: 641914\n",
      "Positive values row count: 641914\n",
      "Negative values row count: 0\n",
      "Null values row count: 0\n",
      "Column summary\n",
      "count    641914.000000\n",
      "mean        135.162497\n",
      "std         147.053302\n",
      "min           0.000000\n",
      "25%          32.320000\n",
      "50%          85.800000\n",
      "75%         189.030000\n",
      "max        1825.250000\n",
      "Name: transactionAmount, dtype: float64\n",
      "Cut: [   0.     182.525  365.05   547.575  730.1    912.625 1095.15  1277.675 1460.2   1642.725 1825.25 ]\n",
      "Count: [474374 117873  34855  10375   3128    945    263     72     23      6]\n"
     ]
    },
    {
     "data": {
      "image/png": "[encoded data removed]",
      "text/plain": [
       "<Figure size 432x288 with 2 Axes>"
      ]
     },
     "metadata": {},
     "output_type": "display_data"
    }
   ],
   "source": [
    "get_stats(transactions, ['transactionAmount'], bins=10)"
   ]
  },
  {
   "cell_type": "code",
   "execution_count": 22,
   "metadata": {},
   "outputs": [
    {
     "data": {
      "text/plain": [
       "<matplotlib.axes._subplots.AxesSubplot at 0x163cd1048>"
      ]
     },
     "execution_count": 22,
     "metadata": {},
     "output_type": "execute_result"
    },
    {
     "data": {
      "image/png": "[encoded data removed]",
      "text/plain": [
       "<Figure size 864x432 with 1 Axes>"
      ]
     },
     "metadata": {},
     "output_type": "display_data"
    }
   ],
   "source": [
    "transactions['transactionAmount'].hist(figsize=(12, 6), bins=25)"
   ]
  },
  {
   "cell_type": "markdown",
   "metadata": {},
   "source": [
    "#### Boxplots to understand the quantiles in the numeric columns also used to check for outliers"
   ]
  },
  {
   "cell_type": "code",
   "execution_count": 23,
   "metadata": {},
   "outputs": [
    {
     "data": {
      "text/plain": [
       "<matplotlib.axes._subplots.AxesSubplot at 0x163d7b320>"
      ]
     },
     "execution_count": 23,
     "metadata": {},
     "output_type": "execute_result"
    },
    {
     "data": {
      "image/png": "[encoded data removed]",
      "text/plain": [
       "<Figure size 1584x432 with 1 Axes>"
      ]
     },
     "metadata": {},
     "output_type": "display_data"
    }
   ],
   "source": [
    "transactions[numeric_columns].boxplot(figsize=(22, 6))"
   ]
  },
  {
   "cell_type": "markdown",
   "metadata": {},
   "source": [
    "### Visualizing distribution of fraud in the categorical columns using stacked bar charts"
   ]
  },
  {
   "cell_type": "code",
   "execution_count": 24,
   "metadata": {},
   "outputs": [
    {
     "data": {
      "image/png": "[encoded data removed]",
      "text/plain": [
       "<Figure size 1080x4320 with 7 Axes>"
      ]
     },
     "metadata": {},
     "output_type": "display_data"
    }
   ],
   "source": [
    "fig, ax = plt.subplots(len(categorical_columns), figsize=(15, 60))\n",
    "for variable, subplot in zip(categorical_columns, ax.flatten()):\n",
    "    if (variable != 'merchantName'):\n",
    "#         sns.countplot(transactions[variable], ax=subplot)\n",
    "        ct = pd.crosstab(transactions[variable], transactions['isFraud'])\n",
    "        ct.plot.bar(stacked=True, ax=subplot)\n",
    "        for label in subplot.get_xticklabels():\n",
    "            label.set_rotation(25)"
   ]
  },
  {
   "cell_type": "markdown",
   "metadata": {},
   "source": [
    "### Heatmap to visualize the proportion of fraud in the merchantCategoryCode"
   ]
  },
  {
   "cell_type": "code",
   "execution_count": 25,
   "metadata": {},
   "outputs": [
    {
     "data": {
      "text/plain": [
       "<matplotlib.axes._subplots.AxesSubplot at 0x1640eee48>"
      ]
     },
     "execution_count": 25,
     "metadata": {},
     "output_type": "execute_result"
    },
    {
     "data": {
      "image/png": "[encoded data removed]",
      "text/plain": [
       "<Figure size 432x432 with 1 Axes>"
      ]
     },
     "metadata": {},
     "output_type": "display_data"
    }
   ],
   "source": [
    "plt.subplots(figsize=(6,6))\n",
    "sns.heatmap(pd.crosstab(transactions['merchantCategoryCode'], transactions['isFraud'], normalize=True)\n",
    "                       , annot=True, cbar=False, cmap=\"YlGnBu\")"
   ]
  },
  {
   "cell_type": "code",
   "execution_count": 26,
   "metadata": {},
   "outputs": [
    {
     "data": {
      "text/plain": [
       "<matplotlib.axes._subplots.AxesSubplot at 0x1641a7940>"
      ]
     },
     "execution_count": 26,
     "metadata": {},
     "output_type": "execute_result"
    },
    {
     "data": {
      "image/png": "[encoded data removed]",
      "text/plain": [
       "<Figure size 576x432 with 2 Axes>"
      ]
     },
     "metadata": {},
     "output_type": "display_data"
    }
   ],
   "source": [
    "#creating a heatmap of the attributes in the dataset\n",
    "col_list = numeric_columns + boolean_columns\n",
    "correlation_matrix = transactions[col_list].corr()\n",
    "plt.subplots(figsize=(8,6))\n",
    "sns.heatmap(correlation_matrix, center=0, annot=True, linewidths=.3)"
   ]
  },
  {
   "cell_type": "markdown",
   "metadata": {},
   "source": [
    "### Unique values in each column"
   ]
  },
  {
   "cell_type": "code",
   "execution_count": 27,
   "metadata": {},
   "outputs": [
    {
     "data": {
      "text/plain": [
       "accountNumber                 5000\n",
       "accountOpenDate               1826\n",
       "acqCountry                       4\n",
       "availableMoney              450690\n",
       "cardCVV                        899\n",
       "cardLast4Digits               5134\n",
       "cardPresent                      2\n",
       "creditLimit                     10\n",
       "currentBalance              406990\n",
       "currentExpDate                 165\n",
       "customerId                    5000\n",
       "dateOfLastAddressChange       2186\n",
       "enteredCVV                     980\n",
       "expirationDateKeyInMatch         2\n",
       "isFraud                          2\n",
       "merchantCategoryCode            19\n",
       "merchantCountryCode              4\n",
       "merchantName                  2493\n",
       "posConditionCode                 3\n",
       "posEntryMode                     5\n",
       "transactionAmount            62735\n",
       "transactionDateTime         635472\n",
       "transactionType                  3\n",
       "transactionDate                365\n",
       "dtype: int64"
      ]
     },
     "execution_count": 27,
     "metadata": {},
     "output_type": "execute_result"
    }
   ],
   "source": [
    "transactions.nunique()"
   ]
  },
  {
   "cell_type": "markdown",
   "metadata": {},
   "source": [
    "#### Minimum and maximum dates in each date column"
   ]
  },
  {
   "cell_type": "code",
   "execution_count": 28,
   "metadata": {},
   "outputs": [
    {
     "data": {
      "text/plain": [
       "(Timestamp('1985-12-25 00:00:00'), Timestamp('2015-12-31 00:00:00'))"
      ]
     },
     "execution_count": 28,
     "metadata": {},
     "output_type": "execute_result"
    }
   ],
   "source": [
    "min(transactions['accountOpenDate']), max(transactions['accountOpenDate'])"
   ]
  },
  {
   "cell_type": "code",
   "execution_count": 29,
   "metadata": {},
   "outputs": [
    {
     "data": {
      "text/plain": [
       "(Timestamp('2016-01-01 00:00:37'), Timestamp('2016-12-30 23:59:27'))"
      ]
     },
     "execution_count": 29,
     "metadata": {},
     "output_type": "execute_result"
    }
   ],
   "source": [
    "min(transactions['transactionDateTime']), max(transactions['transactionDateTime'])"
   ]
  },
  {
   "cell_type": "code",
   "execution_count": 30,
   "metadata": {},
   "outputs": [
    {
     "data": {
      "text/html": [
       "<div>\n",
       "<style scoped>\n",
       "    .dataframe tbody tr th:only-of-type {\n",
       "        vertical-align: middle;\n",
       "    }\n",
       "\n",
       "    .dataframe tbody tr th {\n",
       "        vertical-align: top;\n",
       "    }\n",
       "\n",
       "    .dataframe thead th {\n",
       "        text-align: right;\n",
       "    }\n",
       "</style>\n",
       "<table border=\"1\" class=\"dataframe\">\n",
       "  <thead>\n",
       "    <tr style=\"text-align: right;\">\n",
       "      <th></th>\n",
       "      <th></th>\n",
       "      <th></th>\n",
       "      <th>count</th>\n",
       "    </tr>\n",
       "    <tr>\n",
       "      <th>transactionDateTime</th>\n",
       "      <th>transactionDateTime</th>\n",
       "      <th>isFraud</th>\n",
       "      <th></th>\n",
       "    </tr>\n",
       "  </thead>\n",
       "  <tbody>\n",
       "    <tr>\n",
       "      <th rowspan=\"24\" valign=\"top\">2016</th>\n",
       "      <th rowspan=\"2\" valign=\"top\">1</th>\n",
       "      <th>False</th>\n",
       "      <td>48851</td>\n",
       "    </tr>\n",
       "    <tr>\n",
       "      <th>True</th>\n",
       "      <td>993</td>\n",
       "    </tr>\n",
       "    <tr>\n",
       "      <th rowspan=\"2\" valign=\"top\">2</th>\n",
       "      <th>False</th>\n",
       "      <td>47038</td>\n",
       "    </tr>\n",
       "    <tr>\n",
       "      <th>True</th>\n",
       "      <td>919</td>\n",
       "    </tr>\n",
       "    <tr>\n",
       "      <th rowspan=\"2\" valign=\"top\">3</th>\n",
       "      <th>False</th>\n",
       "      <td>50985</td>\n",
       "    </tr>\n",
       "    <tr>\n",
       "      <th>True</th>\n",
       "      <td>1017</td>\n",
       "    </tr>\n",
       "    <tr>\n",
       "      <th rowspan=\"2\" valign=\"top\">4</th>\n",
       "      <th>False</th>\n",
       "      <td>49891</td>\n",
       "    </tr>\n",
       "    <tr>\n",
       "      <th>True</th>\n",
       "      <td>907</td>\n",
       "    </tr>\n",
       "    <tr>\n",
       "      <th rowspan=\"2\" valign=\"top\">5</th>\n",
       "      <th>False</th>\n",
       "      <td>52527</td>\n",
       "    </tr>\n",
       "    <tr>\n",
       "      <th>True</th>\n",
       "      <td>984</td>\n",
       "    </tr>\n",
       "    <tr>\n",
       "      <th rowspan=\"2\" valign=\"top\">6</th>\n",
       "      <th>False</th>\n",
       "      <td>51703</td>\n",
       "    </tr>\n",
       "    <tr>\n",
       "      <th>True</th>\n",
       "      <td>932</td>\n",
       "    </tr>\n",
       "    <tr>\n",
       "      <th rowspan=\"2\" valign=\"top\">7</th>\n",
       "      <th>False</th>\n",
       "      <td>53882</td>\n",
       "    </tr>\n",
       "    <tr>\n",
       "      <th>True</th>\n",
       "      <td>988</td>\n",
       "    </tr>\n",
       "    <tr>\n",
       "      <th rowspan=\"2\" valign=\"top\">8</th>\n",
       "      <th>False</th>\n",
       "      <td>54662</td>\n",
       "    </tr>\n",
       "    <tr>\n",
       "      <th>True</th>\n",
       "      <td>908</td>\n",
       "    </tr>\n",
       "    <tr>\n",
       "      <th rowspan=\"2\" valign=\"top\">9</th>\n",
       "      <th>False</th>\n",
       "      <td>53484</td>\n",
       "    </tr>\n",
       "    <tr>\n",
       "      <th>True</th>\n",
       "      <td>873</td>\n",
       "    </tr>\n",
       "    <tr>\n",
       "      <th rowspan=\"2\" valign=\"top\">10</th>\n",
       "      <th>False</th>\n",
       "      <td>56352</td>\n",
       "    </tr>\n",
       "    <tr>\n",
       "      <th>True</th>\n",
       "      <td>993</td>\n",
       "    </tr>\n",
       "    <tr>\n",
       "      <th rowspan=\"2\" valign=\"top\">11</th>\n",
       "      <th>False</th>\n",
       "      <td>55259</td>\n",
       "    </tr>\n",
       "    <tr>\n",
       "      <th>True</th>\n",
       "      <td>901</td>\n",
       "    </tr>\n",
       "    <tr>\n",
       "      <th rowspan=\"2\" valign=\"top\">12</th>\n",
       "      <th>False</th>\n",
       "      <td>55978</td>\n",
       "    </tr>\n",
       "    <tr>\n",
       "      <th>True</th>\n",
       "      <td>887</td>\n",
       "    </tr>\n",
       "  </tbody>\n",
       "</table>\n",
       "</div>"
      ],
      "text/plain": [
       "                                                 count\n",
       "transactionDateTime transactionDateTime isFraud       \n",
       "2016                1                   False    48851\n",
       "                                        True       993\n",
       "                    2                   False    47038\n",
       "                                        True       919\n",
       "                    3                   False    50985\n",
       "                                        True      1017\n",
       "                    4                   False    49891\n",
       "                                        True       907\n",
       "                    5                   False    52527\n",
       "                                        True       984\n",
       "                    6                   False    51703\n",
       "                                        True       932\n",
       "                    7                   False    53882\n",
       "                                        True       988\n",
       "                    8                   False    54662\n",
       "                                        True       908\n",
       "                    9                   False    53484\n",
       "                                        True       873\n",
       "                    10                  False    56352\n",
       "                                        True       993\n",
       "                    11                  False    55259\n",
       "                                        True       901\n",
       "                    12                  False    55978\n",
       "                                        True       887"
      ]
     },
     "metadata": {},
     "output_type": "display_data"
    }
   ],
   "source": [
    "#viewing the distribution of dates in DisbursalDate column\n",
    "display_all(transactions['customerId'].groupby([transactions['transactionDateTime'].dt.year\n",
    "                                                ,transactions['transactionDateTime'].dt.month\n",
    "                                    , transactions['isFraud']\n",
    "                                   ]).agg({'count'})\n",
    "           )"
   ]
  },
  {
   "cell_type": "markdown",
   "metadata": {},
   "source": [
    "### Reversal transactions"
   ]
  },
  {
   "cell_type": "code",
   "execution_count": 31,
   "metadata": {},
   "outputs": [
    {
     "data": {
      "text/plain": [
       "(16162, 24)"
      ]
     },
     "execution_count": 31,
     "metadata": {},
     "output_type": "execute_result"
    }
   ],
   "source": [
    "reversed_transactions = transactions[transactions['transactionType'] == 'REVERSAL']\n",
    "reversed_transactions.shape"
   ]
  },
  {
   "cell_type": "code",
   "execution_count": 32,
   "metadata": {},
   "outputs": [
    {
     "data": {
      "text/plain": [
       "2242915.1"
      ]
     },
     "execution_count": 32,
     "metadata": {},
     "output_type": "execute_result"
    }
   ],
   "source": [
    "round(reversed_transactions['transactionAmount'].sum(),2)"
   ]
  },
  {
   "cell_type": "markdown",
   "metadata": {},
   "source": [
    "#### There are total of 16,162 reversal transactions in the dataset that accounts to `$2,242,915` in transaction amounts"
   ]
  },
  {
   "cell_type": "markdown",
   "metadata": {},
   "source": [
    "### Multi-swipes / Duplicate transactions"
   ]
  },
  {
   "cell_type": "code",
   "execution_count": 33,
   "metadata": {},
   "outputs": [],
   "source": [
    "purchases = transactions[transactions['transactionType'] == 'PURCHASE'].sort_values(['customerId'\n",
    "                                                                                     , 'transactionDateTime']\n",
    "                                                                                   )"
   ]
  },
  {
   "cell_type": "code",
   "execution_count": 34,
   "metadata": {},
   "outputs": [],
   "source": [
    "purchases['duplicate_trxns_idx'] = purchases.groupby(['customerId', 'merchantName',\n",
    "                                  'transactionDate', 'transactionAmount']\n",
    "                                )[\"accountNumber\"].cumcount() + 1"
   ]
  },
  {
   "cell_type": "code",
   "execution_count": 35,
   "metadata": {},
   "outputs": [
    {
     "data": {
      "text/plain": [
       "(5983, 25)"
      ]
     },
     "execution_count": 35,
     "metadata": {},
     "output_type": "execute_result"
    }
   ],
   "source": [
    "multi_swipes = purchases[purchases['duplicate_trxns_idx'] > 1]\n",
    "multi_swipes.shape"
   ]
  },
  {
   "cell_type": "code",
   "execution_count": 36,
   "metadata": {},
   "outputs": [
    {
     "data": {
      "text/plain": [
       "885932.79"
      ]
     },
     "execution_count": 36,
     "metadata": {},
     "output_type": "execute_result"
    }
   ],
   "source": [
    "round(multi_swipes['transactionAmount'].sum(),2)"
   ]
  },
  {
   "cell_type": "markdown",
   "metadata": {},
   "source": [
    "#### There are total of 5983 duplicate transactions in the dataset that accounts to `$885,932.79` in transaction amounts"
   ]
  },
  {
   "cell_type": "markdown",
   "metadata": {},
   "source": [
    "#### Share of reversal and multiswipe transactions only account to 3.45% of transactions. "
   ]
  },
  {
   "cell_type": "markdown",
   "metadata": {},
   "source": [
    "### Feature Engineering"
   ]
  },
  {
   "cell_type": "code",
   "execution_count": 37,
   "metadata": {},
   "outputs": [
    {
     "data": {
      "text/plain": [
       "(641882, 24)"
      ]
     },
     "execution_count": 37,
     "metadata": {},
     "output_type": "execute_result"
    }
   ],
   "source": [
    "transactions = transactions[transactions['accountOpenDate'] >= '2000-01-01']\n",
    "transactions.shape"
   ]
  },
  {
   "cell_type": "code",
   "execution_count": 38,
   "metadata": {},
   "outputs": [
    {
     "data": {
      "text/plain": [
       "(641882, 24)"
      ]
     },
     "execution_count": 38,
     "metadata": {},
     "output_type": "execute_result"
    }
   ],
   "source": [
    "transactions = transactions.sort_values(['customerId', 'transactionDateTime'])\n",
    "transactions.shape"
   ]
  },
  {
   "cell_type": "code",
   "execution_count": 39,
   "metadata": {},
   "outputs": [],
   "source": [
    "# Creating a column to check for multiswipe transactions\n",
    "transactions['multiswipe_txns'] = transactions.groupby(['customerId', 'merchantName',\n",
    "                                  'transactionDate', 'transactionAmount']\n",
    "                                )[\"accountNumber\"].cumcount() + 1"
   ]
  },
  {
   "cell_type": "markdown",
   "metadata": {},
   "source": [
    "### Basic Features"
   ]
  },
  {
   "cell_type": "code",
   "execution_count": 40,
   "metadata": {},
   "outputs": [],
   "source": [
    "transactions['account_age'] = (transactions['transactionDate'] - transactions['accountOpenDate']).dt.days"
   ]
  },
  {
   "cell_type": "code",
   "execution_count": 41,
   "metadata": {},
   "outputs": [],
   "source": [
    "transactions['days_to_expire'] = (transactions['currentExpDate'] - transactions['transactionDate']).dt.days"
   ]
  },
  {
   "cell_type": "code",
   "execution_count": 42,
   "metadata": {},
   "outputs": [],
   "source": [
    "transactions['card_valid_days'] = (transactions['currentExpDate'] - transactions['accountOpenDate']).dt.days"
   ]
  },
  {
   "cell_type": "code",
   "execution_count": 43,
   "metadata": {},
   "outputs": [],
   "source": [
    "transactions['days_from_recent_addr_change'] = (transactions['transactionDate'] - transactions['dateOfLastAddressChange']\n",
    "                                               ).dt.days"
   ]
  },
  {
   "cell_type": "code",
   "execution_count": 44,
   "metadata": {},
   "outputs": [],
   "source": [
    "transactions['days_from_open_addr_change'] = (transactions['dateOfLastAddressChange'] - transactions['accountOpenDate']\n",
    "                                               ).dt.days"
   ]
  },
  {
   "cell_type": "code",
   "execution_count": 45,
   "metadata": {},
   "outputs": [],
   "source": [
    "transactions['same_country_flag'] = transactions['acqCountry'] == transactions['merchantCountryCode']"
   ]
  },
  {
   "cell_type": "code",
   "execution_count": 46,
   "metadata": {},
   "outputs": [],
   "source": [
    "transactions['valid_details_flag'] = transactions['enteredCVV'] == transactions['cardCVV']"
   ]
  },
  {
   "cell_type": "code",
   "execution_count": 47,
   "metadata": {},
   "outputs": [],
   "source": [
    "transactions['risky_category_flag'] = np.where(transactions['merchantCategoryCode'].isin(['online_retail'\n",
    "                                                                                             ,'entertainment'\n",
    "                                                                                             ,'fastfood'\n",
    "                                                                                             ,'food'\n",
    "                                                                                             ,'rideshare'\n",
    "                                                                                            ])\n",
    "                                               ,1,0\n",
    "                                              )"
   ]
  },
  {
   "cell_type": "markdown",
   "metadata": {},
   "source": [
    "### Temporal features"
   ]
  },
  {
   "cell_type": "code",
   "execution_count": 48,
   "metadata": {},
   "outputs": [],
   "source": [
    "# Cumulative count of transactions by customer\n",
    "transactions.sort_values([\"customerId\", \"transactionDateTime\"], ascending=True, inplace = True)\n",
    "transactions[\"trxn_idx_customerid\"] = transactions.groupby(\"customerId\")[\"accountNumber\"].cumcount() + 1"
   ]
  },
  {
   "cell_type": "code",
   "execution_count": 49,
   "metadata": {},
   "outputs": [],
   "source": [
    "transactions['days_since_last_trxn'] = transactions.groupby(\"customerId\"\n",
    "                                                           )[\"transactionDate\"].diff().apply(lambda x: x.days)"
   ]
  },
  {
   "cell_type": "code",
   "execution_count": 50,
   "metadata": {},
   "outputs": [],
   "source": [
    "# Cumulative count of transactions by customer and merchant\n",
    "transactions.sort_values([\"customerId\", \"merchantName\", \"transactionDateTime\"], inplace = True, ascending=True)\n",
    "transactions[\"trxn_idx_customerid_merchantname\"] = transactions.groupby([\"customerId\"\n",
    "                                                                        , \"merchantName\"]\n",
    "                                                                      )[\"accountNumber\"].cumcount() + 1"
   ]
  },
  {
   "cell_type": "code",
   "execution_count": 51,
   "metadata": {},
   "outputs": [],
   "source": [
    "transactions[['company','StoreNo']] = transactions.merchantName.str.split(\" #\", n = 1, expand=True) "
   ]
  },
  {
   "cell_type": "code",
   "execution_count": 52,
   "metadata": {},
   "outputs": [],
   "source": [
    "# Cumulative count of transactions by customer and company\n",
    "transactions.sort_values([\"customerId\", \"company\", \"transactionDateTime\"], inplace = True, ascending=True)\n",
    "transactions[\"trxn_idx_customerid_company\"] = transactions.groupby([\"customerId\"\n",
    "                                                                    , \"company\"]\n",
    "                                                                      )[\"accountNumber\"].cumcount() + 1"
   ]
  },
  {
   "cell_type": "code",
   "execution_count": 53,
   "metadata": {},
   "outputs": [],
   "source": [
    "transactions['days_since_last_trxn_company'] = transactions.groupby(['customerId'\n",
    "                                                                   , 'company'\n",
    "                                                                     ])['transactionDate'\n",
    "                                                                       ].diff().apply(lambda x: x.days)"
   ]
  },
  {
   "cell_type": "code",
   "execution_count": 54,
   "metadata": {},
   "outputs": [],
   "source": [
    "# Cumulative count of transactions by customer and merchant category\n",
    "transactions.sort_values([\"customerId\", \"merchantCategoryCode\", \"transactionDateTime\"], inplace = True, ascending=True)\n",
    "transactions[\"trxn_idx_customerid_category\"] = transactions.groupby([\"customerId\"\n",
    "                                                                    , \"merchantCategoryCode\"]\n",
    "                                                                      )[\"accountNumber\"].cumcount() + 1"
   ]
  },
  {
   "cell_type": "code",
   "execution_count": 55,
   "metadata": {},
   "outputs": [],
   "source": [
    "transactions['days_since_last_trxn_category'] = transactions.groupby(['customerId'\n",
    "                                                                   , 'merchantCategoryCode'\n",
    "                                                                     ])['transactionDate'\n",
    "                                                                       ].diff().apply(lambda x: x.days)"
   ]
  },
  {
   "cell_type": "markdown",
   "metadata": {},
   "source": [
    "### Ratio Features"
   ]
  },
  {
   "cell_type": "code",
   "execution_count": 56,
   "metadata": {},
   "outputs": [],
   "source": [
    "transactions['tr_amt_age_ratio'] = transactions['transactionAmount']/transactions['account_age']\n",
    "transactions['cr_limit_age_ratio'] = transactions['creditLimit']/transactions['account_age']\n",
    "transactions['tr_amt_limit_ratio'] = transactions['transactionAmount']/transactions['creditLimit']\n",
    "transactions['avail_amt_limit_ratio'] = transactions['availableMoney']/transactions['creditLimit']\n",
    "transactions['cur_bal_limit_ratio'] = transactions['currentBalance']/transactions['creditLimit']"
   ]
  },
  {
   "cell_type": "code",
   "execution_count": 57,
   "metadata": {},
   "outputs": [],
   "source": [
    "transactions['tr_amt_curbal_ratio'] = np.where(transactions['currentBalance'] > 0\n",
    "                                               ,transactions['transactionAmount']/transactions['currentBalance']\n",
    "                                               ,0\n",
    "                                              )\n",
    "transactions['avail_amt_curbal_ratio'] = np.where(transactions['currentBalance'] > 0\n",
    "                                               ,transactions['availableMoney']/transactions['currentBalance']\n",
    "                                               ,0\n",
    "                                              )\n",
    "transactions['tr_avail_amt_ratio'] = np.where(transactions['availableMoney'] > 0\n",
    "                                               ,transactions['transactionAmount']/transactions['availableMoney']\n",
    "                                               ,0\n",
    "                                              )"
   ]
  },
  {
   "cell_type": "markdown",
   "metadata": {},
   "source": [
    "### Aggregated features"
   ]
  },
  {
   "cell_type": "code",
   "execution_count": 58,
   "metadata": {},
   "outputs": [],
   "source": [
    "# MIN, MAX, MEAN, MEDIAN of transaction amount by customer\n",
    "customer_transactionAmount = transactions.groupby(['customerId'], as_index=False)['transactionAmount'].agg(['min'\n",
    "                                                                                ,'max'\n",
    "                                                                                ,'mean'\n",
    "                                                                                ,'median'\n",
    "                                                                              ]).rename(columns={'min':'min_transactionAmount'\n",
    "                                                                                                ,'max':'max_transactionAmount'\n",
    "                                                                                                ,'median':'median_transactionAmount'                                         \n",
    "                                                                                                ,'mean':'mean_transactionAmount'\n",
    "                                                                                                 }\n",
    "                                                                                       )\n"
   ]
  },
  {
   "cell_type": "code",
   "execution_count": 59,
   "metadata": {},
   "outputs": [],
   "source": [
    "transactions = pd.merge(transactions, customer_transactionAmount, on='customerId', how='left')"
   ]
  },
  {
   "cell_type": "code",
   "execution_count": 60,
   "metadata": {},
   "outputs": [],
   "source": [
    "# MIN, MAX, MEAN, MEDIAN of transaction amount by merchant category\n",
    "customer_merchantcode_txn = transactions.groupby(['merchantCategoryCode'], as_index=False)['transactionAmount'].agg(['min'\n",
    "                                                                                ,'max'\n",
    "                                                                                ,'mean'\n",
    "                                                                                ,'median'\n",
    "                                                                              ]).rename(columns={'min':'min_merchcode_txnAmt'\n",
    "                                                                                                ,'max':'max_merchcode_txnAmt'\n",
    "                                                                                                ,'median':'mediancode_merch_txnAmt'                                         \n",
    "                                                                                                ,'mean':'mean_merchcode_txnAmt'\n",
    "                                                                                                 }\n",
    "                                                                                       )\n"
   ]
  },
  {
   "cell_type": "code",
   "execution_count": 61,
   "metadata": {},
   "outputs": [],
   "source": [
    "transactions = pd.merge(transactions, customer_merchantcode_txn, on=['merchantCategoryCode'], how='left')"
   ]
  },
  {
   "cell_type": "code",
   "execution_count": 62,
   "metadata": {},
   "outputs": [],
   "source": [
    "# MIN, MAX, MEAN, MEDIAN of transaction amount by store\n",
    "customer_merchant_txn = transactions.groupby(['StoreNo'], as_index=False)['transactionAmount'].agg(['min'\n",
    "                                                                                ,'max'\n",
    "                                                                                ,'mean'\n",
    "                                                                                ,'median'\n",
    "                                                                              ]).rename(columns={'min':'min_merch_txnAmt'\n",
    "                                                                                                ,'max':'max_merch_txnAmt'\n",
    "                                                                                                ,'median':'median_merch_txnAmt'                                         \n",
    "                                                                                                ,'mean':'mean_merch_txnAmt'\n",
    "                                                                                                 }\n",
    "                                                                                       )\n"
   ]
  },
  {
   "cell_type": "code",
   "execution_count": 63,
   "metadata": {},
   "outputs": [],
   "source": [
    "transactions = pd.merge(transactions, customer_merchant_txn, on=['StoreNo'], how='left')"
   ]
  },
  {
   "cell_type": "code",
   "execution_count": 64,
   "metadata": {},
   "outputs": [],
   "source": [
    "# MIN, MAX, MEAN, MEDIAN of transaction amount by company\n",
    "customer_company_txn = transactions.groupby(['company'], as_index=False)['transactionAmount'].agg(['min'\n",
    "                                                                                ,'max'\n",
    "                                                                                ,'mean'\n",
    "                                                                                ,'median'\n",
    "                                                                              ]).rename(columns={'min':'min_comp_txnAmt'\n",
    "                                                                                                ,'max':'max_comp_txnAmt'\n",
    "                                                                                                ,'median':'median_comp_txnAmt'                                         \n",
    "                                                                                                ,'mean':'mean_comp_txnAmt'\n",
    "                                                                                                 }\n",
    "                                                                                       )"
   ]
  },
  {
   "cell_type": "code",
   "execution_count": 65,
   "metadata": {},
   "outputs": [],
   "source": [
    "transactions = pd.merge(transactions, customer_company_txn, on=['company'], how='left')"
   ]
  },
  {
   "cell_type": "code",
   "execution_count": 66,
   "metadata": {},
   "outputs": [],
   "source": [
    "# MIN, MAX, MEAN, MEDIAN of transaction amount by posconditioncode\n",
    "customer_poscode_txn = transactions.groupby(['posConditionCode'], as_index=False)['transactionAmount'].agg(['min'\n",
    "                                                                                ,'max'\n",
    "                                                                                ,'mean'\n",
    "                                                                                ,'median'\n",
    "                                                                              ]).rename(columns={'min':'min_poscode_txnAmt'\n",
    "                                                                                                ,'max':'max_poscode_txnAmt'\n",
    "                                                                                                ,'median':'median_poscode_txnAmt'                                         \n",
    "                                                                                                ,'mean':'mean_poscode_txnAmt'\n",
    "                                                                                                 }\n",
    "                                                                                       )\n"
   ]
  },
  {
   "cell_type": "code",
   "execution_count": 67,
   "metadata": {},
   "outputs": [],
   "source": [
    "transactions = pd.merge(transactions, customer_poscode_txn, on=['posConditionCode'], how='left')"
   ]
  },
  {
   "cell_type": "code",
   "execution_count": 68,
   "metadata": {},
   "outputs": [],
   "source": [
    "# MIN, MAX, MEAN, MEDIAN of transaction amount by posentrymode\n",
    "customer_posmode_txn = transactions.groupby(['posEntryMode'], as_index=False)['transactionAmount'].agg(['min'\n",
    "                                                                                ,'max'\n",
    "                                                                                ,'mean'\n",
    "                                                                                ,'median'\n",
    "                                                                              ]).rename(columns={'min':'min_posmode_txnAmt'\n",
    "                                                                                                ,'max':'max_posmode_txnAmt'\n",
    "                                                                                                ,'median':'median_posmode_txnAmt'                                         \n",
    "                                                                                                ,'mean':'mean_posmode_txnAmt'\n",
    "                                                                                                 }\n",
    "                                                                                       )\n"
   ]
  },
  {
   "cell_type": "code",
   "execution_count": 69,
   "metadata": {},
   "outputs": [],
   "source": [
    "transactions = pd.merge(transactions, customer_posmode_txn, on=['posEntryMode'], how='left')"
   ]
  },
  {
   "cell_type": "code",
   "execution_count": 70,
   "metadata": {},
   "outputs": [],
   "source": [
    "# MIN, MAX, MEAN, MEDIAN of transaction amount by cardpresent\n",
    "customer_cardprsnt_txn = transactions.groupby(['cardPresent'], as_index=False)['transactionAmount'].agg(['min'\n",
    "                                                                                ,'max'\n",
    "                                                                                ,'mean'\n",
    "                                                                                ,'median'\n",
    "                                                                              ]).rename(columns={'min':'min_cardprsnt_txnAmt'\n",
    "                                                                                                ,'max':'max_cardprsnt_txnAmt'\n",
    "                                                                                                ,'median':'median_cardprsnt_txnAmt'                                         \n",
    "                                                                                                ,'mean':'mean_cardprsnt_txnAmt'\n",
    "                                                                                                 }\n",
    "                                                                                       )"
   ]
  },
  {
   "cell_type": "code",
   "execution_count": 71,
   "metadata": {},
   "outputs": [],
   "source": [
    "transactions = pd.merge(transactions, customer_cardprsnt_txn, on=['cardPresent'], how='left')"
   ]
  },
  {
   "cell_type": "code",
   "execution_count": 72,
   "metadata": {},
   "outputs": [],
   "source": [
    "# unique credit cards of customer\n",
    "customer_cards = transactions.groupby(['customerId'])['cardLast4Digits'].nunique().reset_index().rename(\n",
    "    columns={'cardLast4Digits':'cards_count'}\n",
    "                                                                                       )"
   ]
  },
  {
   "cell_type": "code",
   "execution_count": 73,
   "metadata": {},
   "outputs": [],
   "source": [
    "transactions = pd.merge(transactions, customer_cards, on=['customerId'], how='left')"
   ]
  },
  {
   "cell_type": "code",
   "execution_count": 74,
   "metadata": {},
   "outputs": [],
   "source": [
    "# same day merchant transaction count\n",
    "sameday_merch_trxns = transactions.groupby(['customerId'\n",
    "                                 ,'transactionDate'\n",
    "                                 ,'merchantName'])['cardLast4Digits'].nunique().reset_index().rename(columns={'cardLast4Digits':\n",
    "                                                                                      'txn_count'}).sort_values(['txn_count']\n",
    "                                                                                                               ,ascending=False)"
   ]
  },
  {
   "cell_type": "code",
   "execution_count": 75,
   "metadata": {},
   "outputs": [],
   "source": [
    "transactions = pd.merge(transactions, sameday_merch_trxns, on=['customerId'\n",
    "                                                              ,'transactionDate'\n",
    "                                                              ,'merchantName'\n",
    "                                                              ], how='left')"
   ]
  },
  {
   "cell_type": "code",
   "execution_count": 76,
   "metadata": {},
   "outputs": [],
   "source": [
    "# same day company transaction count\n",
    "sameday_comp_trxns = transactions.groupby(['customerId'\n",
    "                                 ,'transactionDate'\n",
    "                                 ,'company'])['cardLast4Digits'].nunique().reset_index().rename(columns={'cardLast4Digits':\n",
    "                                                                                      'comp_txn_count'}).sort_values(['comp_txn_count']\n",
    "                                                                                                               ,ascending=False)"
   ]
  },
  {
   "cell_type": "code",
   "execution_count": 77,
   "metadata": {},
   "outputs": [],
   "source": [
    "transactions = pd.merge(transactions, sameday_comp_trxns, on=['customerId'\n",
    "                                                              ,'transactionDate'\n",
    "                                                              ,'company'\n",
    "                                                              ], how='left')"
   ]
  },
  {
   "cell_type": "code",
   "execution_count": 78,
   "metadata": {},
   "outputs": [],
   "source": [
    "# generating date features\n",
    "for col in date_columns:\n",
    "    generate_date_features(transactions, col, drop=False)"
   ]
  },
  {
   "cell_type": "code",
   "execution_count": 79,
   "metadata": {},
   "outputs": [
    {
     "data": {
      "text/plain": [
       "(641882, 145)"
      ]
     },
     "execution_count": 79,
     "metadata": {},
     "output_type": "execute_result"
    }
   ],
   "source": [
    "transactions.shape"
   ]
  },
  {
   "cell_type": "code",
   "execution_count": 80,
   "metadata": {},
   "outputs": [],
   "source": [
    "# changing object data type to category\n",
    "train_cats(transactions)"
   ]
  },
  {
   "cell_type": "code",
   "execution_count": 81,
   "metadata": {},
   "outputs": [],
   "source": [
    "transactions['isFraud'] = np.where(transactions['isFraud'] == True, 1, 0)"
   ]
  },
  {
   "cell_type": "markdown",
   "metadata": {},
   "source": [
    "### Model Building"
   ]
  },
  {
   "cell_type": "code",
   "execution_count": 82,
   "metadata": {},
   "outputs": [],
   "source": [
    "train = transactions[transactions['transactionDate'] < '2016-12-01']\n",
    "test = transactions[transactions['transactionDate'] >= '2016-12-01']"
   ]
  },
  {
   "cell_type": "code",
   "execution_count": 83,
   "metadata": {},
   "outputs": [],
   "source": [
    "def target_encode(df_tr, columns):\n",
    "    for col in columns:\n",
    "        print(col)\n",
    "        cumsum = df_tr.groupby(col)['isFraud'].cumsum() -  df_tr['isFraud']\n",
    "        cumcnt = df_tr.groupby(col).cumcount()\n",
    "        df_tr[col+'_mean_target'] = cumsum/cumcnt\n",
    "        df_tr[col+'_mean_target'].fillna(df_tr[col+'_mean_target'].mean(),inplace=True)\n",
    "    return df_tr"
   ]
  },
  {
   "cell_type": "code",
   "execution_count": 84,
   "metadata": {},
   "outputs": [
    {
     "name": "stdout",
     "output_type": "stream",
     "text": [
      "company\n"
     ]
    },
    {
     "name": "stderr",
     "output_type": "stream",
     "text": [
      "/Library/Frameworks/Python.framework/Versions/3.6/lib/python3.6/site-packages/ipykernel_launcher.py:6: SettingWithCopyWarning: \n",
      "A value is trying to be set on a copy of a slice from a DataFrame.\n",
      "Try using .loc[row_indexer,col_indexer] = value instead\n",
      "\n",
      "See the caveats in the documentation: http://pandas.pydata.org/pandas-docs/stable/indexing.html#indexing-view-versus-copy\n",
      "  \n",
      "/Library/Frameworks/Python.framework/Versions/3.6/lib/python3.6/site-packages/pandas/core/generic.py:5434: SettingWithCopyWarning: \n",
      "A value is trying to be set on a copy of a slice from a DataFrame\n",
      "\n",
      "See the caveats in the documentation: http://pandas.pydata.org/pandas-docs/stable/indexing.html#indexing-view-versus-copy\n",
      "  self._update_inplace(new_data)\n"
     ]
    },
    {
     "name": "stdout",
     "output_type": "stream",
     "text": [
      "merchantCategoryCode\n",
      "merchantName\n"
     ]
    }
   ],
   "source": [
    "train = target_encode(train, ['company', 'merchantCategoryCode', 'merchantName'])"
   ]
  },
  {
   "cell_type": "code",
   "execution_count": 85,
   "metadata": {},
   "outputs": [],
   "source": [
    "# Entropy features\n",
    "company_target = train.groupby(['company'], as_index=False)['company_mean_target'].agg(['mean']).rename(columns={'mean':'company_mean_target'\n",
    "                                                                                                 }\n",
    "                                                                                       )\n",
    "\n",
    "category_target = train.groupby(['merchantCategoryCode'], as_index=False)['merchantCategoryCode_mean_target'].agg(['mean']).rename(columns={'mean':'merchantCategoryCode_mean_target'\n",
    "                                                                                                 }\n",
    "                                                                                       )\n",
    "\n",
    "merchant_target = train.groupby(['merchantName'], as_index=False)['merchantName_mean_target'].agg(['mean']).rename(columns={'mean':'merchantName_mean_target'\n",
    "                                                                                                 }\n",
    "                                                                                       )"
   ]
  },
  {
   "cell_type": "code",
   "execution_count": 86,
   "metadata": {},
   "outputs": [],
   "source": [
    "test = pd.merge(test, company_target, on=['company'], how='left')\n",
    "test = pd.merge(test, category_target, on=['merchantCategoryCode'], how='left')\n",
    "test = pd.merge(test, merchant_target, on=['merchantName'], how='left')"
   ]
  },
  {
   "cell_type": "code",
   "execution_count": 87,
   "metadata": {},
   "outputs": [],
   "source": [
    "company_entropy = train.groupby(['customerId'])['company'].apply(entropy).reset_index().rename(columns={'company':\n",
    "                                                                                                       'company_entropy'\n",
    "                                                                                                       }\n",
    "                                                                                                      )\n",
    "\n",
    "category_entropy = train.groupby(['customerId'])['merchantCategoryCode'].apply(entropy).reset_index().rename(columns={'merchantCategoryCode':\n",
    "                                                                                                               'category_entropy'\n",
    "                                                                                                               }\n",
    "                                                                                                      )\n",
    "\n",
    "merchant_entropy = train.groupby(['customerId'])['merchantName'].apply(entropy).reset_index().rename(columns={'merchantName':\n",
    "                                                                                                               'merchant_entropy'\n",
    "                                                                                                               }\n",
    "                                                                                                      )\n",
    "\n"
   ]
  },
  {
   "cell_type": "code",
   "execution_count": 88,
   "metadata": {},
   "outputs": [],
   "source": [
    "train = pd.merge(train, company_entropy, on=['customerId'], how='left')\n",
    "train = pd.merge(train, category_entropy, on=['customerId'], how='left')\n",
    "train = pd.merge(train, merchant_entropy, on=['customerId'], how='left')"
   ]
  },
  {
   "cell_type": "code",
   "execution_count": 89,
   "metadata": {},
   "outputs": [],
   "source": [
    "test = pd.merge(test, company_entropy, on=['customerId'], how='left')\n",
    "test = pd.merge(test, category_entropy, on=['customerId'], how='left')\n",
    "test = pd.merge(test, merchant_entropy, on=['customerId'], how='left')"
   ]
  },
  {
   "cell_type": "code",
   "execution_count": 90,
   "metadata": {},
   "outputs": [],
   "source": [
    "unwanted_cols = ['accountNumber'\n",
    "                 ,'accountOpenDate'\n",
    "                 ,'currentExpDate'\n",
    "                 ,'customerId'\n",
    "                 ,'dateOfLastAddressChange'\n",
    "                 ,'transactionDateTime'\n",
    "#                  ,'multiswipe_txns'\n",
    "                 ,'cardCVV'\n",
    "                 ,'cardLast4Digits'\n",
    "                 ,'enteredCVV'\n",
    "                 ,'merchantName'\n",
    "                 ,'StoreNo'\n",
    "                ]"
   ]
  },
  {
   "cell_type": "code",
   "execution_count": 91,
   "metadata": {},
   "outputs": [],
   "source": [
    "df_train, y_train, nas = proc_df(train, 'isFraud', skip_flds=unwanted_cols, ignore_flds=['transactionDate'])\n",
    "df_test, y_test, nas = proc_df(test, 'isFraud', skip_flds=unwanted_cols, ignore_flds=['transactionDate'])"
   ]
  },
  {
   "cell_type": "code",
   "execution_count": 92,
   "metadata": {},
   "outputs": [],
   "source": [
    "## Splitting the data set into train and validation\n",
    "X_trn, X_val, y_trn, y_val = train_test_split_sorted(df_train\n",
    "                                                     , y_train\n",
    "                                                     , 0.195\n",
    "                                                     , df_train['transactionDate']\n",
    "                                                    )"
   ]
  },
  {
   "cell_type": "code",
   "execution_count": 93,
   "metadata": {},
   "outputs": [
    {
     "data": {
      "text/plain": [
       "(Timestamp('2016-01-01 00:00:00'), Timestamp('2016-09-30 00:00:00'))"
      ]
     },
     "execution_count": 93,
     "metadata": {},
     "output_type": "execute_result"
    }
   ],
   "source": [
    "min(X_trn['transactionDate']), max(X_trn['transactionDate'])"
   ]
  },
  {
   "cell_type": "code",
   "execution_count": 94,
   "metadata": {},
   "outputs": [
    {
     "data": {
      "text/plain": [
       "(Timestamp('2016-09-30 00:00:00'), Timestamp('2016-11-30 00:00:00'))"
      ]
     },
     "execution_count": 94,
     "metadata": {},
     "output_type": "execute_result"
    }
   ],
   "source": [
    "min(X_val['transactionDate']), max(X_val['transactionDate'])"
   ]
  },
  {
   "cell_type": "code",
   "execution_count": 95,
   "metadata": {},
   "outputs": [
    {
     "name": "stderr",
     "output_type": "stream",
     "text": [
      "/Library/Frameworks/Python.framework/Versions/3.6/lib/python3.6/site-packages/pandas/core/frame.py:3697: SettingWithCopyWarning: \n",
      "A value is trying to be set on a copy of a slice from a DataFrame\n",
      "\n",
      "See the caveats in the documentation: http://pandas.pydata.org/pandas-docs/stable/indexing.html#indexing-view-versus-copy\n",
      "  errors=errors)\n"
     ]
    },
    {
     "data": {
      "text/html": [
       "<div>\n",
       "<style scoped>\n",
       "    .dataframe tbody tr th:only-of-type {\n",
       "        vertical-align: middle;\n",
       "    }\n",
       "\n",
       "    .dataframe tbody tr th {\n",
       "        vertical-align: top;\n",
       "    }\n",
       "\n",
       "    .dataframe thead th {\n",
       "        text-align: right;\n",
       "    }\n",
       "</style>\n",
       "<table border=\"1\" class=\"dataframe\">\n",
       "  <thead>\n",
       "    <tr style=\"text-align: right;\">\n",
       "      <th></th>\n",
       "      <th>acqCountry</th>\n",
       "      <th>availableMoney</th>\n",
       "      <th>cardPresent</th>\n",
       "      <th>creditLimit</th>\n",
       "      <th>currentBalance</th>\n",
       "      <th>expirationDateKeyInMatch</th>\n",
       "      <th>merchantCategoryCode</th>\n",
       "      <th>merchantCountryCode</th>\n",
       "      <th>posConditionCode</th>\n",
       "      <th>posEntryMode</th>\n",
       "      <th>transactionAmount</th>\n",
       "      <th>transactionType</th>\n",
       "      <th>multiswipe_txns</th>\n",
       "      <th>account_age</th>\n",
       "      <th>days_to_expire</th>\n",
       "      <th>card_valid_days</th>\n",
       "      <th>days_from_recent_addr_change</th>\n",
       "      <th>days_from_open_addr_change</th>\n",
       "      <th>same_country_flag</th>\n",
       "      <th>valid_details_flag</th>\n",
       "      <th>risky_category_flag</th>\n",
       "      <th>trxn_idx_customerid</th>\n",
       "      <th>days_since_last_trxn</th>\n",
       "      <th>trxn_idx_customerid_merchantname</th>\n",
       "      <th>company</th>\n",
       "      <th>trxn_idx_customerid_company</th>\n",
       "      <th>days_since_last_trxn_company</th>\n",
       "      <th>trxn_idx_customerid_category</th>\n",
       "      <th>days_since_last_trxn_category</th>\n",
       "      <th>tr_amt_age_ratio</th>\n",
       "      <th>cr_limit_age_ratio</th>\n",
       "      <th>tr_amt_limit_ratio</th>\n",
       "      <th>avail_amt_limit_ratio</th>\n",
       "      <th>cur_bal_limit_ratio</th>\n",
       "      <th>tr_amt_curbal_ratio</th>\n",
       "      <th>avail_amt_curbal_ratio</th>\n",
       "      <th>tr_avail_amt_ratio</th>\n",
       "      <th>min_transactionAmount</th>\n",
       "      <th>max_transactionAmount</th>\n",
       "      <th>mean_transactionAmount</th>\n",
       "      <th>median_transactionAmount</th>\n",
       "      <th>min_merchcode_txnAmt</th>\n",
       "      <th>max_merchcode_txnAmt</th>\n",
       "      <th>mean_merchcode_txnAmt</th>\n",
       "      <th>mediancode_merch_txnAmt</th>\n",
       "      <th>min_merch_txnAmt</th>\n",
       "      <th>max_merch_txnAmt</th>\n",
       "      <th>mean_merch_txnAmt</th>\n",
       "      <th>median_merch_txnAmt</th>\n",
       "      <th>min_comp_txnAmt</th>\n",
       "      <th>max_comp_txnAmt</th>\n",
       "      <th>mean_comp_txnAmt</th>\n",
       "      <th>median_comp_txnAmt</th>\n",
       "      <th>min_poscode_txnAmt</th>\n",
       "      <th>max_poscode_txnAmt</th>\n",
       "      <th>mean_poscode_txnAmt</th>\n",
       "      <th>median_poscode_txnAmt</th>\n",
       "      <th>min_posmode_txnAmt</th>\n",
       "      <th>max_posmode_txnAmt</th>\n",
       "      <th>mean_posmode_txnAmt</th>\n",
       "      <th>median_posmode_txnAmt</th>\n",
       "      <th>min_cardprsnt_txnAmt</th>\n",
       "      <th>max_cardprsnt_txnAmt</th>\n",
       "      <th>mean_cardprsnt_txnAmt</th>\n",
       "      <th>median_cardprsnt_txnAmt</th>\n",
       "      <th>cards_count</th>\n",
       "      <th>txn_count</th>\n",
       "      <th>comp_txn_count</th>\n",
       "      <th>accountOpenYear</th>\n",
       "      <th>accountOpenMonth</th>\n",
       "      <th>accountOpenWeek</th>\n",
       "      <th>accountOpenDay</th>\n",
       "      <th>accountOpenDayofweek</th>\n",
       "      <th>accountOpenDayofyear</th>\n",
       "      <th>accountOpenIs_month_end</th>\n",
       "      <th>accountOpenIs_month_start</th>\n",
       "      <th>accountOpenIs_quarter_end</th>\n",
       "      <th>accountOpenIs_quarter_start</th>\n",
       "      <th>accountOpenIs_year_end</th>\n",
       "      <th>accountOpenIs_year_start</th>\n",
       "      <th>accountOpenHour</th>\n",
       "      <th>accountOpenMinute</th>\n",
       "      <th>accountOpenSecond</th>\n",
       "      <th>accountOpen_isweekend</th>\n",
       "      <th>dateOfLastAddressChangeYear</th>\n",
       "      <th>dateOfLastAddressChangeMonth</th>\n",
       "      <th>dateOfLastAddressChangeWeek</th>\n",
       "      <th>dateOfLastAddressChangeDay</th>\n",
       "      <th>dateOfLastAddressChangeDayofweek</th>\n",
       "      <th>dateOfLastAddressChangeDayofyear</th>\n",
       "      <th>dateOfLastAddressChangeIs_month_end</th>\n",
       "      <th>dateOfLastAddressChangeIs_month_start</th>\n",
       "      <th>dateOfLastAddressChangeIs_quarter_end</th>\n",
       "      <th>dateOfLastAddressChangeIs_quarter_start</th>\n",
       "      <th>dateOfLastAddressChangeIs_year_end</th>\n",
       "      <th>dateOfLastAddressChangeIs_year_start</th>\n",
       "      <th>dateOfLastAddressChangeHour</th>\n",
       "      <th>dateOfLastAddressChangeMinute</th>\n",
       "      <th>dateOfLastAddressChangeSecond</th>\n",
       "      <th>dateOfLastAddressChange_isweekend</th>\n",
       "      <th>currentExpYear</th>\n",
       "      <th>currentExpMonth</th>\n",
       "      <th>currentExpWeek</th>\n",
       "      <th>currentExpDay</th>\n",
       "      <th>currentExpDayofweek</th>\n",
       "      <th>currentExpDayofyear</th>\n",
       "      <th>currentExpIs_month_end</th>\n",
       "      <th>currentExpIs_month_start</th>\n",
       "      <th>currentExpIs_quarter_end</th>\n",
       "      <th>currentExpIs_quarter_start</th>\n",
       "      <th>currentExpIs_year_end</th>\n",
       "      <th>currentExpIs_year_start</th>\n",
       "      <th>currentExpHour</th>\n",
       "      <th>currentExpMinute</th>\n",
       "      <th>currentExpSecond</th>\n",
       "      <th>currentExp_isweekend</th>\n",
       "      <th>transactionDateTimeYear</th>\n",
       "      <th>transactionDateTimeMonth</th>\n",
       "      <th>transactionDateTimeWeek</th>\n",
       "      <th>transactionDateTimeDay</th>\n",
       "      <th>transactionDateTimeDayofweek</th>\n",
       "      <th>transactionDateTimeDayofyear</th>\n",
       "      <th>transactionDateTimeIs_month_end</th>\n",
       "      <th>transactionDateTimeIs_month_start</th>\n",
       "      <th>transactionDateTimeIs_quarter_end</th>\n",
       "      <th>transactionDateTimeIs_quarter_start</th>\n",
       "      <th>transactionDateTimeIs_year_end</th>\n",
       "      <th>transactionDateTimeIs_year_start</th>\n",
       "      <th>transactionDateTimeHour</th>\n",
       "      <th>transactionDateTimeMinute</th>\n",
       "      <th>transactionDateTimeSecond</th>\n",
       "      <th>transactionDateTime_isweekend</th>\n",
       "      <th>company_mean_target</th>\n",
       "      <th>merchantCategoryCode_mean_target</th>\n",
       "      <th>merchantName_mean_target</th>\n",
       "      <th>company_entropy</th>\n",
       "      <th>category_entropy</th>\n",
       "      <th>merchant_entropy</th>\n",
       "    </tr>\n",
       "  </thead>\n",
       "  <tbody>\n",
       "    <tr>\n",
       "      <th>729</th>\n",
       "      <td>4</td>\n",
       "      <td>7500.00</td>\n",
       "      <td>2</td>\n",
       "      <td>7500</td>\n",
       "      <td>0.00</td>\n",
       "      <td>False</td>\n",
       "      <td>4</td>\n",
       "      <td>4</td>\n",
       "      <td>1</td>\n",
       "      <td>3</td>\n",
       "      <td>53.42</td>\n",
       "      <td>2</td>\n",
       "      <td>1</td>\n",
       "      <td>915</td>\n",
       "      <td>5722</td>\n",
       "      <td>6637</td>\n",
       "      <td>915</td>\n",
       "      <td>0</td>\n",
       "      <td>True</td>\n",
       "      <td>True</td>\n",
       "      <td>1</td>\n",
       "      <td>1</td>\n",
       "      <td>1.0</td>\n",
       "      <td>1</td>\n",
       "      <td>62</td>\n",
       "      <td>1</td>\n",
       "      <td>7.0</td>\n",
       "      <td>1</td>\n",
       "      <td>1.0</td>\n",
       "      <td>0.058383</td>\n",
       "      <td>8.196721</td>\n",
       "      <td>0.007123</td>\n",
       "      <td>1.000000</td>\n",
       "      <td>0.000000</td>\n",
       "      <td>0.000000</td>\n",
       "      <td>0.000000</td>\n",
       "      <td>0.007123</td>\n",
       "      <td>0.00</td>\n",
       "      <td>823.81</td>\n",
       "      <td>139.370741</td>\n",
       "      <td>84.68</td>\n",
       "      <td>0.0</td>\n",
       "      <td>1743.51</td>\n",
       "      <td>144.308133</td>\n",
       "      <td>98.58</td>\n",
       "      <td>0.0</td>\n",
       "      <td>1060.46</td>\n",
       "      <td>144.883866</td>\n",
       "      <td>99.265</td>\n",
       "      <td>0.0</td>\n",
       "      <td>1633.89</td>\n",
       "      <td>146.009866</td>\n",
       "      <td>99.690</td>\n",
       "      <td>0.0</td>\n",
       "      <td>1825.25</td>\n",
       "      <td>135.052382</td>\n",
       "      <td>85.520</td>\n",
       "      <td>0.0</td>\n",
       "      <td>1825.25</td>\n",
       "      <td>134.979797</td>\n",
       "      <td>85.44</td>\n",
       "      <td>0.0</td>\n",
       "      <td>1743.51</td>\n",
       "      <td>141.933895</td>\n",
       "      <td>92.43</td>\n",
       "      <td>1</td>\n",
       "      <td>1</td>\n",
       "      <td>1</td>\n",
       "      <td>2013</td>\n",
       "      <td>6</td>\n",
       "      <td>26</td>\n",
       "      <td>30</td>\n",
       "      <td>6</td>\n",
       "      <td>181</td>\n",
       "      <td>True</td>\n",
       "      <td>False</td>\n",
       "      <td>True</td>\n",
       "      <td>False</td>\n",
       "      <td>False</td>\n",
       "      <td>False</td>\n",
       "      <td>0</td>\n",
       "      <td>0</td>\n",
       "      <td>0</td>\n",
       "      <td>1</td>\n",
       "      <td>2013</td>\n",
       "      <td>6</td>\n",
       "      <td>26</td>\n",
       "      <td>30</td>\n",
       "      <td>6</td>\n",
       "      <td>181</td>\n",
       "      <td>True</td>\n",
       "      <td>False</td>\n",
       "      <td>True</td>\n",
       "      <td>False</td>\n",
       "      <td>False</td>\n",
       "      <td>False</td>\n",
       "      <td>0</td>\n",
       "      <td>0</td>\n",
       "      <td>0</td>\n",
       "      <td>1</td>\n",
       "      <td>2031</td>\n",
       "      <td>9</td>\n",
       "      <td>36</td>\n",
       "      <td>1</td>\n",
       "      <td>0</td>\n",
       "      <td>244</td>\n",
       "      <td>False</td>\n",
       "      <td>True</td>\n",
       "      <td>False</td>\n",
       "      <td>False</td>\n",
       "      <td>False</td>\n",
       "      <td>False</td>\n",
       "      <td>0</td>\n",
       "      <td>0</td>\n",
       "      <td>0</td>\n",
       "      <td>0</td>\n",
       "      <td>2016</td>\n",
       "      <td>1</td>\n",
       "      <td>53</td>\n",
       "      <td>1</td>\n",
       "      <td>4</td>\n",
       "      <td>1</td>\n",
       "      <td>False</td>\n",
       "      <td>True</td>\n",
       "      <td>False</td>\n",
       "      <td>True</td>\n",
       "      <td>False</td>\n",
       "      <td>True</td>\n",
       "      <td>23</td>\n",
       "      <td>38</td>\n",
       "      <td>40</td>\n",
       "      <td>0</td>\n",
       "      <td>0.040000</td>\n",
       "      <td>0.084615</td>\n",
       "      <td>0.000000</td>\n",
       "      <td>3.418035</td>\n",
       "      <td>1.401465</td>\n",
       "      <td>4.350371</td>\n",
       "    </tr>\n",
       "    <tr>\n",
       "      <th>1210</th>\n",
       "      <td>4</td>\n",
       "      <td>5000.00</td>\n",
       "      <td>1</td>\n",
       "      <td>5000</td>\n",
       "      <td>0.00</td>\n",
       "      <td>False</td>\n",
       "      <td>15</td>\n",
       "      <td>4</td>\n",
       "      <td>2</td>\n",
       "      <td>3</td>\n",
       "      <td>80.42</td>\n",
       "      <td>2</td>\n",
       "      <td>1</td>\n",
       "      <td>225</td>\n",
       "      <td>1155</td>\n",
       "      <td>1380</td>\n",
       "      <td>225</td>\n",
       "      <td>0</td>\n",
       "      <td>True</td>\n",
       "      <td>True</td>\n",
       "      <td>1</td>\n",
       "      <td>1</td>\n",
       "      <td>1.0</td>\n",
       "      <td>1</td>\n",
       "      <td>186</td>\n",
       "      <td>1</td>\n",
       "      <td>7.0</td>\n",
       "      <td>1</td>\n",
       "      <td>1.0</td>\n",
       "      <td>0.357422</td>\n",
       "      <td>22.222222</td>\n",
       "      <td>0.016084</td>\n",
       "      <td>1.000000</td>\n",
       "      <td>0.000000</td>\n",
       "      <td>0.000000</td>\n",
       "      <td>0.000000</td>\n",
       "      <td>0.016084</td>\n",
       "      <td>0.00</td>\n",
       "      <td>1043.17</td>\n",
       "      <td>141.964173</td>\n",
       "      <td>91.96</td>\n",
       "      <td>0.0</td>\n",
       "      <td>1825.25</td>\n",
       "      <td>146.292001</td>\n",
       "      <td>99.47</td>\n",
       "      <td>0.0</td>\n",
       "      <td>853.94</td>\n",
       "      <td>143.632258</td>\n",
       "      <td>98.250</td>\n",
       "      <td>0.0</td>\n",
       "      <td>1375.43</td>\n",
       "      <td>144.852979</td>\n",
       "      <td>97.930</td>\n",
       "      <td>0.0</td>\n",
       "      <td>1633.89</td>\n",
       "      <td>135.666540</td>\n",
       "      <td>86.765</td>\n",
       "      <td>0.0</td>\n",
       "      <td>1825.25</td>\n",
       "      <td>134.979797</td>\n",
       "      <td>85.44</td>\n",
       "      <td>0.0</td>\n",
       "      <td>1825.25</td>\n",
       "      <td>129.172338</td>\n",
       "      <td>79.76</td>\n",
       "      <td>1</td>\n",
       "      <td>1</td>\n",
       "      <td>1</td>\n",
       "      <td>2015</td>\n",
       "      <td>5</td>\n",
       "      <td>21</td>\n",
       "      <td>21</td>\n",
       "      <td>3</td>\n",
       "      <td>141</td>\n",
       "      <td>False</td>\n",
       "      <td>False</td>\n",
       "      <td>False</td>\n",
       "      <td>False</td>\n",
       "      <td>False</td>\n",
       "      <td>False</td>\n",
       "      <td>0</td>\n",
       "      <td>0</td>\n",
       "      <td>0</td>\n",
       "      <td>0</td>\n",
       "      <td>2015</td>\n",
       "      <td>5</td>\n",
       "      <td>21</td>\n",
       "      <td>21</td>\n",
       "      <td>3</td>\n",
       "      <td>141</td>\n",
       "      <td>False</td>\n",
       "      <td>False</td>\n",
       "      <td>False</td>\n",
       "      <td>False</td>\n",
       "      <td>False</td>\n",
       "      <td>False</td>\n",
       "      <td>0</td>\n",
       "      <td>0</td>\n",
       "      <td>0</td>\n",
       "      <td>0</td>\n",
       "      <td>2019</td>\n",
       "      <td>3</td>\n",
       "      <td>9</td>\n",
       "      <td>1</td>\n",
       "      <td>4</td>\n",
       "      <td>60</td>\n",
       "      <td>False</td>\n",
       "      <td>True</td>\n",
       "      <td>False</td>\n",
       "      <td>False</td>\n",
       "      <td>False</td>\n",
       "      <td>False</td>\n",
       "      <td>0</td>\n",
       "      <td>0</td>\n",
       "      <td>0</td>\n",
       "      <td>0</td>\n",
       "      <td>2016</td>\n",
       "      <td>1</td>\n",
       "      <td>53</td>\n",
       "      <td>1</td>\n",
       "      <td>4</td>\n",
       "      <td>1</td>\n",
       "      <td>False</td>\n",
       "      <td>True</td>\n",
       "      <td>False</td>\n",
       "      <td>True</td>\n",
       "      <td>False</td>\n",
       "      <td>True</td>\n",
       "      <td>13</td>\n",
       "      <td>1</td>\n",
       "      <td>31</td>\n",
       "      <td>0</td>\n",
       "      <td>0.000000</td>\n",
       "      <td>0.020906</td>\n",
       "      <td>0.000000</td>\n",
       "      <td>2.888501</td>\n",
       "      <td>0.556620</td>\n",
       "      <td>2.888501</td>\n",
       "    </tr>\n",
       "    <tr>\n",
       "      <th>1814</th>\n",
       "      <td>4</td>\n",
       "      <td>5000.00</td>\n",
       "      <td>1</td>\n",
       "      <td>5000</td>\n",
       "      <td>0.00</td>\n",
       "      <td>False</td>\n",
       "      <td>15</td>\n",
       "      <td>4</td>\n",
       "      <td>1</td>\n",
       "      <td>3</td>\n",
       "      <td>79.61</td>\n",
       "      <td>2</td>\n",
       "      <td>1</td>\n",
       "      <td>321</td>\n",
       "      <td>4961</td>\n",
       "      <td>5282</td>\n",
       "      <td>321</td>\n",
       "      <td>0</td>\n",
       "      <td>True</td>\n",
       "      <td>True</td>\n",
       "      <td>1</td>\n",
       "      <td>1</td>\n",
       "      <td>1.0</td>\n",
       "      <td>1</td>\n",
       "      <td>194</td>\n",
       "      <td>1</td>\n",
       "      <td>7.0</td>\n",
       "      <td>1</td>\n",
       "      <td>1.0</td>\n",
       "      <td>0.248006</td>\n",
       "      <td>15.576324</td>\n",
       "      <td>0.015922</td>\n",
       "      <td>1.000000</td>\n",
       "      <td>0.000000</td>\n",
       "      <td>0.000000</td>\n",
       "      <td>0.000000</td>\n",
       "      <td>0.015922</td>\n",
       "      <td>3.32</td>\n",
       "      <td>894.80</td>\n",
       "      <td>185.435301</td>\n",
       "      <td>121.49</td>\n",
       "      <td>0.0</td>\n",
       "      <td>1825.25</td>\n",
       "      <td>146.292001</td>\n",
       "      <td>99.47</td>\n",
       "      <td>0.0</td>\n",
       "      <td>853.94</td>\n",
       "      <td>143.632258</td>\n",
       "      <td>98.250</td>\n",
       "      <td>0.0</td>\n",
       "      <td>1455.05</td>\n",
       "      <td>145.611915</td>\n",
       "      <td>98.325</td>\n",
       "      <td>0.0</td>\n",
       "      <td>1825.25</td>\n",
       "      <td>135.052382</td>\n",
       "      <td>85.520</td>\n",
       "      <td>0.0</td>\n",
       "      <td>1825.25</td>\n",
       "      <td>134.979797</td>\n",
       "      <td>85.44</td>\n",
       "      <td>0.0</td>\n",
       "      <td>1825.25</td>\n",
       "      <td>129.172338</td>\n",
       "      <td>79.76</td>\n",
       "      <td>2</td>\n",
       "      <td>1</td>\n",
       "      <td>1</td>\n",
       "      <td>2015</td>\n",
       "      <td>2</td>\n",
       "      <td>7</td>\n",
       "      <td>14</td>\n",
       "      <td>5</td>\n",
       "      <td>45</td>\n",
       "      <td>False</td>\n",
       "      <td>False</td>\n",
       "      <td>False</td>\n",
       "      <td>False</td>\n",
       "      <td>False</td>\n",
       "      <td>False</td>\n",
       "      <td>0</td>\n",
       "      <td>0</td>\n",
       "      <td>0</td>\n",
       "      <td>1</td>\n",
       "      <td>2015</td>\n",
       "      <td>2</td>\n",
       "      <td>7</td>\n",
       "      <td>14</td>\n",
       "      <td>5</td>\n",
       "      <td>45</td>\n",
       "      <td>False</td>\n",
       "      <td>False</td>\n",
       "      <td>False</td>\n",
       "      <td>False</td>\n",
       "      <td>False</td>\n",
       "      <td>False</td>\n",
       "      <td>0</td>\n",
       "      <td>0</td>\n",
       "      <td>0</td>\n",
       "      <td>1</td>\n",
       "      <td>2029</td>\n",
       "      <td>8</td>\n",
       "      <td>31</td>\n",
       "      <td>1</td>\n",
       "      <td>2</td>\n",
       "      <td>213</td>\n",
       "      <td>False</td>\n",
       "      <td>True</td>\n",
       "      <td>False</td>\n",
       "      <td>False</td>\n",
       "      <td>False</td>\n",
       "      <td>False</td>\n",
       "      <td>0</td>\n",
       "      <td>0</td>\n",
       "      <td>0</td>\n",
       "      <td>0</td>\n",
       "      <td>2016</td>\n",
       "      <td>1</td>\n",
       "      <td>53</td>\n",
       "      <td>1</td>\n",
       "      <td>4</td>\n",
       "      <td>1</td>\n",
       "      <td>False</td>\n",
       "      <td>True</td>\n",
       "      <td>False</td>\n",
       "      <td>True</td>\n",
       "      <td>False</td>\n",
       "      <td>True</td>\n",
       "      <td>23</td>\n",
       "      <td>4</td>\n",
       "      <td>44</td>\n",
       "      <td>0</td>\n",
       "      <td>0.012987</td>\n",
       "      <td>0.014581</td>\n",
       "      <td>0.012987</td>\n",
       "      <td>3.089837</td>\n",
       "      <td>1.003144</td>\n",
       "      <td>3.174346</td>\n",
       "    </tr>\n",
       "    <tr>\n",
       "      <th>2117</th>\n",
       "      <td>4</td>\n",
       "      <td>10000.00</td>\n",
       "      <td>2</td>\n",
       "      <td>10000</td>\n",
       "      <td>0.00</td>\n",
       "      <td>False</td>\n",
       "      <td>4</td>\n",
       "      <td>4</td>\n",
       "      <td>1</td>\n",
       "      <td>3</td>\n",
       "      <td>5.96</td>\n",
       "      <td>2</td>\n",
       "      <td>1</td>\n",
       "      <td>825</td>\n",
       "      <td>4961</td>\n",
       "      <td>5786</td>\n",
       "      <td>825</td>\n",
       "      <td>0</td>\n",
       "      <td>True</td>\n",
       "      <td>True</td>\n",
       "      <td>1</td>\n",
       "      <td>1</td>\n",
       "      <td>1.0</td>\n",
       "      <td>1</td>\n",
       "      <td>14</td>\n",
       "      <td>1</td>\n",
       "      <td>7.0</td>\n",
       "      <td>1</td>\n",
       "      <td>1.0</td>\n",
       "      <td>0.007224</td>\n",
       "      <td>12.121212</td>\n",
       "      <td>0.000596</td>\n",
       "      <td>1.000000</td>\n",
       "      <td>0.000000</td>\n",
       "      <td>0.000000</td>\n",
       "      <td>0.000000</td>\n",
       "      <td>0.000596</td>\n",
       "      <td>0.00</td>\n",
       "      <td>351.14</td>\n",
       "      <td>81.640667</td>\n",
       "      <td>57.85</td>\n",
       "      <td>0.0</td>\n",
       "      <td>1743.51</td>\n",
       "      <td>144.308133</td>\n",
       "      <td>98.58</td>\n",
       "      <td>0.0</td>\n",
       "      <td>1243.44</td>\n",
       "      <td>140.643290</td>\n",
       "      <td>97.410</td>\n",
       "      <td>0.0</td>\n",
       "      <td>1743.51</td>\n",
       "      <td>143.081923</td>\n",
       "      <td>97.925</td>\n",
       "      <td>0.0</td>\n",
       "      <td>1825.25</td>\n",
       "      <td>135.052382</td>\n",
       "      <td>85.520</td>\n",
       "      <td>0.0</td>\n",
       "      <td>1825.25</td>\n",
       "      <td>134.979797</td>\n",
       "      <td>85.44</td>\n",
       "      <td>0.0</td>\n",
       "      <td>1743.51</td>\n",
       "      <td>141.933895</td>\n",
       "      <td>92.43</td>\n",
       "      <td>2</td>\n",
       "      <td>1</td>\n",
       "      <td>1</td>\n",
       "      <td>2013</td>\n",
       "      <td>9</td>\n",
       "      <td>39</td>\n",
       "      <td>28</td>\n",
       "      <td>5</td>\n",
       "      <td>271</td>\n",
       "      <td>False</td>\n",
       "      <td>False</td>\n",
       "      <td>False</td>\n",
       "      <td>False</td>\n",
       "      <td>False</td>\n",
       "      <td>False</td>\n",
       "      <td>0</td>\n",
       "      <td>0</td>\n",
       "      <td>0</td>\n",
       "      <td>1</td>\n",
       "      <td>2013</td>\n",
       "      <td>9</td>\n",
       "      <td>39</td>\n",
       "      <td>28</td>\n",
       "      <td>5</td>\n",
       "      <td>271</td>\n",
       "      <td>False</td>\n",
       "      <td>False</td>\n",
       "      <td>False</td>\n",
       "      <td>False</td>\n",
       "      <td>False</td>\n",
       "      <td>False</td>\n",
       "      <td>0</td>\n",
       "      <td>0</td>\n",
       "      <td>0</td>\n",
       "      <td>1</td>\n",
       "      <td>2029</td>\n",
       "      <td>8</td>\n",
       "      <td>31</td>\n",
       "      <td>1</td>\n",
       "      <td>2</td>\n",
       "      <td>213</td>\n",
       "      <td>False</td>\n",
       "      <td>True</td>\n",
       "      <td>False</td>\n",
       "      <td>False</td>\n",
       "      <td>False</td>\n",
       "      <td>False</td>\n",
       "      <td>0</td>\n",
       "      <td>0</td>\n",
       "      <td>0</td>\n",
       "      <td>0</td>\n",
       "      <td>2016</td>\n",
       "      <td>1</td>\n",
       "      <td>53</td>\n",
       "      <td>1</td>\n",
       "      <td>4</td>\n",
       "      <td>1</td>\n",
       "      <td>False</td>\n",
       "      <td>True</td>\n",
       "      <td>False</td>\n",
       "      <td>True</td>\n",
       "      <td>False</td>\n",
       "      <td>True</td>\n",
       "      <td>17</td>\n",
       "      <td>35</td>\n",
       "      <td>23</td>\n",
       "      <td>0</td>\n",
       "      <td>0.000000</td>\n",
       "      <td>0.044000</td>\n",
       "      <td>0.000000</td>\n",
       "      <td>1.352727</td>\n",
       "      <td>0.770389</td>\n",
       "      <td>2.842754</td>\n",
       "    </tr>\n",
       "    <tr>\n",
       "      <th>2118</th>\n",
       "      <td>4</td>\n",
       "      <td>9994.04</td>\n",
       "      <td>2</td>\n",
       "      <td>10000</td>\n",
       "      <td>5.96</td>\n",
       "      <td>False</td>\n",
       "      <td>4</td>\n",
       "      <td>4</td>\n",
       "      <td>1</td>\n",
       "      <td>1</td>\n",
       "      <td>32.77</td>\n",
       "      <td>2</td>\n",
       "      <td>1</td>\n",
       "      <td>825</td>\n",
       "      <td>974</td>\n",
       "      <td>1799</td>\n",
       "      <td>825</td>\n",
       "      <td>0</td>\n",
       "      <td>True</td>\n",
       "      <td>True</td>\n",
       "      <td>1</td>\n",
       "      <td>2</td>\n",
       "      <td>0.0</td>\n",
       "      <td>1</td>\n",
       "      <td>62</td>\n",
       "      <td>1</td>\n",
       "      <td>7.0</td>\n",
       "      <td>2</td>\n",
       "      <td>0.0</td>\n",
       "      <td>0.039721</td>\n",
       "      <td>12.121212</td>\n",
       "      <td>0.003277</td>\n",
       "      <td>0.999404</td>\n",
       "      <td>0.000596</td>\n",
       "      <td>5.498322</td>\n",
       "      <td>1676.852349</td>\n",
       "      <td>0.003279</td>\n",
       "      <td>0.00</td>\n",
       "      <td>351.14</td>\n",
       "      <td>81.640667</td>\n",
       "      <td>57.85</td>\n",
       "      <td>0.0</td>\n",
       "      <td>1743.51</td>\n",
       "      <td>144.308133</td>\n",
       "      <td>98.58</td>\n",
       "      <td>0.0</td>\n",
       "      <td>1272.50</td>\n",
       "      <td>150.626047</td>\n",
       "      <td>102.980</td>\n",
       "      <td>0.0</td>\n",
       "      <td>1633.89</td>\n",
       "      <td>146.009866</td>\n",
       "      <td>99.690</td>\n",
       "      <td>0.0</td>\n",
       "      <td>1825.25</td>\n",
       "      <td>135.052382</td>\n",
       "      <td>85.520</td>\n",
       "      <td>0.0</td>\n",
       "      <td>1513.40</td>\n",
       "      <td>134.934313</td>\n",
       "      <td>85.52</td>\n",
       "      <td>0.0</td>\n",
       "      <td>1743.51</td>\n",
       "      <td>141.933895</td>\n",
       "      <td>92.43</td>\n",
       "      <td>2</td>\n",
       "      <td>1</td>\n",
       "      <td>1</td>\n",
       "      <td>2013</td>\n",
       "      <td>9</td>\n",
       "      <td>39</td>\n",
       "      <td>28</td>\n",
       "      <td>5</td>\n",
       "      <td>271</td>\n",
       "      <td>False</td>\n",
       "      <td>False</td>\n",
       "      <td>False</td>\n",
       "      <td>False</td>\n",
       "      <td>False</td>\n",
       "      <td>False</td>\n",
       "      <td>0</td>\n",
       "      <td>0</td>\n",
       "      <td>0</td>\n",
       "      <td>1</td>\n",
       "      <td>2013</td>\n",
       "      <td>9</td>\n",
       "      <td>39</td>\n",
       "      <td>28</td>\n",
       "      <td>5</td>\n",
       "      <td>271</td>\n",
       "      <td>False</td>\n",
       "      <td>False</td>\n",
       "      <td>False</td>\n",
       "      <td>False</td>\n",
       "      <td>False</td>\n",
       "      <td>False</td>\n",
       "      <td>0</td>\n",
       "      <td>0</td>\n",
       "      <td>0</td>\n",
       "      <td>1</td>\n",
       "      <td>2018</td>\n",
       "      <td>9</td>\n",
       "      <td>35</td>\n",
       "      <td>1</td>\n",
       "      <td>5</td>\n",
       "      <td>244</td>\n",
       "      <td>False</td>\n",
       "      <td>True</td>\n",
       "      <td>False</td>\n",
       "      <td>False</td>\n",
       "      <td>False</td>\n",
       "      <td>False</td>\n",
       "      <td>0</td>\n",
       "      <td>0</td>\n",
       "      <td>0</td>\n",
       "      <td>1</td>\n",
       "      <td>2016</td>\n",
       "      <td>1</td>\n",
       "      <td>53</td>\n",
       "      <td>1</td>\n",
       "      <td>4</td>\n",
       "      <td>1</td>\n",
       "      <td>False</td>\n",
       "      <td>True</td>\n",
       "      <td>False</td>\n",
       "      <td>True</td>\n",
       "      <td>False</td>\n",
       "      <td>True</td>\n",
       "      <td>18</td>\n",
       "      <td>45</td>\n",
       "      <td>43</td>\n",
       "      <td>0</td>\n",
       "      <td>0.019608</td>\n",
       "      <td>0.043825</td>\n",
       "      <td>0.000000</td>\n",
       "      <td>1.352727</td>\n",
       "      <td>0.770389</td>\n",
       "      <td>2.842754</td>\n",
       "    </tr>\n",
       "  </tbody>\n",
       "</table>\n",
       "</div>"
      ],
      "text/plain": [
       "      acqCountry  availableMoney  cardPresent  creditLimit  currentBalance  \\\n",
       "729            4         7500.00            2         7500            0.00   \n",
       "1210           4         5000.00            1         5000            0.00   \n",
       "1814           4         5000.00            1         5000            0.00   \n",
       "2117           4        10000.00            2        10000            0.00   \n",
       "2118           4         9994.04            2        10000            5.96   \n",
       "\n",
       "      expirationDateKeyInMatch  merchantCategoryCode  merchantCountryCode  \\\n",
       "729                      False                     4                    4   \n",
       "1210                     False                    15                    4   \n",
       "1814                     False                    15                    4   \n",
       "2117                     False                     4                    4   \n",
       "2118                     False                     4                    4   \n",
       "\n",
       "      posConditionCode  posEntryMode  transactionAmount  transactionType  \\\n",
       "729                  1             3              53.42                2   \n",
       "1210                 2             3              80.42                2   \n",
       "1814                 1             3              79.61                2   \n",
       "2117                 1             3               5.96                2   \n",
       "2118                 1             1              32.77                2   \n",
       "\n",
       "      multiswipe_txns  account_age  days_to_expire  card_valid_days  \\\n",
       "729                 1          915            5722             6637   \n",
       "1210                1          225            1155             1380   \n",
       "1814                1          321            4961             5282   \n",
       "2117                1          825            4961             5786   \n",
       "2118                1          825             974             1799   \n",
       "\n",
       "      days_from_recent_addr_change  days_from_open_addr_change  \\\n",
       "729                            915                           0   \n",
       "1210                           225                           0   \n",
       "1814                           321                           0   \n",
       "2117                           825                           0   \n",
       "2118                           825                           0   \n",
       "\n",
       "      same_country_flag  valid_details_flag  risky_category_flag  \\\n",
       "729                True                True                    1   \n",
       "1210               True                True                    1   \n",
       "1814               True                True                    1   \n",
       "2117               True                True                    1   \n",
       "2118               True                True                    1   \n",
       "\n",
       "      trxn_idx_customerid  days_since_last_trxn  \\\n",
       "729                     1                   1.0   \n",
       "1210                    1                   1.0   \n",
       "1814                    1                   1.0   \n",
       "2117                    1                   1.0   \n",
       "2118                    2                   0.0   \n",
       "\n",
       "      trxn_idx_customerid_merchantname  company  trxn_idx_customerid_company  \\\n",
       "729                                  1       62                            1   \n",
       "1210                                 1      186                            1   \n",
       "1814                                 1      194                            1   \n",
       "2117                                 1       14                            1   \n",
       "2118                                 1       62                            1   \n",
       "\n",
       "      days_since_last_trxn_company  trxn_idx_customerid_category  \\\n",
       "729                            7.0                             1   \n",
       "1210                           7.0                             1   \n",
       "1814                           7.0                             1   \n",
       "2117                           7.0                             1   \n",
       "2118                           7.0                             2   \n",
       "\n",
       "      days_since_last_trxn_category  tr_amt_age_ratio  cr_limit_age_ratio  \\\n",
       "729                             1.0          0.058383            8.196721   \n",
       "1210                            1.0          0.357422           22.222222   \n",
       "1814                            1.0          0.248006           15.576324   \n",
       "2117                            1.0          0.007224           12.121212   \n",
       "2118                            0.0          0.039721           12.121212   \n",
       "\n",
       "      tr_amt_limit_ratio  avail_amt_limit_ratio  cur_bal_limit_ratio  \\\n",
       "729             0.007123               1.000000             0.000000   \n",
       "1210            0.016084               1.000000             0.000000   \n",
       "1814            0.015922               1.000000             0.000000   \n",
       "2117            0.000596               1.000000             0.000000   \n",
       "2118            0.003277               0.999404             0.000596   \n",
       "\n",
       "      tr_amt_curbal_ratio  avail_amt_curbal_ratio  tr_avail_amt_ratio  \\\n",
       "729              0.000000                0.000000            0.007123   \n",
       "1210             0.000000                0.000000            0.016084   \n",
       "1814             0.000000                0.000000            0.015922   \n",
       "2117             0.000000                0.000000            0.000596   \n",
       "2118             5.498322             1676.852349            0.003279   \n",
       "\n",
       "      min_transactionAmount  max_transactionAmount  mean_transactionAmount  \\\n",
       "729                    0.00                 823.81              139.370741   \n",
       "1210                   0.00                1043.17              141.964173   \n",
       "1814                   3.32                 894.80              185.435301   \n",
       "2117                   0.00                 351.14               81.640667   \n",
       "2118                   0.00                 351.14               81.640667   \n",
       "\n",
       "      median_transactionAmount  min_merchcode_txnAmt  max_merchcode_txnAmt  \\\n",
       "729                      84.68                   0.0               1743.51   \n",
       "1210                     91.96                   0.0               1825.25   \n",
       "1814                    121.49                   0.0               1825.25   \n",
       "2117                     57.85                   0.0               1743.51   \n",
       "2118                     57.85                   0.0               1743.51   \n",
       "\n",
       "      mean_merchcode_txnAmt  mediancode_merch_txnAmt  min_merch_txnAmt  \\\n",
       "729              144.308133                    98.58               0.0   \n",
       "1210             146.292001                    99.47               0.0   \n",
       "1814             146.292001                    99.47               0.0   \n",
       "2117             144.308133                    98.58               0.0   \n",
       "2118             144.308133                    98.58               0.0   \n",
       "\n",
       "      max_merch_txnAmt  mean_merch_txnAmt  median_merch_txnAmt  \\\n",
       "729            1060.46         144.883866               99.265   \n",
       "1210            853.94         143.632258               98.250   \n",
       "1814            853.94         143.632258               98.250   \n",
       "2117           1243.44         140.643290               97.410   \n",
       "2118           1272.50         150.626047              102.980   \n",
       "\n",
       "      min_comp_txnAmt  max_comp_txnAmt  mean_comp_txnAmt  median_comp_txnAmt  \\\n",
       "729               0.0          1633.89        146.009866              99.690   \n",
       "1210              0.0          1375.43        144.852979              97.930   \n",
       "1814              0.0          1455.05        145.611915              98.325   \n",
       "2117              0.0          1743.51        143.081923              97.925   \n",
       "2118              0.0          1633.89        146.009866              99.690   \n",
       "\n",
       "      min_poscode_txnAmt  max_poscode_txnAmt  mean_poscode_txnAmt  \\\n",
       "729                  0.0             1825.25           135.052382   \n",
       "1210                 0.0             1633.89           135.666540   \n",
       "1814                 0.0             1825.25           135.052382   \n",
       "2117                 0.0             1825.25           135.052382   \n",
       "2118                 0.0             1825.25           135.052382   \n",
       "\n",
       "      median_poscode_txnAmt  min_posmode_txnAmt  max_posmode_txnAmt  \\\n",
       "729                  85.520                 0.0             1825.25   \n",
       "1210                 86.765                 0.0             1825.25   \n",
       "1814                 85.520                 0.0             1825.25   \n",
       "2117                 85.520                 0.0             1825.25   \n",
       "2118                 85.520                 0.0             1513.40   \n",
       "\n",
       "      mean_posmode_txnAmt  median_posmode_txnAmt  min_cardprsnt_txnAmt  \\\n",
       "729            134.979797                  85.44                   0.0   \n",
       "1210           134.979797                  85.44                   0.0   \n",
       "1814           134.979797                  85.44                   0.0   \n",
       "2117           134.979797                  85.44                   0.0   \n",
       "2118           134.934313                  85.52                   0.0   \n",
       "\n",
       "      max_cardprsnt_txnAmt  mean_cardprsnt_txnAmt  median_cardprsnt_txnAmt  \\\n",
       "729                1743.51             141.933895                    92.43   \n",
       "1210               1825.25             129.172338                    79.76   \n",
       "1814               1825.25             129.172338                    79.76   \n",
       "2117               1743.51             141.933895                    92.43   \n",
       "2118               1743.51             141.933895                    92.43   \n",
       "\n",
       "      cards_count  txn_count  comp_txn_count  accountOpenYear  \\\n",
       "729             1          1               1             2013   \n",
       "1210            1          1               1             2015   \n",
       "1814            2          1               1             2015   \n",
       "2117            2          1               1             2013   \n",
       "2118            2          1               1             2013   \n",
       "\n",
       "      accountOpenMonth  accountOpenWeek  accountOpenDay  accountOpenDayofweek  \\\n",
       "729                  6               26              30                     6   \n",
       "1210                 5               21              21                     3   \n",
       "1814                 2                7              14                     5   \n",
       "2117                 9               39              28                     5   \n",
       "2118                 9               39              28                     5   \n",
       "\n",
       "      accountOpenDayofyear  accountOpenIs_month_end  \\\n",
       "729                    181                     True   \n",
       "1210                   141                    False   \n",
       "1814                    45                    False   \n",
       "2117                   271                    False   \n",
       "2118                   271                    False   \n",
       "\n",
       "      accountOpenIs_month_start  accountOpenIs_quarter_end  \\\n",
       "729                       False                       True   \n",
       "1210                      False                      False   \n",
       "1814                      False                      False   \n",
       "2117                      False                      False   \n",
       "2118                      False                      False   \n",
       "\n",
       "      accountOpenIs_quarter_start  accountOpenIs_year_end  \\\n",
       "729                         False                   False   \n",
       "1210                        False                   False   \n",
       "1814                        False                   False   \n",
       "2117                        False                   False   \n",
       "2118                        False                   False   \n",
       "\n",
       "      accountOpenIs_year_start  accountOpenHour  accountOpenMinute  \\\n",
       "729                      False                0                  0   \n",
       "1210                     False                0                  0   \n",
       "1814                     False                0                  0   \n",
       "2117                     False                0                  0   \n",
       "2118                     False                0                  0   \n",
       "\n",
       "      accountOpenSecond  accountOpen_isweekend  dateOfLastAddressChangeYear  \\\n",
       "729                   0                      1                         2013   \n",
       "1210                  0                      0                         2015   \n",
       "1814                  0                      1                         2015   \n",
       "2117                  0                      1                         2013   \n",
       "2118                  0                      1                         2013   \n",
       "\n",
       "      dateOfLastAddressChangeMonth  dateOfLastAddressChangeWeek  \\\n",
       "729                              6                           26   \n",
       "1210                             5                           21   \n",
       "1814                             2                            7   \n",
       "2117                             9                           39   \n",
       "2118                             9                           39   \n",
       "\n",
       "      dateOfLastAddressChangeDay  dateOfLastAddressChangeDayofweek  \\\n",
       "729                           30                                 6   \n",
       "1210                          21                                 3   \n",
       "1814                          14                                 5   \n",
       "2117                          28                                 5   \n",
       "2118                          28                                 5   \n",
       "\n",
       "      dateOfLastAddressChangeDayofyear  dateOfLastAddressChangeIs_month_end  \\\n",
       "729                                181                                 True   \n",
       "1210                               141                                False   \n",
       "1814                                45                                False   \n",
       "2117                               271                                False   \n",
       "2118                               271                                False   \n",
       "\n",
       "      dateOfLastAddressChangeIs_month_start  \\\n",
       "729                                   False   \n",
       "1210                                  False   \n",
       "1814                                  False   \n",
       "2117                                  False   \n",
       "2118                                  False   \n",
       "\n",
       "      dateOfLastAddressChangeIs_quarter_end  \\\n",
       "729                                    True   \n",
       "1210                                  False   \n",
       "1814                                  False   \n",
       "2117                                  False   \n",
       "2118                                  False   \n",
       "\n",
       "      dateOfLastAddressChangeIs_quarter_start  \\\n",
       "729                                     False   \n",
       "1210                                    False   \n",
       "1814                                    False   \n",
       "2117                                    False   \n",
       "2118                                    False   \n",
       "\n",
       "      dateOfLastAddressChangeIs_year_end  \\\n",
       "729                                False   \n",
       "1210                               False   \n",
       "1814                               False   \n",
       "2117                               False   \n",
       "2118                               False   \n",
       "\n",
       "      dateOfLastAddressChangeIs_year_start  dateOfLastAddressChangeHour  \\\n",
       "729                                  False                            0   \n",
       "1210                                 False                            0   \n",
       "1814                                 False                            0   \n",
       "2117                                 False                            0   \n",
       "2118                                 False                            0   \n",
       "\n",
       "      dateOfLastAddressChangeMinute  dateOfLastAddressChangeSecond  \\\n",
       "729                               0                              0   \n",
       "1210                              0                              0   \n",
       "1814                              0                              0   \n",
       "2117                              0                              0   \n",
       "2118                              0                              0   \n",
       "\n",
       "      dateOfLastAddressChange_isweekend  currentExpYear  currentExpMonth  \\\n",
       "729                                   1            2031                9   \n",
       "1210                                  0            2019                3   \n",
       "1814                                  1            2029                8   \n",
       "2117                                  1            2029                8   \n",
       "2118                                  1            2018                9   \n",
       "\n",
       "      currentExpWeek  currentExpDay  currentExpDayofweek  currentExpDayofyear  \\\n",
       "729               36              1                    0                  244   \n",
       "1210               9              1                    4                   60   \n",
       "1814              31              1                    2                  213   \n",
       "2117              31              1                    2                  213   \n",
       "2118              35              1                    5                  244   \n",
       "\n",
       "      currentExpIs_month_end  currentExpIs_month_start  \\\n",
       "729                    False                      True   \n",
       "1210                   False                      True   \n",
       "1814                   False                      True   \n",
       "2117                   False                      True   \n",
       "2118                   False                      True   \n",
       "\n",
       "      currentExpIs_quarter_end  currentExpIs_quarter_start  \\\n",
       "729                      False                       False   \n",
       "1210                     False                       False   \n",
       "1814                     False                       False   \n",
       "2117                     False                       False   \n",
       "2118                     False                       False   \n",
       "\n",
       "      currentExpIs_year_end  currentExpIs_year_start  currentExpHour  \\\n",
       "729                   False                    False               0   \n",
       "1210                  False                    False               0   \n",
       "1814                  False                    False               0   \n",
       "2117                  False                    False               0   \n",
       "2118                  False                    False               0   \n",
       "\n",
       "      currentExpMinute  currentExpSecond  currentExp_isweekend  \\\n",
       "729                  0                 0                     0   \n",
       "1210                 0                 0                     0   \n",
       "1814                 0                 0                     0   \n",
       "2117                 0                 0                     0   \n",
       "2118                 0                 0                     1   \n",
       "\n",
       "      transactionDateTimeYear  transactionDateTimeMonth  \\\n",
       "729                      2016                         1   \n",
       "1210                     2016                         1   \n",
       "1814                     2016                         1   \n",
       "2117                     2016                         1   \n",
       "2118                     2016                         1   \n",
       "\n",
       "      transactionDateTimeWeek  transactionDateTimeDay  \\\n",
       "729                        53                       1   \n",
       "1210                       53                       1   \n",
       "1814                       53                       1   \n",
       "2117                       53                       1   \n",
       "2118                       53                       1   \n",
       "\n",
       "      transactionDateTimeDayofweek  transactionDateTimeDayofyear  \\\n",
       "729                              4                             1   \n",
       "1210                             4                             1   \n",
       "1814                             4                             1   \n",
       "2117                             4                             1   \n",
       "2118                             4                             1   \n",
       "\n",
       "      transactionDateTimeIs_month_end  transactionDateTimeIs_month_start  \\\n",
       "729                             False                               True   \n",
       "1210                            False                               True   \n",
       "1814                            False                               True   \n",
       "2117                            False                               True   \n",
       "2118                            False                               True   \n",
       "\n",
       "      transactionDateTimeIs_quarter_end  transactionDateTimeIs_quarter_start  \\\n",
       "729                               False                                 True   \n",
       "1210                              False                                 True   \n",
       "1814                              False                                 True   \n",
       "2117                              False                                 True   \n",
       "2118                              False                                 True   \n",
       "\n",
       "      transactionDateTimeIs_year_end  transactionDateTimeIs_year_start  \\\n",
       "729                            False                              True   \n",
       "1210                           False                              True   \n",
       "1814                           False                              True   \n",
       "2117                           False                              True   \n",
       "2118                           False                              True   \n",
       "\n",
       "      transactionDateTimeHour  transactionDateTimeMinute  \\\n",
       "729                        23                         38   \n",
       "1210                       13                          1   \n",
       "1814                       23                          4   \n",
       "2117                       17                         35   \n",
       "2118                       18                         45   \n",
       "\n",
       "      transactionDateTimeSecond  transactionDateTime_isweekend  \\\n",
       "729                          40                              0   \n",
       "1210                         31                              0   \n",
       "1814                         44                              0   \n",
       "2117                         23                              0   \n",
       "2118                         43                              0   \n",
       "\n",
       "      company_mean_target  merchantCategoryCode_mean_target  \\\n",
       "729              0.040000                          0.084615   \n",
       "1210             0.000000                          0.020906   \n",
       "1814             0.012987                          0.014581   \n",
       "2117             0.000000                          0.044000   \n",
       "2118             0.019608                          0.043825   \n",
       "\n",
       "      merchantName_mean_target  company_entropy  category_entropy  \\\n",
       "729                   0.000000         3.418035          1.401465   \n",
       "1210                  0.000000         2.888501          0.556620   \n",
       "1814                  0.012987         3.089837          1.003144   \n",
       "2117                  0.000000         1.352727          0.770389   \n",
       "2118                  0.000000         1.352727          0.770389   \n",
       "\n",
       "      merchant_entropy  \n",
       "729           4.350371  \n",
       "1210          2.888501  \n",
       "1814          3.174346  \n",
       "2117          2.842754  \n",
       "2118          2.842754  "
      ]
     },
     "metadata": {},
     "output_type": "display_data"
    }
   ],
   "source": [
    "X_trn.drop('transactionDate', axis=1, inplace=True)\n",
    "X_val.drop('transactionDate', axis=1, inplace=True)\n",
    "df_test.drop('transactionDate', axis=1, inplace=True)\n",
    "display_all(X_trn.head())"
   ]
  },
  {
   "cell_type": "code",
   "execution_count": 96,
   "metadata": {},
   "outputs": [],
   "source": [
    "def print_scores(model_name, ml_model):\n",
    "    \n",
    "    print(f'Scores for {model_name} model\\n')\n",
    "    if(model_name != 'Light GBM'):\n",
    "        valid_preds_prob = ml_model.predict_proba(X_val)[:,1]\n",
    "        test_preds_prob = ml_model.predict_proba(df_test)[:,1]\n",
    "        \n",
    "    if(model_name == 'Light GBM'):\n",
    "        valid_preds_prob = ml_model.predict(X_val)\n",
    "        test_preds_prob = ml_model.predict(df_test)\n",
    "    \n",
    "    valid_fpr, valid_tpr, valid_thresholds = metrics.roc_curve(y_val, valid_preds_prob)\n",
    "    \n",
    "    test_fpr, test_tpr, test_thresholds = metrics.roc_curve(y_test, test_preds_prob)\n",
    "\n",
    "    print(f'Valid AUC : {round(metrics.auc(valid_fpr, valid_tpr),3)}')\n",
    "    \n",
    "    print(f'Test AUC : {round(metrics.auc(test_fpr, test_tpr),3)}\\n')\n",
    "        \n",
    "    plt.plot(valid_fpr, valid_tpr, 'g', label = 'Valid AUC = %0.3f' %metrics.auc(valid_fpr, valid_tpr))\n",
    "    plt.plot(test_fpr, test_tpr, 'b', label = 'Test AUC = %0.3f' %metrics.auc(test_fpr, test_tpr))\n",
    "    plt.legend(loc='lower right')\n",
    "    plt.plot([0,1], [0,1], 'r--')\n",
    "    plt.xlim([0.0,1.0])\n",
    "    plt.ylim([0.0,1.0])\n",
    "    plt.rcParams['font.size'] = 12\n",
    "    plt.title(f'ROC curve - {model_name} model')\n",
    "    plt.xlabel('FPR')\n",
    "    plt.ylabel('TPR')\n",
    "    plt.grid(True)"
   ]
  },
  {
   "cell_type": "markdown",
   "metadata": {},
   "source": [
    "## LightGBM Model implementation"
   ]
  },
  {
   "cell_type": "code",
   "execution_count": 97,
   "metadata": {},
   "outputs": [
    {
     "name": "stdout",
     "output_type": "stream",
     "text": [
      "Training until validation scores don't improve for 50 rounds.\n",
      "[100]\ttrain's auc: 0.81004\tvalid's auc: 0.805544\n",
      "[200]\ttrain's auc: 0.819151\tvalid's auc: 0.80963\n",
      "[300]\ttrain's auc: 0.828467\tvalid's auc: 0.81395\n",
      "[400]\ttrain's auc: 0.836815\tvalid's auc: 0.817229\n",
      "[500]\ttrain's auc: 0.844878\tvalid's auc: 0.820098\n",
      "[600]\ttrain's auc: 0.852563\tvalid's auc: 0.822567\n",
      "[700]\ttrain's auc: 0.859373\tvalid's auc: 0.824293\n",
      "[800]\ttrain's auc: 0.865445\tvalid's auc: 0.825339\n",
      "[900]\ttrain's auc: 0.871077\tvalid's auc: 0.825854\n",
      "[1000]\ttrain's auc: 0.87658\tvalid's auc: 0.826494\n",
      "[1100]\ttrain's auc: 0.881592\tvalid's auc: 0.827066\n",
      "[1200]\ttrain's auc: 0.886227\tvalid's auc: 0.827579\n",
      "[1300]\ttrain's auc: 0.890748\tvalid's auc: 0.82817\n",
      "Early stopping, best iteration is:\n",
      "[1324]\ttrain's auc: 0.891811\tvalid's auc: 0.828296\n"
     ]
    }
   ],
   "source": [
    "lgtrain = lgb.Dataset(X_trn, y_trn) #, categorical_feature=categorical_columns\n",
    "lgval = lgb.Dataset(X_val, y_val) #, categorical_feature=categorical_columns\n",
    "\n",
    "params = {\n",
    "    \"objective\" : \"binary\",\n",
    "    \"metric\" : \"auc\",\n",
    "    \"boosting\": \"gbdt\",\n",
    "    \"max_depth\" : 7,\n",
    "    \"learning_rate\" : 0.01,\n",
    "    \"feature_fraction\" : 0.7,\n",
    "    \"bagging_fraction\" : 0.7,\n",
    "    \"verbosity\" : -1,\n",
    "    \"is_unbalance\" : True,\n",
    "    \"random_seed\" : 2019\n",
    "}\n",
    "evals_result = {}\n",
    "lgb_model = lgb.train(params\n",
    "                  , lgtrain\n",
    "                  , 3000\n",
    "                  , valid_sets = [lgval, lgtrain]\n",
    "                  , valid_names = ['valid', 'train']\n",
    "                  , early_stopping_rounds=50\n",
    "                  , verbose_eval=100\n",
    "                  , feature_name=X_trn.columns.tolist()\n",
    "                  , evals_result=evals_result\n",
    "                 )"
   ]
  },
  {
   "cell_type": "markdown",
   "metadata": {},
   "source": [
    "### Feature importance"
   ]
  },
  {
   "cell_type": "code",
   "execution_count": 98,
   "metadata": {},
   "outputs": [
    {
     "data": {
      "image/png": "[encoded data removed]",
      "text/plain": [
       "<Figure size 864x720 with 1 Axes>"
      ]
     },
     "metadata": {},
     "output_type": "display_data"
    }
   ],
   "source": [
    "# Top 25 features\n",
    "fig, ax = plt.subplots(figsize=(12,10))\n",
    "lgb.plot_importance(lgb_model, max_num_features=25, height=0.8, ax=ax)\n",
    "ax.grid(False)\n",
    "plt.title(\"LightGBM - Feature Importance\", fontsize=15)\n",
    "plt.show()"
   ]
  },
  {
   "cell_type": "markdown",
   "metadata": {},
   "source": [
    "#### Transaction amount is the most important feature followed by company_mean_entropy and company_mean_target."
   ]
  },
  {
   "cell_type": "code",
   "execution_count": 99,
   "metadata": {},
   "outputs": [
    {
     "name": "stdout",
     "output_type": "stream",
     "text": [
      "Plotting metrics recorded during training...\n"
     ]
    },
    {
     "data": {
      "image/png": "[encoded data removed]",
      "text/plain": [
       "<Figure size 432x288 with 1 Axes>"
      ]
     },
     "metadata": {},
     "output_type": "display_data"
    }
   ],
   "source": [
    "print('Plotting metrics recorded during training...')\n",
    "ax = lgb.plot_metric(evals_result, metric='auc')\n",
    "plt.show()"
   ]
  },
  {
   "cell_type": "code",
   "execution_count": 100,
   "metadata": {},
   "outputs": [
    {
     "name": "stdout",
     "output_type": "stream",
     "text": [
      "Scores for Light GBM model\n",
      "\n",
      "Valid AUC : 0.828\n",
      "Test AUC : 0.829\n",
      "\n"
     ]
    },
    {
     "data": {
      "image/png": "[encoded data removed]",
      "text/plain": [
       "<Figure size 432x288 with 1 Axes>"
      ]
     },
     "metadata": {},
     "output_type": "display_data"
    }
   ],
   "source": [
    "print_scores('Light GBM', lgb_model)"
   ]
  },
  {
   "cell_type": "markdown",
   "metadata": {},
   "source": [
    "#### The validation and the test auc scores are consistent and the model did not overfit on the training data. "
   ]
  }
 ],
 "metadata": {
  "kernelspec": {
   "display_name": "Python 3",
   "language": "python",
   "name": "python3"
  },
  "language_info": {
   "codemirror_mode": {
    "name": "ipython",
    "version": 3
   },
   "file_extension": ".py",
   "mimetype": "text/x-python",
   "name": "python",
   "nbconvert_exporter": "python",
   "pygments_lexer": "ipython3",
   "version": "3.6.8"
  }
 },
 "nbformat": 4,
 "nbformat_minor": 2
}
